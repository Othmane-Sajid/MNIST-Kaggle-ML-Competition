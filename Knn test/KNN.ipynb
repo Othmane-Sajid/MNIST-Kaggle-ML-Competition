{
  "cells": [
    {
      "cell_type": "markdown",
      "metadata": {
        "id": "OSDv-wTBq11O"
      },
      "source": [
        "\n",
        "## Fonctions utilitaires"
      ]
    },
    {
      "cell_type": "code",
      "execution_count": 1,
      "metadata": {
        "id": "mVlw-ooKq11T"
      },
      "outputs": [],
      "source": [
        "\n",
        "import numpy as np\n",
        "import random\n",
        "import matplotlib.pyplot as plt\n",
        "import time\n",
        "import sys\n",
        "import pandas as pd\n"
      ]
    },
    {
      "cell_type": "markdown",
      "metadata": {
        "id": "aCyOu-6Lq11f"
      },
      "source": [
        "Distance Minkowski entre un vecteur x et une matrice Y"
      ]
    },
    {
      "cell_type": "code",
      "execution_count": 2,
      "metadata": {
        "id": "VKHzxMjiq11h"
      },
      "outputs": [],
      "source": [
        "def minkowski_mat(x, Y, p=2):\n",
        "    return (np.sum((np.abs(x - Y)) ** p, axis=1)) ** (1.0 / p)"
      ]
    },
    {
      "cell_type": "markdown",
      "metadata": {
        "id": "Y0csAL-Fq11l"
      },
      "source": [
        "Matrice de confusion\n"
      ]
    },
    {
      "cell_type": "code",
      "execution_count": 3,
      "metadata": {
        "id": "HNXWb2ujq11n"
      },
      "outputs": [],
      "source": [
        "def conf_matrix(testlabels, predlabels):\n",
        "\n",
        "    n_classes = 19 \n",
        "    matrix = np.zeros((n_classes,n_classes))\n",
        "    \n",
        "\n",
        "    for (test, pred) in zip(testlabels, predlabels):\n",
        "        matrix[int(test)-1,int(pred)-1]+=1\n",
        "    return matrix"
      ]
    },
    {
      "cell_type": "markdown",
      "metadata": {
        "id": "Te_pw7u3q11x"
      },
      "source": [
        "## NeighborhoodClassifier/KNN Class"
      ]
    },
    {
      "cell_type": "code",
      "execution_count": 5,
      "metadata": {},
      "outputs": [],
      "source": [
        "#Inspired by labo2\n",
        "class NeighborhoodClassifier:\n",
        "    def __init__(self, dist_func=minkowski_mat, k=1):\n",
        "\n",
        "        self.dist_func = dist_func\n",
        "        self.k = k\n",
        "\n",
        "    # The train function for knn \n",
        "    def train(self, train_inputs, train_labels):\n",
        "        self.train_inputs = train_inputs\n",
        "        self.train_labels = train_labels\n",
        "        self.n_classes = len(np.unique(train_labels))\n",
        "\n",
        "    # The prediction function takes as input test_data and returns an array containing the predicted classes. \n",
        "    def compute_predictions(self, test_data):\n",
        "        # Initialization of the count matrix and the predicted classes array\n",
        "        num_test = test_data.shape[0] #nombre de lignes de test\n",
        "        counts = np.ones((num_test, self.n_classes)) \n",
        "        classes_pred = np.zeros(num_test) \n",
        "        # For each test datapoint\n",
        "        \n",
        "        for (i, ex) in enumerate(test_data):\n",
        "  \n",
        "          \n",
        "            # i is the row index\n",
        "            # ex is the i'th row\n",
        "\n",
        "            # Find the distances to each training set point using dist_func\n",
        "            \n",
        "          distances = self.dist_func(ex,self.train_inputs)\n",
        "\n",
        "\n",
        "          labelToCount = np.array([])\n",
        "          \n",
        "          labeltoCount = [self.train_labels[int(x)] for x in np.argsort(distances)[:self.k]]\n",
        "\n",
        "            \n",
        "            # Calculate the number of neighbors belonging to each class and write them in counts[i,:]\n",
        "            \n",
        "          for label in range(self.n_classes):\n",
        "            counts[i,label] = labeltoCount.count(label+1)\n",
        "\n",
        "           \n",
        "            # From the counts matrix, define classes_pred[i]\n",
        "            \n",
        "\n",
        "          classes_pred[i] = int(np.argmax(counts[i]) + 1) \n",
        "        return classes_pred.astype('int32')"
      ]
    },
    {
      "cell_type": "markdown",
      "metadata": {},
      "source": [
        "## Loading DATAS"
      ]
    },
    {
      "cell_type": "code",
      "execution_count": 6,
      "metadata": {},
      "outputs": [],
      "source": [
        "\n",
        "mnist = pd.read_csv(\"classification-of-mnist-digits/train.csv\")\n",
        "mnist_labels = pd.read_csv(\"classification-of-mnist-digits/train_result.csv\")\n",
        "mnist_test = pd.read_csv(\"classification-of-mnist-digits/test.csv\")"
      ]
    },
    {
      "cell_type": "markdown",
      "metadata": {},
      "source": [
        "With validation set"
      ]
    },
    {
      "cell_type": "code",
      "execution_count": 7,
      "metadata": {
        "id": "ensHg-diq116"
      },
      "outputs": [],
      "source": [
        "# load mnist\n",
        "\n",
        "\n",
        "# Number of classes\n",
        "n_classes = 19\n",
        "# Size of training set\n",
        "n_train = 40000\n",
        "\n",
        "data = np.array(mnist)[:50000,:-1] \n",
        "labels = np.array(mnist_labels)[:50000,1] # labels sans index\n",
        "\n",
        "\n",
        "# The columns (features) on which to train our model\n",
        "\n",
        "train_cols = [x for x in range(56*28)]\n",
        "\n",
        "\n",
        "# Comment to have random (non-deterministic) results\n",
        "random.seed(3395)\n",
        "# Randomly choose indexes for the train and test dataset\n",
        "inds = list(range(data.shape[0]))\n",
        "random.shuffle(inds)\n",
        "train_inds = inds[:n_train]\n",
        "test_inds = inds[n_train:]\n",
        "\n",
        "# Split the data into both sets\n",
        "train_set = data[train_inds, :]\n",
        "train_set = train_set[:, train_cols] \n",
        "valid_set = data[test_inds, :]\n",
        "valid_set = valid_set[:, train_cols]\n",
        "\n",
        "# Separate the test set into inputs and labels\n",
        "valid_inputs = valid_set\n",
        "valid_labels = labels[test_inds]\n",
        "train_inputs = train_set\n",
        "train_labels = labels[train_inds]\n",
        "\n"
      ]
    },
    {
      "cell_type": "markdown",
      "metadata": {},
      "source": [
        "On test set"
      ]
    },
    {
      "cell_type": "code",
      "execution_count": 24,
      "metadata": {},
      "outputs": [],
      "source": [
        "# load mnist\n",
        "\n",
        "\n",
        "# Number of classes\n",
        "n_classes = 19\n",
        "# Size of training set\n",
        "n_train=50000\n",
        "\n",
        "\n",
        "data = np.array(mnist)[:,:-1] \n",
        "labels = np.array(mnist_labels)[:,1] # labels sans index\n",
        "test = np.array(mnist_test)[:,:-1] #On enleve Nan\n",
        " \n",
        "# The columns (features) on which to train our model\n",
        "# For gridplot to work, len(train_cols) should be 2\n",
        "train_cols = [x for x in range(56*28)]\n",
        "\n",
        "\n",
        "# Comment to have random (non-deterministic) results\n",
        "random.seed(3395)\n",
        "# Randomly choose indexes for the train and test dataset\n",
        "inds = list(range(data.shape[0]))\n",
        "random.shuffle(inds)\n",
        "train_inds = inds[:n_train]\n",
        "\n",
        "\n",
        "# Split the data into both sets\n",
        "train_set = data[train_inds, :]\n",
        "test_set = test\n",
        "\n",
        "\n",
        "# Separate the test set into inputs and labels\n",
        "test_inputs = test_set\n",
        "train_inputs = train_set\n",
        "train_labels = labels[train_inds]"
      ]
    },
    {
      "cell_type": "markdown",
      "metadata": {
        "id": "rsiIojpgq11_"
      },
      "source": [
        "## Initialisation et entraînement des classifieurs\n"
      ]
    },
    {
      "cell_type": "code",
      "execution_count": null,
      "metadata": {
        "colab": {
          "base_uri": "https://localhost:8080/"
        },
        "id": "7Us0QK0eq12A",
        "outputId": "2bb4e4e2-656e-4005-f6f0-7ac163f1bd88"
      },
      "outputs": [],
      "source": [
        "# Number of neighbors (k) for knn\n",
        "k = 9\n",
        "\n",
        "# Create the classifiers\n",
        "knn = NeighborhoodClassifier(dist_func=minkowski_mat, k=k)\n",
        "\n",
        "\n",
        "# We train the models\n",
        "knn.train(train_inputs, train_labels)\n",
        "\n",
        "\n",
        "# We get predictions\n",
        "t1 = time.time()\n",
        "classes_pred_knn = knn.compute_predictions(test_inputs)\n",
        "t2 = time.time()\n",
        "print('It took knn ', t2 - t1, ' seconds to get the predictions on ', test_inputs.shape[0],' test set examples')\n"
      ]
    },
    {
      "cell_type": "markdown",
      "metadata": {},
      "source": [
        "To csv to submit"
      ]
    },
    {
      "cell_type": "code",
      "execution_count": 26,
      "metadata": {},
      "outputs": [],
      "source": [
        "\n",
        "indexes = [x for x in range(10000)]\n",
        "classes = classes_pred_knn\n",
        "\n",
        "df = pd.DataFrame({\n",
        "    'Index': indexes,\n",
        "    'Class': classes})\n",
        "\n",
        "\n",
        "df.to_csv(\"classification-of-mnist-digits/predKNN.csv\",sep=\",\",index=False)\n"
      ]
    },
    {
      "cell_type": "markdown",
      "metadata": {
        "id": "DEqE7Yxgq12E"
      },
      "source": [
        "## Matrice de confusion et surface de décision"
      ]
    },
    {
      "cell_type": "code",
      "execution_count": 9,
      "metadata": {
        "colab": {
          "base_uri": "https://localhost:8080/",
          "height": 828
        },
        "id": "wRNZpR7Tq12G",
        "outputId": "ea386e71-3d73-4810-f040-c46291a5766f"
      },
      "outputs": [
        {
          "name": "stdout",
          "output_type": "stream",
          "text": [
            "The confusion matrix is:\n",
            "The test error is  36.49 %\n",
            "Too many dimensions ( 1568 ) to print the decision boundary\n"
          ]
        }
      ],
      "source": [
        "def show_results(model, classes_pred):\n",
        "    # Confusion Matrix\n",
        "    confmat = conf_matrix(valid_labels, classes_pred)\n",
        "    print('The confusion matrix is:')\n",
        "\n",
        "    # Test error\n",
        "    sum_preds = np.sum(confmat)\n",
        "    sum_correct = np.sum(np.diag(confmat))\n",
        "    print(\"The test error is \", round(100 * (1.0 - (float(sum_correct) / float(sum_preds))), 2), \"%\")\n",
        "\n",
        "show_results(knn, classes_pred_knn)\n",
        "\n"
      ]
    },
    {
      "cell_type": "markdown",
      "metadata": {
        "id": "F49eVeWBq12J"
      },
      "source": [
        "## Optimisation of hyperparameter K\n"
      ]
    },
    {
      "cell_type": "code",
      "execution_count": 29,
      "metadata": {
        "id": "gb9p5IVRq12M"
      },
      "outputs": [],
      "source": [
        "def get_test_error(k):\n",
        "   \n",
        "    knn = NeighborhoodClassifier(dist_func=minkowski_mat, k=k)\n",
        "    knn.train(train_inputs, train_labels)\n",
        "    classes_pred_knn = knn.compute_predictions(test_inputs)\n",
        "    confmat = conf_matrix(test_labels, classes_pred_knn)\n",
        "    print(k)\n",
        "    return 1.0 - (float(np.sum(np.diag(confmat))) / float(np.sum(confmat)))\n",
        "    "
      ]
    },
    {
      "cell_type": "code",
      "execution_count": 30,
      "metadata": {
        "colab": {
          "base_uri": "https://localhost:8080/",
          "height": 279
        },
        "id": "cM1rAlPOq12Q",
        "outputId": "990612c9-bd73-4ccd-d1af-ab73a5c55eed"
      },
      "outputs": [
        {
          "name": "stdout",
          "output_type": "stream",
          "text": [
            "1\n",
            "2\n",
            "3\n",
            "4\n",
            "5\n",
            "6\n",
            "7\n",
            "8\n",
            "9\n",
            "10\n",
            "11\n",
            "12\n",
            "13\n",
            "14\n",
            "15\n",
            "16\n",
            "17\n",
            "18\n",
            "19\n",
            "20\n",
            "21\n",
            "22\n",
            "23\n",
            "24\n",
            "25\n",
            "26\n",
            "27\n",
            "28\n",
            "29\n"
          ]
        },
        {
          "data": {
            "image/png": "[encoded data removed]",
            "text/plain": [
              "<Figure size 432x288 with 1 Axes>"
            ]
          },
          "metadata": {
            "needs_background": "light"
          },
          "output_type": "display_data"
        }
      ],
      "source": [
        "plt.plot(range(1, 30), [get_test_error(k) for k in range(1, 30)], label='test error')\n",
        "plt.legend()\n",
        "plt.xlabel('number of neighbors')\n",
        "plt.show()\n"
      ]
    },
    {
      "cell_type": "markdown",
      "metadata": {},
      "source": [
        "1er essai sur petit echantillon: \n",
        "- 4000 données d'entrainement\n",
        "- 1000 données de validation\n",
        "\n",
        "![](captures/Capture.PNG)\n",
        "\n",
        "\n",
        "\n"
      ]
    },
    {
      "cell_type": "markdown",
      "metadata": {},
      "source": [
        "On se rend compte que ça décroit, donc on execute\n",
        "sur plus de voisins :\n",
        "\n",
        "![](captures/Capture2%20knn.PNG)\n",
        "\n",
        "On trouve un optimal k = 11"
      ]
    },
    {
      "cell_type": "markdown",
      "metadata": {},
      "source": [
        "On essaies donc sur un gros echantillon avec k = 11\n",
        "- 40000 données d'entrainement\n",
        "- 10000 données de validation\n",
        "après de multiples heures , on obtient le graphe suivant :\n",
        "\n",
        "![](captures/capture%203%20knn.png)"
      ]
    },
    {
      "cell_type": "markdown",
      "metadata": {},
      "source": [
        "On voit donc que le k optimal est k = 9 mais l'erreur n'est pas si loin\n",
        "de k = 11\n",
        "Il n'y aura pas de grande difference "
      ]
    },
    {
      "cell_type": "markdown",
      "metadata": {},
      "source": [
        "Obtention d'une erreur similaire sur kaggle avec les données de test"
      ]
    }
  ],
  "metadata": {
    "colab": {
      "collapsed_sections": [],
      "provenance": []
    },
    "kernelspec": {
      "display_name": "Python 3.10.5 64-bit",
      "language": "python",
      "name": "python3"
    },
    "language_info": {
      "codemirror_mode": {
        "name": "ipython",
        "version": 3
      },
      "file_extension": ".py",
      "mimetype": "text/x-python",
      "name": "python",
      "nbconvert_exporter": "python",
      "pygments_lexer": "ipython3",
      "version": "3.10.5"
    },
    "vscode": {
      "interpreter": {
        "hash": "26de051ba29f2982a8de78e945f0abaf191376122a1563185a90213a26c5da77"
      }
    }
  },
  "nbformat": 4,
  "nbformat_minor": 0
}
