{
 "cells": [
  {
   "cell_type": "code",
   "execution_count": 1,
   "metadata": {},
   "outputs": [],
   "source": [
    "import numpy as np\n",
    "import pandas as pd\n",
    "import math \n",
    "import sys\n",
    "import matplotlib.pyplot as plt\n",
    "import seaborn as sns \n",
    "%matplotlib inline\n",
    "\n"
   ]
  },
  {
   "cell_type": "code",
   "execution_count": 3,
   "metadata": {},
   "outputs": [],
   "source": [
    "X_train = np.genfromtxt('data/train.csv',  delimiter=',')\n",
    "X_train = X_train[1:,:-1]\n",
    "\n",
    "Y_train = np.genfromtxt('data/train_result.csv',  delimiter=',')\n",
    "Y_train = Y_train[1:,-1]\n",
    "\n",
    "X_test = np.genfromtxt('data/test.csv',  delimiter=',')\n",
    "X_test = X_test[1:,:-1]"
   ]
  },
  {
   "cell_type": "code",
   "execution_count": 6,
   "metadata": {},
   "outputs": [
    {
     "name": "stdout",
     "output_type": "stream",
     "text": [
      "(50000, 1568)\n"
     ]
    }
   ],
   "source": [
    "train_df = pd.read_csv('data/train.csv')"
   ]
  },
  {
   "cell_type": "code",
   "execution_count": null,
   "metadata": {},
   "outputs": [
    {
     "ename": "NameError",
     "evalue": "name 'X_train' is not defined",
     "output_type": "error",
     "traceback": [
      "\u001b[1;31m---------------------------------------------------------------------------\u001b[0m",
      "\u001b[1;31mNameError\u001b[0m                                 Traceback (most recent call last)",
      "\u001b[1;32mc:\\Othm\\UDEM_COURS\\IFT3395-Machine-Learning\\Kaggle-competition\\MNIST-Kaggle-ML-Competition\\Logistic_reg_v2.ipynb Cell 4\u001b[0m in \u001b[0;36m<cell line: 3>\u001b[1;34m()\u001b[0m\n\u001b[0;32m      <a href='vscode-notebook-cell:/c%3A/Othm/UDEM_COURS/IFT3395-Machine-Learning/Kaggle-competition/MNIST-Kaggle-ML-Competition/Logistic_reg_v2.ipynb#ch0000003?line=0'>1</a>\u001b[0m \u001b[39m# train_df.head()\u001b[39;00m\n\u001b[0;32m      <a href='vscode-notebook-cell:/c%3A/Othm/UDEM_COURS/IFT3395-Machine-Learning/Kaggle-competition/MNIST-Kaggle-ML-Competition/Logistic_reg_v2.ipynb#ch0000003?line=1'>2</a>\u001b[0m a\u001b[39m=\u001b[39m\u001b[39m3\u001b[39m\n\u001b[1;32m----> <a href='vscode-notebook-cell:/c%3A/Othm/UDEM_COURS/IFT3395-Machine-Learning/Kaggle-competition/MNIST-Kaggle-ML-Competition/Logistic_reg_v2.ipynb#ch0000003?line=2'>3</a>\u001b[0m X_train\n",
      "\u001b[1;31mNameError\u001b[0m: name 'X_train' is not defined"
     ]
    }
   ],
   "source": [
    "# train_df.head()\n"
   ]
  },
  {
   "cell_type": "code",
   "execution_count": 7,
   "metadata": {},
   "outputs": [
    {
     "name": "stdout",
     "output_type": "stream",
     "text": [
      "(50000, 1569)\n"
     ]
    },
    {
     "data": {
      "text/plain": [
       "pandas.core.frame.DataFrame"
      ]
     },
     "execution_count": 7,
     "metadata": {},
     "output_type": "execute_result"
    }
   ],
   "source": [
    "print(train_df.shape)\n",
    "type(train_df)\n"
   ]
  },
  {
   "cell_type": "markdown",
   "metadata": {},
   "source": [
    "-Each Image is 1568 feature-long. \n",
    "-Each image contains 2 digits.\n",
    "    - Representing a 56x28 pixel image \n",
    "\n",
    "-Each digit is a total of 784 pixel (i.e. 1568/2)\n",
    "    - Representing a 28x28 pixel image \n",
    "\n",
    "    "
   ]
  },
  {
   "cell_type": "code",
   "execution_count": 8,
   "metadata": {},
   "outputs": [
    {
     "name": "stdout",
     "output_type": "stream",
     "text": [
      "(1568,)\n"
     ]
    },
    {
     "data": {
      "image/png": "[encoded data removed]",
      "text/plain": [
       "<Figure size 432x288 with 1 Axes>"
      ]
     },
     "metadata": {
      "needs_background": "light"
     },
     "output_type": "display_data"
    }
   ],
   "source": [
    "# Try displaying one image \n",
    "sampleImage = X_train[1,:]\n",
    "print(sampleImage.shape)\n",
    "fig = plt.figure\n",
    "image = np.reshape(sampleImage, (28,56))\n",
    "plt.imshow(image, cmap='gray_r')\n",
    "plt.show()\n"
   ]
  },
  {
   "cell_type": "markdown",
   "metadata": {},
   "source": [
    "Overview of label data. \n",
    "Labels go from 0 to 18 and we observe a bell-shaped (gaussian-like) distribution."
   ]
  },
  {
   "cell_type": "code",
   "execution_count": 9,
   "metadata": {},
   "outputs": [
    {
     "name": "stdout",
     "output_type": "stream",
     "text": [
      "(50000,)\n",
      "[ 0.  1.  2.  3.  4.  5.  6.  7.  8.  9. 10. 11. 12. 13. 14. 15. 16. 17.\n",
      " 18.]\n"
     ]
    },
    {
     "data": {
      "image/png": "[encoded data removed]",
      "text/plain": [
       "<Figure size 432x288 with 1 Axes>"
      ]
     },
     "metadata": {
      "needs_background": "light"
     },
     "output_type": "display_data"
    }
   ],
   "source": [
    "# Class labels summary\n",
    "\n",
    "# sns.countplot(Y_train)\n",
    "from collections import Counter\n",
    "print(Y_train.shape)\n",
    "print(np.unique(Y_train))\n",
    "c = Counter(Y_train)\n",
    "plt.bar(c.keys(), c.values())\n",
    "plt.show()"
   ]
  },
  {
   "cell_type": "code",
   "execution_count": 10,
   "metadata": {},
   "outputs": [],
   "source": [
    "from scipy.special import softmax\n",
    "from sklearn.preprocessing import OneHotEncoder\n",
    "onehot_encoder = OneHotEncoder(sparse=False)"
   ]
  },
  {
   "cell_type": "code",
   "execution_count": 45,
   "metadata": {},
   "outputs": [],
   "source": [
    "\n",
    "class LogisticRegression : \n",
    "    # def __init__(self):\n",
    "    #     pass\n",
    "\n",
    "    def load_train_data(self, train_inputs, train_labels):\n",
    "        self.train_inputs=train_inputs\n",
    "        self.train_labels=train_labels\n",
    "        self.label_list = np.unique(train_labels)\n",
    "        self.num_classes = np.unique(train_labels).size\n",
    "        self.W = None # Weights for logistic regression\n",
    "\n",
    "    # def softmax(inputs):\n",
    "    #     \"\"\"\n",
    "    #     Calculate the softmax for the give inputs (array)\n",
    "    #     :param inputs:\n",
    "    #     :return:\n",
    "    #     \"\"\"\n",
    "    #     return np.exp(inputs) / float(sum(np.exp(inputs)))\n",
    "\n",
    "    # Stackoverflow suggested solution for one-hot encoding - Source : https://stackoverflow.com/questions/38592324/one-hot-encoding-using-numpy\n",
    "    @staticmethod\n",
    "    def get_one_hot(targets, nb_classes):\n",
    "        res = np.eye(nb_classes)[np.array(targets).reshape(-1)]\n",
    "        return res.reshape(list(targets.shape)+[nb_classes])\n",
    "\n",
    "    @staticmethod\n",
    "    def softmaxxxx(arrayData):\n",
    "        \"\"\"\n",
    "        Returns an array with the calculated softmax of each of the labels\n",
    "        \"\"\"\n",
    "        # arr = np.zeros(self.num_classes)\n",
    "        # return np.exp(arrayData) / float(sum(np.exp(arrayData)))\n",
    "        return (np.exp(arrayData).T / np.sum(np.exp(arrayData),axis=1)).T \n",
    "        \n",
    " \n",
    "\n",
    "    def lossFunc(self, X,Y_onehot,W) : #v2 https://towardsdatascience.com/multiclass-logistic-regression-from-scratch-9cc0007da372\n",
    "        Z = - X @ W\n",
    "        n = X.shape[0]\n",
    "        loss = (np.trace(X @ W @ Y_onehot.T) + np.sum(np.log(np.sum(np.exp(Z), axis=1)))) /n\n",
    "        return loss\n",
    "    \n",
    "    def gradient(self, X, Y_onehot, W, mu): #v2\n",
    "        Z = - X @ W\n",
    "\n",
    "        # softMax = self.softmax(Z) #axis=1\n",
    "        softMax = softmax(Z, axis=1) #axis=1\n",
    "        \n",
    "\n",
    "        n = X.shape[0]\n",
    "        gd = (1/n)* (X.T @ (Y_onehot - softMax)) + 2 * mu * W\n",
    "        return gd\n",
    "\n",
    "    def gradient_descent_penalized(self, X, Y, max_iter=1000, eta=0.1, mu=0.01): #v2\n",
    "\n",
    "        # Y_one_hot = self.get_one_hot(np.int_(Y) , self.num_classes)\n",
    "        Y_one_hot = onehot_encoder.fit_transform(Y.reshape(-1,1))\n",
    "        W = np.zeros((X.shape[1], Y_one_hot.shape[1]))\n",
    "        step = 0\n",
    "        # step_lst = [] \n",
    "        # loss_lst = []\n",
    "        # W_lst = []\n",
    "        \n",
    "    \n",
    "        while step < max_iter:\n",
    "            #print (f'iteration # {step} of {max_iter} ; ({round(step/max_iter*100, 2)}%)') if step%50 ==0 else None \n",
    "            # print(f'step # {step}')\n",
    "\n",
    "            step += 1\n",
    "            W -= eta * self.gradient(X, Y_one_hot, W, mu)\n",
    "            # step_lst.append(step)\n",
    "            # W_lst.append(W)\n",
    "            # loss_lst.append(self.lossFunc(X, Y_one_hot, W))\n",
    "\n",
    "\n",
    "        # df = pd.DataFrame({\n",
    "        #     'step': step_lst, \n",
    "        #     'loss': loss_lst\n",
    "        # })\n",
    "        # return df, W\n",
    "        return W\n",
    "\n",
    "\n",
    "\n",
    "    def train(self,max_iter, eta, mu) : \n",
    "        X=self.train_inputs\n",
    "        Y=self.train_labels\n",
    "        # Y_one_hot = self.get_one_hot(np.int_(Y) , self.num_classes)\n",
    "        # self.loss_steps, self.W = self.gradient_descent_penalized(X, Y,  max_iter=20, eta=0.1, mu=0.01)\n",
    "        self.W = self.gradient_descent_penalized(X, Y,  max_iter=max_iter, eta=eta, mu=mu)\n",
    "        \n",
    "\n",
    "    \n",
    "    # def compute_predictions(self, X_test) :\n",
    "    #     Z = X_test@self.W\n",
    "    #     # softmaxArr = self.softmax(Z, axis=1)\n",
    "    #     softmaxArr = self.softmax(Z) \n",
    "\n",
    "    #     return np.argmax(softmaxArr,axis=1)\n",
    "\n",
    "    def compute_predictions(self, X_test):\n",
    "        Z = - X_test @ self.W\n",
    "        \n",
    "        # P = self.softmax(Z) # axis = 1)\n",
    "        P = softmax(Z, axis=1) \n",
    "\n",
    "        return np.argmax(P, axis=1)    \n",
    "\n",
    "\n",
    "    # def compute_predictions(self, test_data):\n",
    "    #     X=self.train_inputs\n",
    "    #     Y=self.train_labels\n",
    "\n",
    "    def split_dataset(train_inputs,train_labels):\n",
    "\n",
    "        trainIndexes = [k for k in range(train_inputs.shape[0]) if k % 5 in (0,1,2,4) ]\n",
    "        validationIndexes = [k for k in range(train_inputs.shape[0]) if k % 5 ==3 ]\n",
    "\n",
    "        trainX = np.array([train_inputs[k] for k in trainIndexes])\n",
    "        trainY = np.array([train_inputs[k] for k in trainIndexes])\n",
    "\n",
    "        validX = np.array([train_inputs[k] for k in validationIndexes])\n",
    "        validY = np.array([train_inputs[k] for k in validationIndexes])\n",
    "\n",
    "        # trainX = np.array([banknote[k] for k in range(banknote.shape[0]) if k % 5 in (0,1,2) ])\n",
    "        # trainSet = np.array([banknote[k] for k in range(banknote.shape[0]) if k % 5 in (0,1,2) ])\n",
    "        # validationSet = np.array([banknote[k] for k in range(banknote.shape[0]) if k % 5 == 3 ])\n",
    "        # testSet = np.array([banknote[k] for k in range(banknote.shape[0]) if k % 5 == 4 ])\n",
    "\n",
    "        # return trainSet, validationSet, testSet\n",
    "        return trainX, trainY, validX, validY\n",
    "\n",
    "\n",
    "    @staticmethod\n",
    "    def conf_matrix(testlabels, predlabels):\n",
    "        n_classes = int(max(testlabels)) + 1 # +1 since first class is labeled 0\n",
    "        matrix = np.zeros((n_classes,n_classes))\n",
    "\n",
    "        for (test, pred) in zip(testlabels, predlabels):\n",
    "            matrix[int(test),int(pred)]+=1\n",
    "        return matrix    \n",
    "\n",
    "    @staticmethod\n",
    "    def errorRate (testlabels, predlabels) :\n",
    "        # confmat = self.conf_matrix(self.train_labels, predlabels)\n",
    "        confmat = LogisticRegression.conf_matrix(testlabels, predlabels)\n",
    "        # print(confmat)\n",
    "\n",
    "        # Test error\n",
    "        sum_total_preds = np.sum(confmat)\n",
    "        sum_correct_preds = np.sum(np.diag(confmat))\n",
    "        errorRate = 1.0 - (float(sum_correct_preds) / float(sum_total_preds))\n",
    "        return errorRate, confmat \n",
    "\n",
    "\n",
    "\n"
   ]
  },
  {
   "cell_type": "markdown",
   "metadata": {},
   "source": [
    "Test code \n",
    "\n",
    "With learnRate = 0.1, numIteratitions=5 :\n",
    "    error rate is 0.89134\n",
    "    took 5 sec\n",
    "\n",
    "With learnRate = 0.1, numIteratitions=200 :\n",
    "    error rate is 0.79278\n",
    "    took 2min40\n",
    "\n",
    "With learnRate = 0.01, numIteratitions=500 :\n",
    "    error rate is 0.84582\n",
    "    took 6min40\n",
    "\n",
    "With learnRate = 0.1, numIteratitions=1000 :\n",
    "    error rate is 0.756\n",
    "    took 14min\n",
    "\n",
    "With learnRate = 0.05, numIteratitions=2000 :\n",
    "    error rate is \n",
    "    took min\n",
    "\n",
    "######################################## NEW implementation stats ##############\n",
    "With  max_iter=20, eta=0.1, mu=0.01 : \n",
    "    error rate is 0.85\n",
    "    took a few seconds\n",
    "\n",
    "With  max_iter=500, eta=0.1, mu=0.01 : \n",
    "    error rate is 0.7816\n",
    "    took 5min25\n",
    "\n",
    "With  max_iter=5000, eta=0.1, mu=0.01 : \n",
    "    error rate is 0.77364\n",
    "    took 37min\n",
    "\n",
    "With  max_iter=500, eta=0.1, mu=0.1 : \n",
    "    error rate is 0.85188\n",
    "    took 3min"
   ]
  },
  {
   "cell_type": "code",
   "execution_count": 55,
   "metadata": {},
   "outputs": [
    {
     "name": "stdout",
     "output_type": "stream",
     "text": [
      "iteration # 0 of 100 ; (0.0%)\n",
      "iteration # 50 of 100 ; (50.0%)\n"
     ]
    }
   ],
   "source": [
    "LogisticReg2= LogisticRegression()\n",
    "LogisticReg2.load_train_data(X_train, Y_train)\n",
    "LogisticReg2.train(max_iter= 100,eta = 0.5, mu = 0.1)"
   ]
  },
  {
   "cell_type": "code",
   "execution_count": 52,
   "metadata": {},
   "outputs": [
    {
     "name": "stdout",
     "output_type": "stream",
     "text": [
      "error rate is 0.86664\n"
     ]
    }
   ],
   "source": [
    "Y_pred_on_X_train = LogisticReg2.compute_predictions(X_train)\n",
    "errorRate, confmat = LogisticReg2.errorRate(testlabels= Y_train, predlabels=Y_pred_on_X_train)\n",
    "print(f'error rate is {errorRate}')\n",
    "\n",
    "\n",
    "# with np.printoptions(precision=3, suppress=True):\n",
    "#     print(confmat)"
   ]
  },
  {
   "cell_type": "markdown",
   "metadata": {},
   "source": [
    "Testing the model with different mu"
   ]
  },
  {
   "cell_type": "code",
   "execution_count": 53,
   "metadata": {},
   "outputs": [],
   "source": [
    "\n",
    "def get_test_error(mu):\n",
    "  # ---> Write code here \n",
    "      LogisticReg2= LogisticRegression()\n",
    "      LogisticReg2.load_train_data(X_train, Y_train)\n",
    "      LogisticReg2.train(max_iter= 5,eta = 0.1, mu = mu)\n",
    "\n",
    "      Y_pred_on_X_train = LogisticReg2.compute_predictions(X_train)\n",
    "      errorRate, confmat = LogisticReg2.errorRate(testlabels= Y_train, predlabels=Y_pred_on_X_train)\n",
    "      return errorRate"
   ]
  },
  {
   "cell_type": "code",
   "execution_count": 60,
   "metadata": {},
   "outputs": [
    {
     "name": "stdout",
     "output_type": "stream",
     "text": [
      "iteration # 0 of 5 ; (0.0%)\n",
      "iteration # 0 of 5 ; (0.0%)\n",
      "iteration # 0 of 5 ; (0.0%)\n",
      "iteration # 0 of 5 ; (0.0%)\n",
      "iteration # 0 of 5 ; (0.0%)\n",
      "iteration # 0 of 5 ; (0.0%)\n",
      "iteration # 0 of 5 ; (0.0%)\n",
      "iteration # 0 of 5 ; (0.0%)\n",
      "iteration # 0 of 5 ; (0.0%)\n",
      "iteration # 0 of 5 ; (0.0%)\n",
      "iteration # 0 of 5 ; (0.0%)\n",
      "iteration # 0 of 5 ; (0.0%)\n",
      "iteration # 0 of 5 ; (0.0%)\n",
      "iteration # 0 of 5 ; (0.0%)\n"
     ]
    },
    {
     "data": {
      "image/png": "[encoded data removed]",
      "text/plain": [
       "<Figure size 432x288 with 1 Axes>"
      ]
     },
     "metadata": {
      "needs_background": "light"
     },
     "output_type": "display_data"
    }
   ],
   "source": [
    "plt.plot(np.arange(1, 15)*0.01, [get_test_error(mu*0.01) for mu in range(1, 15)], label='test error')\n",
    "plt.legend()\n",
    "plt.xlabel('mu')\n",
    "plt.show()"
   ]
  },
  {
   "cell_type": "code",
   "execution_count": 17,
   "metadata": {},
   "outputs": [
    {
     "name": "stdout",
     "output_type": "stream",
     "text": [
      "[ 7  8 11 ...  6  7  8]\n",
      "(1568,)\n"
     ]
    },
    {
     "data": {
      "image/png": "[encoded data removed]",
      "text/plain": [
       "<Figure size 432x288 with 1 Axes>"
      ]
     },
     "metadata": {
      "needs_background": "light"
     },
     "output_type": "display_data"
    }
   ],
   "source": [
    "#manually verify some results \n",
    "print(Y_pred_on_X_train)\n",
    "sampleImage = X_train[1,:]\n",
    "print(sampleImage.shape)\n",
    "fig = plt.figure\n",
    "image = np.reshape(sampleImage, (28,56))\n",
    "plt.imshow(image, cmap='gray_r')\n",
    "plt.show()\n"
   ]
  },
  {
   "cell_type": "code",
   "execution_count": null,
   "metadata": {},
   "outputs": [],
   "source": []
  },
  {
   "cell_type": "code",
   "execution_count": null,
   "metadata": {},
   "outputs": [],
   "source": []
  },
  {
   "cell_type": "code",
   "execution_count": null,
   "metadata": {},
   "outputs": [],
   "source": []
  }
 ],
 "metadata": {
  "kernelspec": {
   "display_name": "Python 3.10.5 64-bit",
   "language": "python",
   "name": "python3"
  },
  "language_info": {
   "codemirror_mode": {
    "name": "ipython",
    "version": 3
   },
   "file_extension": ".py",
   "mimetype": "text/x-python",
   "name": "python",
   "nbconvert_exporter": "python",
   "pygments_lexer": "ipython3",
   "version": "3.10.5"
  },
  "orig_nbformat": 4,
  "vscode": {
   "interpreter": {
    "hash": "26de051ba29f2982a8de78e945f0abaf191376122a1563185a90213a26c5da77"
   }
  }
 },
 "nbformat": 4,
 "nbformat_minor": 2
}
