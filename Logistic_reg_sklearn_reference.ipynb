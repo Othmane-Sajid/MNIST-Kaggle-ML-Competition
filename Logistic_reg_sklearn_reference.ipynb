{
 "cells": [
  {
   "cell_type": "markdown",
   "metadata": {},
   "source": [
    "USE FOR REFERENCE.\n",
    "https://atmamani.github.io/projects/ml/mnist-digits-classification-using-logistic-regression-scikit-learn/\n",
    "\n",
    "Here we will Use (unautorized) library sklearn to see what kind of performance we should expect with a good implementation of logistic reg (using Ridge VS Lasso).\n",
    "\n",
    "And then we can implement the best one (Ridge or Lasso)"
   ]
  },
  {
   "cell_type": "code",
   "execution_count": 1,
   "metadata": {},
   "outputs": [],
   "source": [
    "import numpy as np\n",
    "import pandas as pd\n",
    "import math \n",
    "import sys\n",
    "import matplotlib.pyplot as plt\n",
    "import seaborn as sns \n",
    "%matplotlib inline\n"
   ]
  },
  {
   "cell_type": "markdown",
   "metadata": {},
   "source": [
    "-Each Image is 1568 feature-long. \n",
    "-Each image contains 2 digits.\n",
    "    - Representing a 56x28 pixel image \n",
    "\n",
    "-Each digit is a total of 784 pixel (i.e. 1568/2)\n",
    "    - Representing a 28x28 pixel image \n",
    "\n",
    "    "
   ]
  },
  {
   "cell_type": "code",
   "execution_count": 2,
   "metadata": {},
   "outputs": [],
   "source": [
    "train_inputs = np.genfromtxt('data/train.csv',  delimiter=',')\n",
    "train_inputs = train_inputs[1:,:-1]\n",
    "\n",
    "label_inputs = np.genfromtxt('data/train_result.csv',  delimiter=',')\n",
    "label_inputs = label_inputs[1:,-1]\n",
    "\n",
    "test_inputs = np.genfromtxt('data/test.csv',  delimiter=',')\n",
    "test_inputs = test_inputs[1:,:-1]"
   ]
  },
  {
   "cell_type": "code",
   "execution_count": 3,
   "metadata": {},
   "outputs": [],
   "source": [
    "# https://atmamani.github.io/projects/ml/mnist-digits-classification-using-logistic-regression-scikit-learn/\n",
    "from sklearn.model_selection import train_test_split\n",
    "X_train, X_test, y_train, y_test = train_test_split(train_inputs, \n",
    "                                                    label_inputs,\n",
    "                                                   test_size=0.25,\n",
    "                                                   random_state=0)"
   ]
  },
  {
   "cell_type": "code",
   "execution_count": 5,
   "metadata": {},
   "outputs": [
    {
     "data": {
      "text/plain": [
       "((37500, 1568), (12500, 1568))"
      ]
     },
     "execution_count": 5,
     "metadata": {},
     "output_type": "execute_result"
    }
   ],
   "source": [
    "X_train.shape, X_test.shape"
   ]
  },
  {
   "cell_type": "markdown",
   "metadata": {},
   "source": [
    "FIRST I WILL TRY WITH RIDGE REGRESSION.\n",
    "\n",
    "THEN WITH LASSO. AND I WILL IMPLEMENT THE BETTER ONE.\n",
    "\n"
   ]
  },
  {
   "cell_type": "code",
   "execution_count": 6,
   "metadata": {},
   "outputs": [
    {
     "data": {
      "text/html": [
       "<style>#sk-container-id-1 {color: black;background-color: white;}#sk-container-id-1 pre{padding: 0;}#sk-container-id-1 div.sk-toggleable {background-color: white;}#sk-container-id-1 label.sk-toggleable__label {cursor: pointer;display: block;width: 100%;margin-bottom: 0;padding: 0.3em;box-sizing: border-box;text-align: center;}#sk-container-id-1 label.sk-toggleable__label-arrow:before {content: \"▸\";float: left;margin-right: 0.25em;color: #696969;}#sk-container-id-1 label.sk-toggleable__label-arrow:hover:before {color: black;}#sk-container-id-1 div.sk-estimator:hover label.sk-toggleable__label-arrow:before {color: black;}#sk-container-id-1 div.sk-toggleable__content {max-height: 0;max-width: 0;overflow: hidden;text-align: left;background-color: #f0f8ff;}#sk-container-id-1 div.sk-toggleable__content pre {margin: 0.2em;color: black;border-radius: 0.25em;background-color: #f0f8ff;}#sk-container-id-1 input.sk-toggleable__control:checked~div.sk-toggleable__content {max-height: 200px;max-width: 100%;overflow: auto;}#sk-container-id-1 input.sk-toggleable__control:checked~label.sk-toggleable__label-arrow:before {content: \"▾\";}#sk-container-id-1 div.sk-estimator input.sk-toggleable__control:checked~label.sk-toggleable__label {background-color: #d4ebff;}#sk-container-id-1 div.sk-label input.sk-toggleable__control:checked~label.sk-toggleable__label {background-color: #d4ebff;}#sk-container-id-1 input.sk-hidden--visually {border: 0;clip: rect(1px 1px 1px 1px);clip: rect(1px, 1px, 1px, 1px);height: 1px;margin: -1px;overflow: hidden;padding: 0;position: absolute;width: 1px;}#sk-container-id-1 div.sk-estimator {font-family: monospace;background-color: #f0f8ff;border: 1px dotted black;border-radius: 0.25em;box-sizing: border-box;margin-bottom: 0.5em;}#sk-container-id-1 div.sk-estimator:hover {background-color: #d4ebff;}#sk-container-id-1 div.sk-parallel-item::after {content: \"\";width: 100%;border-bottom: 1px solid gray;flex-grow: 1;}#sk-container-id-1 div.sk-label:hover label.sk-toggleable__label {background-color: #d4ebff;}#sk-container-id-1 div.sk-serial::before {content: \"\";position: absolute;border-left: 1px solid gray;box-sizing: border-box;top: 0;bottom: 0;left: 50%;z-index: 0;}#sk-container-id-1 div.sk-serial {display: flex;flex-direction: column;align-items: center;background-color: white;padding-right: 0.2em;padding-left: 0.2em;position: relative;}#sk-container-id-1 div.sk-item {position: relative;z-index: 1;}#sk-container-id-1 div.sk-parallel {display: flex;align-items: stretch;justify-content: center;background-color: white;position: relative;}#sk-container-id-1 div.sk-item::before, #sk-container-id-1 div.sk-parallel-item::before {content: \"\";position: absolute;border-left: 1px solid gray;box-sizing: border-box;top: 0;bottom: 0;left: 50%;z-index: -1;}#sk-container-id-1 div.sk-parallel-item {display: flex;flex-direction: column;z-index: 1;position: relative;background-color: white;}#sk-container-id-1 div.sk-parallel-item:first-child::after {align-self: flex-end;width: 50%;}#sk-container-id-1 div.sk-parallel-item:last-child::after {align-self: flex-start;width: 50%;}#sk-container-id-1 div.sk-parallel-item:only-child::after {width: 0;}#sk-container-id-1 div.sk-dashed-wrapped {border: 1px dashed gray;margin: 0 0.4em 0.5em 0.4em;box-sizing: border-box;padding-bottom: 0.4em;background-color: white;}#sk-container-id-1 div.sk-label label {font-family: monospace;font-weight: bold;display: inline-block;line-height: 1.2em;}#sk-container-id-1 div.sk-label-container {text-align: center;}#sk-container-id-1 div.sk-container {/* jupyter's `normalize.less` sets `[hidden] { display: none; }` but bootstrap.min.css set `[hidden] { display: none !important; }` so we also need the `!important` here to be able to override the default hidden behavior on the sphinx rendered scikit-learn.org. See: https://github.com/scikit-learn/scikit-learn/issues/21755 */display: inline-block !important;position: relative;}#sk-container-id-1 div.sk-text-repr-fallback {display: none;}</style><div id=\"sk-container-id-1\" class=\"sk-top-container\"><div class=\"sk-text-repr-fallback\"><pre>LogisticRegression(C=50, max_iter=5000, n_jobs=6, solver=&#x27;saga&#x27;, verbose=2)</pre><b>In a Jupyter environment, please rerun this cell to show the HTML representation or trust the notebook. <br />On GitHub, the HTML representation is unable to render, please try loading this page with nbviewer.org.</b></div><div class=\"sk-container\" hidden><div class=\"sk-item\"><div class=\"sk-estimator sk-toggleable\"><input class=\"sk-toggleable__control sk-hidden--visually\" id=\"sk-estimator-id-1\" type=\"checkbox\" checked><label for=\"sk-estimator-id-1\" class=\"sk-toggleable__label sk-toggleable__label-arrow\">LogisticRegression</label><div class=\"sk-toggleable__content\"><pre>LogisticRegression(C=50, max_iter=5000, n_jobs=6, solver=&#x27;saga&#x27;, verbose=2)</pre></div></div></div></div></div>"
      ],
      "text/plain": [
       "LogisticRegression(C=50, max_iter=5000, n_jobs=6, solver='saga', verbose=2)"
      ]
     },
     "execution_count": 6,
     "metadata": {},
     "output_type": "execute_result"
    }
   ],
   "source": [
    "from sklearn.linear_model import LogisticRegression\n",
    "clf = LogisticRegression(fit_intercept=True,\n",
    "                        multi_class='auto',\n",
    "                        penalty='l2', #ridge regression \n",
    "                        solver='saga',\n",
    "                        max_iter=5000, # was 10000\n",
    "                        verbose=2, # output progress\n",
    "                        n_jobs=6, # parallelize over 5 processes\n",
    "                        C=50)\n",
    "clf"
   ]
  },
  {
   "cell_type": "markdown",
   "metadata": {},
   "source": [
    "WARNING !!!! :\n",
    " \n",
    "With parameters defined at (below), the clf.fit() took X mins\n",
    "\n",
    "clf = LogisticRegression(fit_intercept=True,\n",
    "                        multi_class='auto',\n",
    "                        penalty='l2', #ridge regression \n",
    "                        solver='saga',\n",
    "                        max_iter=5000, # was 10000\n",
    "                        verbose=2, # output progress\n",
    "                        n_jobs=6, # parallelize over 5 processes\n",
    "                        C=50)\n"
   ]
  },
  {
   "cell_type": "code",
   "execution_count": 7,
   "metadata": {},
   "outputs": [
    {
     "name": "stderr",
     "output_type": "stream",
     "text": [
      "[Parallel(n_jobs=6)]: Using backend ThreadingBackend with 6 concurrent workers.\n"
     ]
    }
   ],
   "source": [
    "%%time\n",
    "clf.fit(X_train, y_train)"
   ]
  },
  {
   "cell_type": "code",
   "execution_count": 6,
   "metadata": {},
   "outputs": [
    {
     "name": "stdout",
     "output_type": "stream",
     "text": [
      "(1568,)\n"
     ]
    },
    {
     "data": {
      "image/png": "[encoded data removed]",
      "text/plain": [
       "<Figure size 640x480 with 1 Axes>"
      ]
     },
     "metadata": {},
     "output_type": "display_data"
    }
   ],
   "source": [
    "clf.classes_\n",
    "clf.coef_.shape\n",
    "clf.coef_[0].round(2) # prints weights for 8x8 image for class 0"
   ]
  },
  {
   "cell_type": "markdown",
   "metadata": {},
   "source": [
    "Overview of label data. \n",
    "Labels go from 0 to 18 and we observe a bell-shaped (gaussian-like) distribution."
   ]
  },
  {
   "cell_type": "code",
   "execution_count": 24,
   "metadata": {},
   "outputs": [
    {
     "name": "stdout",
     "output_type": "stream",
     "text": [
      "(50000,)\n",
      "[ 0.  1.  2.  3.  4.  5.  6.  7.  8.  9. 10. 11. 12. 13. 14. 15. 16. 17.\n",
      " 18.]\n"
     ]
    },
    {
     "data": {
      "image/png": "[encoded data removed]",
      "text/plain": [
       "<Figure size 640x480 with 1 Axes>"
      ]
     },
     "metadata": {},
     "output_type": "display_data"
    }
   ],
   "source": [
    "clf.intercept_ # for 10 classes - this is a One-vs-All classification\n",
    "clf.n_iter_[0] # num of iterations before tolerance was reached"
   ]
  },
  {
   "cell_type": "code",
   "execution_count": 47,
   "metadata": {},
   "outputs": [],
   "source": [
    "coef = clf.coef_.copy()\n",
    "scale = np.abs(coef).max()\n",
    "plt.figure(figsize=(10,5))\n",
    "\n",
    "for i in range(10): # 0-9\n",
    "    coef_plot = plt.subplot(2, 5, i + 1) # 2x5 plot\n",
    "\n",
    "    coef_plot.imshow(coef[i].reshape(28,56), \n",
    "                     cmap=plt.cm.RdBu,\n",
    "                     vmin=-scale, vmax=scale,\n",
    "                    interpolation='bilinear')\n",
    "    \n",
    "    coef_plot.set_xticks(()); coef_plot.set_yticks(()) # remove ticks\n",
    "    coef_plot.set_xlabel(f'Class {i}')\n",
    "\n",
    "plt.suptitle('Coefficients for various classes');"
   ]
  },
  {
   "cell_type": "markdown",
   "metadata": {},
   "source": [
    "Test code \n",
    "\n",
    "With learnRate = 0.1, numIteratitions=5 :\n",
    "    error rate is 0.89134\n",
    "    took 5 sec\n",
    "\n",
    "With learnRate = 0.1, numIteratitions=200 :\n",
    "    error rate is 0.79278\n",
    "    took 2min40\n",
    "\n",
    "With learnRate = 0.01, numIteratitions=500 :\n",
    "    error rate is 0.84582\n",
    "    took 6min40\n",
    "\n",
    "With learnRate = 0.1, numIteratitions=1000 :\n",
    "    error rate is 0.756\n",
    "    took 14min\n",
    "\n",
    "With learnRate = 0.05, numIteratitions=2000 :\n",
    "    error rate is 0.756\n",
    "    took min 30min\n",
    "\n",
    "With learnRate = 1, numIteratitions=200 :\n",
    "    error rate is 0.85\n",
    "    took 2min30\n",
    "\n",
    "With learnRate = 5, numIteratitions=500 :\n",
    "    error rate is 0.85756\n",
    "    took 8min30\n",
    "\n",
    "With learnRate = 0.5, numIteratitions=200 (W is random):\n",
    "    error rate is 0.84\n",
    "    took 4min\n",
    "\n",
    "\n",
    "With learnRate = 0.5, numIteratitions=1000\n",
    "    error rate is 0.76872\n",
    "    took 20min\n",
    "\n",
    "With learnRate = 0.5, numIteratitions=2000\n",
    "    error rate is 0.7462599999999999\n",
    "    took 26min\n",
    "\n",
    "With learnRate = 0.1, numIteratitions=5000\n",
    "    error rate is 0.76848\n",
    "    took 67min"
   ]
  },
  {
   "cell_type": "code",
   "execution_count": 48,
   "metadata": {},
   "outputs": [
    {
     "name": "stdout",
     "output_type": "stream",
     "text": [
      "iteration # 0 of 5000 ; (0.0%)\n",
      "iteration # 50 of 5000 ; (1.0%)\n",
      "iteration # 100 of 5000 ; (2.0%)\n",
      "iteration # 150 of 5000 ; (3.0%)\n",
      "iteration # 200 of 5000 ; (4.0%)\n",
      "iteration # 250 of 5000 ; (5.0%)\n",
      "iteration # 300 of 5000 ; (6.0%)\n",
      "iteration # 350 of 5000 ; (7.0%)\n",
      "iteration # 400 of 5000 ; (8.0%)\n",
      "iteration # 450 of 5000 ; (9.0%)\n",
      "iteration # 500 of 5000 ; (10.0%)\n",
      "iteration # 550 of 5000 ; (11.0%)\n",
      "iteration # 600 of 5000 ; (12.0%)\n",
      "iteration # 650 of 5000 ; (13.0%)\n",
      "iteration # 700 of 5000 ; (14.0%)\n",
      "iteration # 750 of 5000 ; (15.0%)\n",
      "iteration # 800 of 5000 ; (16.0%)\n",
      "iteration # 850 of 5000 ; (17.0%)\n",
      "iteration # 900 of 5000 ; (18.0%)\n",
      "iteration # 950 of 5000 ; (19.0%)\n",
      "iteration # 1000 of 5000 ; (20.0%)\n",
      "iteration # 1050 of 5000 ; (21.0%)\n",
      "iteration # 1100 of 5000 ; (22.0%)\n",
      "iteration # 1150 of 5000 ; (23.0%)\n",
      "iteration # 1200 of 5000 ; (24.0%)\n",
      "iteration # 1250 of 5000 ; (25.0%)\n",
      "iteration # 1300 of 5000 ; (26.0%)\n",
      "iteration # 1350 of 5000 ; (27.0%)\n",
      "iteration # 1400 of 5000 ; (28.0%)\n",
      "iteration # 1450 of 5000 ; (29.0%)\n",
      "iteration # 1500 of 5000 ; (30.0%)\n",
      "iteration # 1550 of 5000 ; (31.0%)\n",
      "iteration # 1600 of 5000 ; (32.0%)\n",
      "iteration # 1650 of 5000 ; (33.0%)\n",
      "iteration # 1700 of 5000 ; (34.0%)\n",
      "iteration # 1750 of 5000 ; (35.0%)\n",
      "iteration # 1800 of 5000 ; (36.0%)\n",
      "iteration # 1850 of 5000 ; (37.0%)\n",
      "iteration # 1900 of 5000 ; (38.0%)\n",
      "iteration # 1950 of 5000 ; (39.0%)\n",
      "iteration # 2000 of 5000 ; (40.0%)\n",
      "iteration # 2050 of 5000 ; (41.0%)\n",
      "iteration # 2100 of 5000 ; (42.0%)\n",
      "iteration # 2150 of 5000 ; (43.0%)\n",
      "iteration # 2200 of 5000 ; (44.0%)\n",
      "iteration # 2250 of 5000 ; (45.0%)\n",
      "iteration # 2300 of 5000 ; (46.0%)\n",
      "iteration # 2350 of 5000 ; (47.0%)\n",
      "iteration # 2400 of 5000 ; (48.0%)\n",
      "iteration # 2450 of 5000 ; (49.0%)\n",
      "iteration # 2500 of 5000 ; (50.0%)\n",
      "iteration # 2550 of 5000 ; (51.0%)\n",
      "iteration # 2600 of 5000 ; (52.0%)\n",
      "iteration # 2650 of 5000 ; (53.0%)\n",
      "iteration # 2700 of 5000 ; (54.0%)\n",
      "iteration # 2750 of 5000 ; (55.0%)\n",
      "iteration # 2800 of 5000 ; (56.0%)\n",
      "iteration # 2850 of 5000 ; (57.0%)\n",
      "iteration # 2900 of 5000 ; (58.0%)\n",
      "iteration # 2950 of 5000 ; (59.0%)\n",
      "iteration # 3000 of 5000 ; (60.0%)\n",
      "iteration # 3050 of 5000 ; (61.0%)\n",
      "iteration # 3100 of 5000 ; (62.0%)\n",
      "iteration # 3150 of 5000 ; (63.0%)\n",
      "iteration # 3200 of 5000 ; (64.0%)\n",
      "iteration # 3250 of 5000 ; (65.0%)\n",
      "iteration # 3300 of 5000 ; (66.0%)\n",
      "iteration # 3350 of 5000 ; (67.0%)\n",
      "iteration # 3400 of 5000 ; (68.0%)\n",
      "iteration # 3450 of 5000 ; (69.0%)\n",
      "iteration # 3500 of 5000 ; (70.0%)\n",
      "iteration # 3550 of 5000 ; (71.0%)\n",
      "iteration # 3600 of 5000 ; (72.0%)\n",
      "iteration # 3650 of 5000 ; (73.0%)\n",
      "iteration # 3700 of 5000 ; (74.0%)\n",
      "iteration # 3750 of 5000 ; (75.0%)\n",
      "iteration # 3800 of 5000 ; (76.0%)\n",
      "iteration # 3850 of 5000 ; (77.0%)\n",
      "iteration # 3900 of 5000 ; (78.0%)\n",
      "iteration # 3950 of 5000 ; (79.0%)\n",
      "iteration # 4000 of 5000 ; (80.0%)\n",
      "iteration # 4050 of 5000 ; (81.0%)\n",
      "iteration # 4100 of 5000 ; (82.0%)\n",
      "iteration # 4150 of 5000 ; (83.0%)\n",
      "iteration # 4200 of 5000 ; (84.0%)\n",
      "iteration # 4250 of 5000 ; (85.0%)\n",
      "iteration # 4300 of 5000 ; (86.0%)\n",
      "iteration # 4350 of 5000 ; (87.0%)\n",
      "iteration # 4400 of 5000 ; (88.0%)\n",
      "iteration # 4450 of 5000 ; (89.0%)\n",
      "iteration # 4500 of 5000 ; (90.0%)\n",
      "iteration # 4550 of 5000 ; (91.0%)\n",
      "iteration # 4600 of 5000 ; (92.0%)\n",
      "iteration # 4650 of 5000 ; (93.0%)\n",
      "iteration # 4700 of 5000 ; (94.0%)\n",
      "iteration # 4750 of 5000 ; (95.0%)\n",
      "iteration # 4800 of 5000 ; (96.0%)\n",
      "iteration # 4850 of 5000 ; (97.0%)\n",
      "iteration # 4900 of 5000 ; (98.0%)\n",
      "iteration # 4950 of 5000 ; (99.0%)\n",
      "Starting cost is  : 7.120481922072016. Ending cost is 2.2323796631362893\n"
     ]
    }
   ],
   "source": [
    "# try predictions and compare \n",
    "print(clf.predict(X_test[0:9]))\n",
    "print(y_test[0:9])"
   ]
  },
  {
   "cell_type": "code",
   "execution_count": 49,
   "metadata": {},
   "outputs": [
    {
     "name": "stdout",
     "output_type": "stream",
     "text": [
      "error rate is 0.76848\n",
      "Precision is 23.152%\n"
     ]
    }
   ],
   "source": [
    "clf.score(X_train, y_train) # training score\n",
    "clf.score(X_test, y_test) # test score"
   ]
  },
  {
   "cell_type": "code",
   "execution_count": 50,
   "metadata": {},
   "outputs": [
    {
     "name": "stdout",
     "output_type": "stream",
     "text": [
      "(50000,)\n",
      "[ 0  1  2  3  4  5  6  7  8  9 10 11 12 13 14 15 16 17 18]\n"
     ]
    },
    {
     "data": {
      "image/png": "[encoded data removed]",
      "text/plain": [
       "<Figure size 640x480 with 1 Axes>"
      ]
     },
     "metadata": {},
     "output_type": "display_data"
    }
   ],
   "source": [
    "# Distribution of predictions (TERRIBLE ONE for reference with learnRate =5)\n",
    "from collections import Counter\n",
    "print(Y_pred_on_X_train.shape)\n",
    "print(np.unique(Y_pred_on_X_train))\n",
    "c = Counter(Y_pred_on_X_train)\n",
    "plt.bar(c.keys(), c.values())\n",
    "plt.show()"
   ]
  },
  {
   "cell_type": "code",
   "execution_count": 24,
   "metadata": {},
   "outputs": [
    {
     "name": "stdout",
     "output_type": "stream",
     "text": [
      "(50000,)\n",
      "[ 0  1  2  3  5  6  8 10 11 14 17 18]\n"
     ]
    },
    {
     "data": {
      "image/png": "[encoded data removed]",
      "text/plain": [
       "<Figure size 640x480 with 1 Axes>"
      ]
     },
     "metadata": {},
     "output_type": "display_data"
    }
   ],
   "source": [
    "# Distribution of predictions (TERRIBLE ONE for reference with learnRate =5)\n",
    "from collections import Counter\n",
    "print(Y_pred_on_X_train.shape)\n",
    "print(np.unique(Y_pred_on_X_train))\n",
    "c = Counter(Y_pred_on_X_train)\n",
    "plt.bar(c.keys(), c.values())\n",
    "plt.show()"
   ]
  },
  {
   "cell_type": "code",
   "execution_count": 109,
   "metadata": {},
   "outputs": [
    {
     "name": "stdout",
     "output_type": "stream",
     "text": [
      "[ 7  6 11 ...  5  0  7]\n",
      "(1568,)\n"
     ]
    },
    {
     "data": {
      "image/png": "[encoded data removed]",
      "text/plain": [
       "<Figure size 640x480 with 1 Axes>"
      ]
     },
     "metadata": {},
     "output_type": "display_data"
    }
   ],
   "source": [
    "#manually verify some results \n",
    "print(Y_pred_on_X_train)\n",
    "sampleImage = X_train[1,:]\n",
    "print(sampleImage.shape)\n",
    "fig = plt.figure\n",
    "image = np.reshape(sampleImage, (28,56))\n",
    "plt.imshow(image, cmap='gray_r')\n",
    "plt.show()\n"
   ]
  },
  {
   "cell_type": "code",
   "execution_count": 29,
   "metadata": {},
   "outputs": [
    {
     "data": {
      "text/plain": [
       "array([[0.90813045, 0.42755629, 0.98341215],\n",
       "       [0.89079484, 0.39934098, 0.56569419],\n",
       "       [0.99906456, 0.57515802, 0.12419742]])"
      ]
     },
     "execution_count": 29,
     "metadata": {},
     "output_type": "execute_result"
    }
   ],
   "source": [
    "np.random.rand(3,3)"
   ]
  },
  {
   "cell_type": "code",
   "execution_count": 95,
   "metadata": {},
   "outputs": [],
   "source": []
  },
  {
   "cell_type": "code",
   "execution_count": null,
   "metadata": {},
   "outputs": [],
   "source": []
  }
 ],
 "metadata": {
  "kernelspec": {
   "display_name": "Python 3.10.5 64-bit",
   "language": "python",
   "name": "python3"
  },
  "language_info": {
   "codemirror_mode": {
    "name": "ipython",
    "version": 3
   },
   "file_extension": ".py",
   "mimetype": "text/x-python",
   "name": "python",
   "nbconvert_exporter": "python",
   "pygments_lexer": "ipython3",
   "version": "3.10.5"
  },
  "orig_nbformat": 4,
  "vscode": {
   "interpreter": {
    "hash": "26de051ba29f2982a8de78e945f0abaf191376122a1563185a90213a26c5da77"
   }
  }
 },
 "nbformat": 4,
 "nbformat_minor": 2
}
