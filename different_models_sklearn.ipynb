{
 "cells": [
  {
   "cell_type": "markdown",
   "metadata": {},
   "source": [
    "USE SKLEARN DIFFERENT MODLELS AND FIND ONE/ONES WITH BEST PERFORMANCE"
   ]
  },
  {
   "cell_type": "code",
   "execution_count": 1,
   "metadata": {},
   "outputs": [],
   "source": [
    "import numpy as np\n",
    "import pandas as pd\n",
    "import math \n",
    "import sys\n",
    "import matplotlib.pyplot as plt\n",
    "import seaborn as sns \n",
    "%matplotlib inline\n"
   ]
  },
  {
   "cell_type": "code",
   "execution_count": 2,
   "metadata": {},
   "outputs": [],
   "source": [
    "\"\"\"X_train = np.genfromtxt('data/train.csv',  delimiter=',')\n",
    "X_train = X_train[1:,:-1]\n",
    "\n",
    "Y_train = np.genfromtxt('data/train_result.csv',  delimiter=',')\n",
    "Y_train = Y_train[1:,-1]\n",
    "\n",
    "X_test = np.genfromtxt('data/test.csv',  delimiter=',')\n",
    "X_test = X_test[1:,:-1]\n",
    "\"\"\"\n",
    "train_inputs = pd.read_csv(\"data/train.csv\")\n",
    "train_inputs = np.array(train_inputs)[:,:-1] \n",
    "\n",
    "train_labels = pd.read_csv(\"data/train_result.csv\")\n",
    "train_labels = np.array(train_labels)[:,1] \n",
    "\n",
    "test_inputs = pd.read_csv(\"data/test.csv\")\n",
    "test_inputs = np.array(test_inputs)[:,:-1] \n",
    "\n"
   ]
  },
  {
   "cell_type": "markdown",
   "metadata": {},
   "source": [
    "-Each Image is 1568 feature-long. \n",
    "-Each image contains 2 digits.\n",
    "    - Representing a 56x28 pixel image \n",
    "\n",
    "-Each digit is a total of 784 pixel (i.e. 1568/2)\n",
    "    - Representing a 28x28 pixel image \n",
    "\n",
    "    "
   ]
  },
  {
   "cell_type": "code",
   "execution_count": null,
   "metadata": {},
   "outputs": [],
   "source": [
    "# Try displaying one image \n",
    "sampleImage = X_train[1,:]\n",
    "print(sampleImage.shape)\n",
    "fig = plt.figure\n",
    "image = np.reshape(sampleImage, (28,56))\n",
    "plt.imshow(image, cmap='gray_r')\n",
    "plt.show()"
   ]
  },
  {
   "cell_type": "markdown",
   "metadata": {},
   "source": [
    "Overview of label data. \n",
    "Labels go from 0 to 18 and we observe a bell-shaped (gaussian-like) distribution."
   ]
  },
  {
   "cell_type": "code",
   "execution_count": null,
   "metadata": {},
   "outputs": [],
   "source": [
    "# Class labels summary\n",
    "\n",
    "# sns.countplot(Y_train)\n",
    "from collections import Counter\n",
    "print(Y_train.shape)\n",
    "print(np.unique(Y_train))\n",
    "c = Counter(Y_train)\n",
    "plt.bar(c.keys(), c.values())\n",
    "plt.show()"
   ]
  },
  {
   "cell_type": "code",
   "execution_count": null,
   "metadata": {},
   "outputs": [],
   "source": [
    "# Stackoverflow suggested solution for one-hot encoding - Source : https://stackoverflow.com/questions/38592324/one-hot-encoding-using-numpy\n",
    "@staticmethod\n",
    "def get_one_hot(targets, nb_classes):\n",
    "    res = np.eye(nb_classes)[np.array(targets).reshape(-1)]\n",
    "    return res.reshape(list(targets.shape)+[nb_classes])\n",
    "\n",
    "Y_onehot_train = get_one_hot(np.int_(Y_train), np.unique(Y_train).size)"
   ]
  },
  {
   "cell_type": "markdown",
   "metadata": {},
   "source": []
  },
  {
   "cell_type": "code",
   "execution_count": null,
   "metadata": {},
   "outputs": [],
   "source": [
    "from sklearn import X ..."
   ]
  },
  {
   "cell_type": "code",
   "execution_count": null,
   "metadata": {},
   "outputs": [],
   "source": [
    "# Distribution of predictions \n",
    "from collections import Counter\n",
    "print(Y_pred_on_X_train.shape)\n",
    "print(np.unique(Y_pred_on_X_train))\n",
    "c = Counter(Y_pred_on_X_train)\n",
    "plt.bar(c.keys(), c.values())\n",
    "plt.show()"
   ]
  },
  {
   "cell_type": "code",
   "execution_count": null,
   "metadata": {},
   "outputs": [],
   "source": [
    "# Show confusion matrix beautified\n",
    "# Good result with 5000 iterations \n",
    "score = 1-errorRate\n",
    "plt.figure(figsize=(15,15))\n",
    "sns.heatmap(confmat, annot=True, \n",
    "            linewidths=.5, square = True, cmap = 'Blues_r', fmt='0.4g');\n",
    "\n",
    "plt.ylabel('Actual label')\n",
    "plt.xlabel('Predicted label')\n",
    "all_sample_title = 'Accuracy Score: {0}'.format(score)\n",
    "plt.title(all_sample_title);\n"
   ]
  },
  {
   "cell_type": "code",
   "execution_count": 3,
   "metadata": {},
   "outputs": [],
   "source": [
    "\n",
    "def conf_matrix(testlabels, predlabels):\n",
    "\n",
    "    n_classes = 19 \n",
    "    matrix = np.zeros((n_classes,n_classes))\n",
    "    \n",
    "\n",
    "    for (test, pred) in zip(testlabels, predlabels):\n",
    "        # ---> Write code here\n",
    "        matrix[int(test)-1,int(pred)-1]+=1\n",
    "    return matrix\n",
    "\n"
   ]
  },
  {
   "cell_type": "code",
   "execution_count": 4,
   "metadata": {},
   "outputs": [],
   "source": [
    "from sklearn.model_selection import train_test_split \n",
    "X_train, X_test, y_train, y_test = train_test_split(train_inputs, train_labels, test_size=0.30)"
   ]
  },
  {
   "cell_type": "markdown",
   "metadata": {},
   "source": [
    "## SVM"
   ]
  },
  {
   "cell_type": "code",
   "execution_count": 20,
   "metadata": {},
   "outputs": [],
   "source": [
    "import sklearn.svm as svm\n",
    "from sklearn.model_selection import GridSearchCV\n",
    "from sklearn.preprocessing import StandardScaler\n",
    "from sklearn.decomposition import PCA\n",
    "from sklearn.naive_bayes import GaussianNB\n",
    "from sklearn.metrics import accuracy_score\n",
    "from sklearn.pipeline import make_pipeline"
   ]
  },
  {
   "cell_type": "code",
   "execution_count": null,
   "metadata": {},
   "outputs": [],
   "source": [
    "# STANDARDISATION \n"
   ]
  },
  {
   "cell_type": "code",
   "execution_count": 12,
   "metadata": {},
   "outputs": [
    {
     "data": {
      "text/html": [
       "<style>#sk-container-id-2 {color: black;background-color: white;}#sk-container-id-2 pre{padding: 0;}#sk-container-id-2 div.sk-toggleable {background-color: white;}#sk-container-id-2 label.sk-toggleable__label {cursor: pointer;display: block;width: 100%;margin-bottom: 0;padding: 0.3em;box-sizing: border-box;text-align: center;}#sk-container-id-2 label.sk-toggleable__label-arrow:before {content: \"▸\";float: left;margin-right: 0.25em;color: #696969;}#sk-container-id-2 label.sk-toggleable__label-arrow:hover:before {color: black;}#sk-container-id-2 div.sk-estimator:hover label.sk-toggleable__label-arrow:before {color: black;}#sk-container-id-2 div.sk-toggleable__content {max-height: 0;max-width: 0;overflow: hidden;text-align: left;background-color: #f0f8ff;}#sk-container-id-2 div.sk-toggleable__content pre {margin: 0.2em;color: black;border-radius: 0.25em;background-color: #f0f8ff;}#sk-container-id-2 input.sk-toggleable__control:checked~div.sk-toggleable__content {max-height: 200px;max-width: 100%;overflow: auto;}#sk-container-id-2 input.sk-toggleable__control:checked~label.sk-toggleable__label-arrow:before {content: \"▾\";}#sk-container-id-2 div.sk-estimator input.sk-toggleable__control:checked~label.sk-toggleable__label {background-color: #d4ebff;}#sk-container-id-2 div.sk-label input.sk-toggleable__control:checked~label.sk-toggleable__label {background-color: #d4ebff;}#sk-container-id-2 input.sk-hidden--visually {border: 0;clip: rect(1px 1px 1px 1px);clip: rect(1px, 1px, 1px, 1px);height: 1px;margin: -1px;overflow: hidden;padding: 0;position: absolute;width: 1px;}#sk-container-id-2 div.sk-estimator {font-family: monospace;background-color: #f0f8ff;border: 1px dotted black;border-radius: 0.25em;box-sizing: border-box;margin-bottom: 0.5em;}#sk-container-id-2 div.sk-estimator:hover {background-color: #d4ebff;}#sk-container-id-2 div.sk-parallel-item::after {content: \"\";width: 100%;border-bottom: 1px solid gray;flex-grow: 1;}#sk-container-id-2 div.sk-label:hover label.sk-toggleable__label {background-color: #d4ebff;}#sk-container-id-2 div.sk-serial::before {content: \"\";position: absolute;border-left: 1px solid gray;box-sizing: border-box;top: 0;bottom: 0;left: 50%;z-index: 0;}#sk-container-id-2 div.sk-serial {display: flex;flex-direction: column;align-items: center;background-color: white;padding-right: 0.2em;padding-left: 0.2em;position: relative;}#sk-container-id-2 div.sk-item {position: relative;z-index: 1;}#sk-container-id-2 div.sk-parallel {display: flex;align-items: stretch;justify-content: center;background-color: white;position: relative;}#sk-container-id-2 div.sk-item::before, #sk-container-id-2 div.sk-parallel-item::before {content: \"\";position: absolute;border-left: 1px solid gray;box-sizing: border-box;top: 0;bottom: 0;left: 50%;z-index: -1;}#sk-container-id-2 div.sk-parallel-item {display: flex;flex-direction: column;z-index: 1;position: relative;background-color: white;}#sk-container-id-2 div.sk-parallel-item:first-child::after {align-self: flex-end;width: 50%;}#sk-container-id-2 div.sk-parallel-item:last-child::after {align-self: flex-start;width: 50%;}#sk-container-id-2 div.sk-parallel-item:only-child::after {width: 0;}#sk-container-id-2 div.sk-dashed-wrapped {border: 1px dashed gray;margin: 0 0.4em 0.5em 0.4em;box-sizing: border-box;padding-bottom: 0.4em;background-color: white;}#sk-container-id-2 div.sk-label label {font-family: monospace;font-weight: bold;display: inline-block;line-height: 1.2em;}#sk-container-id-2 div.sk-label-container {text-align: center;}#sk-container-id-2 div.sk-container {/* jupyter's `normalize.less` sets `[hidden] { display: none; }` but bootstrap.min.css set `[hidden] { display: none !important; }` so we also need the `!important` here to be able to override the default hidden behavior on the sphinx rendered scikit-learn.org. See: https://github.com/scikit-learn/scikit-learn/issues/21755 */display: inline-block !important;position: relative;}#sk-container-id-2 div.sk-text-repr-fallback {display: none;}</style><div id=\"sk-container-id-2\" class=\"sk-top-container\"><div class=\"sk-text-repr-fallback\"><pre>SVC(C=5, gamma=0.05)</pre><b>In a Jupyter environment, please rerun this cell to show the HTML representation or trust the notebook. <br />On GitHub, the HTML representation is unable to render, please try loading this page with nbviewer.org.</b></div><div class=\"sk-container\" hidden><div class=\"sk-item\"><div class=\"sk-estimator sk-toggleable\"><input class=\"sk-toggleable__control sk-hidden--visually\" id=\"sk-estimator-id-2\" type=\"checkbox\" checked><label for=\"sk-estimator-id-2\" class=\"sk-toggleable__label sk-toggleable__label-arrow\">SVC</label><div class=\"sk-toggleable__content\"><pre>SVC(C=5, gamma=0.05)</pre></div></div></div></div></div>"
      ],
      "text/plain": [
       "SVC(C=5, gamma=0.05)"
      ]
     },
     "execution_count": 12,
     "metadata": {},
     "output_type": "execute_result"
    }
   ],
   "source": [
    "# svm = svm.SVC()\n",
    "# svm.fit(X_train,y_train)\n",
    "\n",
    "svm1 = svm.SVC(kernel=\"rbf\", C=5, gamma = 0.1)\n",
    "svm1.fit(X_train,y_train)\n",
    "\n",
    "# svm2 = svm.SVC(kernel=\"rbf\", C=5, gamma = 0.05)\n",
    "# svm2.fit(train_inputs, train_labels)\n"
   ]
  },
  {
   "cell_type": "code",
   "execution_count": 13,
   "metadata": {},
   "outputs": [
    {
     "data": {
      "text/html": [
       "<style>#sk-container-id-3 {color: black;background-color: white;}#sk-container-id-3 pre{padding: 0;}#sk-container-id-3 div.sk-toggleable {background-color: white;}#sk-container-id-3 label.sk-toggleable__label {cursor: pointer;display: block;width: 100%;margin-bottom: 0;padding: 0.3em;box-sizing: border-box;text-align: center;}#sk-container-id-3 label.sk-toggleable__label-arrow:before {content: \"▸\";float: left;margin-right: 0.25em;color: #696969;}#sk-container-id-3 label.sk-toggleable__label-arrow:hover:before {color: black;}#sk-container-id-3 div.sk-estimator:hover label.sk-toggleable__label-arrow:before {color: black;}#sk-container-id-3 div.sk-toggleable__content {max-height: 0;max-width: 0;overflow: hidden;text-align: left;background-color: #f0f8ff;}#sk-container-id-3 div.sk-toggleable__content pre {margin: 0.2em;color: black;border-radius: 0.25em;background-color: #f0f8ff;}#sk-container-id-3 input.sk-toggleable__control:checked~div.sk-toggleable__content {max-height: 200px;max-width: 100%;overflow: auto;}#sk-container-id-3 input.sk-toggleable__control:checked~label.sk-toggleable__label-arrow:before {content: \"▾\";}#sk-container-id-3 div.sk-estimator input.sk-toggleable__control:checked~label.sk-toggleable__label {background-color: #d4ebff;}#sk-container-id-3 div.sk-label input.sk-toggleable__control:checked~label.sk-toggleable__label {background-color: #d4ebff;}#sk-container-id-3 input.sk-hidden--visually {border: 0;clip: rect(1px 1px 1px 1px);clip: rect(1px, 1px, 1px, 1px);height: 1px;margin: -1px;overflow: hidden;padding: 0;position: absolute;width: 1px;}#sk-container-id-3 div.sk-estimator {font-family: monospace;background-color: #f0f8ff;border: 1px dotted black;border-radius: 0.25em;box-sizing: border-box;margin-bottom: 0.5em;}#sk-container-id-3 div.sk-estimator:hover {background-color: #d4ebff;}#sk-container-id-3 div.sk-parallel-item::after {content: \"\";width: 100%;border-bottom: 1px solid gray;flex-grow: 1;}#sk-container-id-3 div.sk-label:hover label.sk-toggleable__label {background-color: #d4ebff;}#sk-container-id-3 div.sk-serial::before {content: \"\";position: absolute;border-left: 1px solid gray;box-sizing: border-box;top: 0;bottom: 0;left: 50%;z-index: 0;}#sk-container-id-3 div.sk-serial {display: flex;flex-direction: column;align-items: center;background-color: white;padding-right: 0.2em;padding-left: 0.2em;position: relative;}#sk-container-id-3 div.sk-item {position: relative;z-index: 1;}#sk-container-id-3 div.sk-parallel {display: flex;align-items: stretch;justify-content: center;background-color: white;position: relative;}#sk-container-id-3 div.sk-item::before, #sk-container-id-3 div.sk-parallel-item::before {content: \"\";position: absolute;border-left: 1px solid gray;box-sizing: border-box;top: 0;bottom: 0;left: 50%;z-index: -1;}#sk-container-id-3 div.sk-parallel-item {display: flex;flex-direction: column;z-index: 1;position: relative;background-color: white;}#sk-container-id-3 div.sk-parallel-item:first-child::after {align-self: flex-end;width: 50%;}#sk-container-id-3 div.sk-parallel-item:last-child::after {align-self: flex-start;width: 50%;}#sk-container-id-3 div.sk-parallel-item:only-child::after {width: 0;}#sk-container-id-3 div.sk-dashed-wrapped {border: 1px dashed gray;margin: 0 0.4em 0.5em 0.4em;box-sizing: border-box;padding-bottom: 0.4em;background-color: white;}#sk-container-id-3 div.sk-label label {font-family: monospace;font-weight: bold;display: inline-block;line-height: 1.2em;}#sk-container-id-3 div.sk-label-container {text-align: center;}#sk-container-id-3 div.sk-container {/* jupyter's `normalize.less` sets `[hidden] { display: none; }` but bootstrap.min.css set `[hidden] { display: none !important; }` so we also need the `!important` here to be able to override the default hidden behavior on the sphinx rendered scikit-learn.org. See: https://github.com/scikit-learn/scikit-learn/issues/21755 */display: inline-block !important;position: relative;}#sk-container-id-3 div.sk-text-repr-fallback {display: none;}</style><div id=\"sk-container-id-3\" class=\"sk-top-container\"><div class=\"sk-text-repr-fallback\"><pre>SVC(kernel=&#x27;poly&#x27;)</pre><b>In a Jupyter environment, please rerun this cell to show the HTML representation or trust the notebook. <br />On GitHub, the HTML representation is unable to render, please try loading this page with nbviewer.org.</b></div><div class=\"sk-container\" hidden><div class=\"sk-item\"><div class=\"sk-estimator sk-toggleable\"><input class=\"sk-toggleable__control sk-hidden--visually\" id=\"sk-estimator-id-3\" type=\"checkbox\" checked><label for=\"sk-estimator-id-3\" class=\"sk-toggleable__label sk-toggleable__label-arrow\">SVC</label><div class=\"sk-toggleable__content\"><pre>SVC(kernel=&#x27;poly&#x27;)</pre></div></div></div></div></div>"
      ],
      "text/plain": [
       "SVC(kernel='poly')"
      ]
     },
     "execution_count": 13,
     "metadata": {},
     "output_type": "execute_result"
    }
   ],
   "source": [
    "svm2 = svm.SVC(kernel = 'poly')\n",
    "svm2.fit(X_train,y_train)"
   ]
  },
  {
   "cell_type": "code",
   "execution_count": 14,
   "metadata": {},
   "outputs": [
    {
     "data": {
      "text/html": [
       "<style>#sk-container-id-4 {color: black;background-color: white;}#sk-container-id-4 pre{padding: 0;}#sk-container-id-4 div.sk-toggleable {background-color: white;}#sk-container-id-4 label.sk-toggleable__label {cursor: pointer;display: block;width: 100%;margin-bottom: 0;padding: 0.3em;box-sizing: border-box;text-align: center;}#sk-container-id-4 label.sk-toggleable__label-arrow:before {content: \"▸\";float: left;margin-right: 0.25em;color: #696969;}#sk-container-id-4 label.sk-toggleable__label-arrow:hover:before {color: black;}#sk-container-id-4 div.sk-estimator:hover label.sk-toggleable__label-arrow:before {color: black;}#sk-container-id-4 div.sk-toggleable__content {max-height: 0;max-width: 0;overflow: hidden;text-align: left;background-color: #f0f8ff;}#sk-container-id-4 div.sk-toggleable__content pre {margin: 0.2em;color: black;border-radius: 0.25em;background-color: #f0f8ff;}#sk-container-id-4 input.sk-toggleable__control:checked~div.sk-toggleable__content {max-height: 200px;max-width: 100%;overflow: auto;}#sk-container-id-4 input.sk-toggleable__control:checked~label.sk-toggleable__label-arrow:before {content: \"▾\";}#sk-container-id-4 div.sk-estimator input.sk-toggleable__control:checked~label.sk-toggleable__label {background-color: #d4ebff;}#sk-container-id-4 div.sk-label input.sk-toggleable__control:checked~label.sk-toggleable__label {background-color: #d4ebff;}#sk-container-id-4 input.sk-hidden--visually {border: 0;clip: rect(1px 1px 1px 1px);clip: rect(1px, 1px, 1px, 1px);height: 1px;margin: -1px;overflow: hidden;padding: 0;position: absolute;width: 1px;}#sk-container-id-4 div.sk-estimator {font-family: monospace;background-color: #f0f8ff;border: 1px dotted black;border-radius: 0.25em;box-sizing: border-box;margin-bottom: 0.5em;}#sk-container-id-4 div.sk-estimator:hover {background-color: #d4ebff;}#sk-container-id-4 div.sk-parallel-item::after {content: \"\";width: 100%;border-bottom: 1px solid gray;flex-grow: 1;}#sk-container-id-4 div.sk-label:hover label.sk-toggleable__label {background-color: #d4ebff;}#sk-container-id-4 div.sk-serial::before {content: \"\";position: absolute;border-left: 1px solid gray;box-sizing: border-box;top: 0;bottom: 0;left: 50%;z-index: 0;}#sk-container-id-4 div.sk-serial {display: flex;flex-direction: column;align-items: center;background-color: white;padding-right: 0.2em;padding-left: 0.2em;position: relative;}#sk-container-id-4 div.sk-item {position: relative;z-index: 1;}#sk-container-id-4 div.sk-parallel {display: flex;align-items: stretch;justify-content: center;background-color: white;position: relative;}#sk-container-id-4 div.sk-item::before, #sk-container-id-4 div.sk-parallel-item::before {content: \"\";position: absolute;border-left: 1px solid gray;box-sizing: border-box;top: 0;bottom: 0;left: 50%;z-index: -1;}#sk-container-id-4 div.sk-parallel-item {display: flex;flex-direction: column;z-index: 1;position: relative;background-color: white;}#sk-container-id-4 div.sk-parallel-item:first-child::after {align-self: flex-end;width: 50%;}#sk-container-id-4 div.sk-parallel-item:last-child::after {align-self: flex-start;width: 50%;}#sk-container-id-4 div.sk-parallel-item:only-child::after {width: 0;}#sk-container-id-4 div.sk-dashed-wrapped {border: 1px dashed gray;margin: 0 0.4em 0.5em 0.4em;box-sizing: border-box;padding-bottom: 0.4em;background-color: white;}#sk-container-id-4 div.sk-label label {font-family: monospace;font-weight: bold;display: inline-block;line-height: 1.2em;}#sk-container-id-4 div.sk-label-container {text-align: center;}#sk-container-id-4 div.sk-container {/* jupyter's `normalize.less` sets `[hidden] { display: none; }` but bootstrap.min.css set `[hidden] { display: none !important; }` so we also need the `!important` here to be able to override the default hidden behavior on the sphinx rendered scikit-learn.org. See: https://github.com/scikit-learn/scikit-learn/issues/21755 */display: inline-block !important;position: relative;}#sk-container-id-4 div.sk-text-repr-fallback {display: none;}</style><div id=\"sk-container-id-4\" class=\"sk-top-container\"><div class=\"sk-text-repr-fallback\"><pre>SVC(kernel=&#x27;sigmoid&#x27;)</pre><b>In a Jupyter environment, please rerun this cell to show the HTML representation or trust the notebook. <br />On GitHub, the HTML representation is unable to render, please try loading this page with nbviewer.org.</b></div><div class=\"sk-container\" hidden><div class=\"sk-item\"><div class=\"sk-estimator sk-toggleable\"><input class=\"sk-toggleable__control sk-hidden--visually\" id=\"sk-estimator-id-4\" type=\"checkbox\" checked><label for=\"sk-estimator-id-4\" class=\"sk-toggleable__label sk-toggleable__label-arrow\">SVC</label><div class=\"sk-toggleable__content\"><pre>SVC(kernel=&#x27;sigmoid&#x27;)</pre></div></div></div></div></div>"
      ],
      "text/plain": [
       "SVC(kernel='sigmoid')"
      ]
     },
     "execution_count": 14,
     "metadata": {},
     "output_type": "execute_result"
    }
   ],
   "source": [
    "svm3 = svm.SVC(kernel=\"sigmoid\")\n",
    "svm3.fit(X_train,y_train)"
   ]
  },
  {
   "cell_type": "code",
   "execution_count": 16,
   "metadata": {},
   "outputs": [],
   "source": [
    "classes_pred_svm1 = svm1.predict(X_test)\n",
    "classes_pred_svm2 = svm2.predict(X_test)\n",
    "classes_pred_svm3 = svm3.predict(X_test)\n",
    "\n"
   ]
  },
  {
   "cell_type": "code",
   "execution_count": 18,
   "metadata": {},
   "outputs": [
    {
     "name": "stdout",
     "output_type": "stream",
     "text": [
      "The test error is  55.43 %\n",
      "The test error is  26.04 %\n",
      "The test error is  93.5 %\n"
     ]
    }
   ],
   "source": [
    "def calculateError(classes_pred):\n",
    "    # Confusion Matrix\n",
    "    confmat = conf_matrix(y_test, classes_pred)\n",
    "    # print('The confusion matrix is:')\n",
    "    # plt.figure(figsize=(15,15))\n",
    "    # sns.heatmap(confmat, annot=True, \n",
    "    #         linewidths=.5, square = True, cmap = 'Blues_r', fmt='0.4g');\n",
    "\n",
    "    # plt.ylabel('Actual label')\n",
    "    # plt.xlabel('Predicted label')\n",
    "            \n",
    "    # Test error\n",
    "    sum_preds = np.sum(confmat)\n",
    "    sum_correct = np.sum(np.diag(confmat))\n",
    "    print(\"The test error is \", round(100 * (1.0 - (float(sum_correct) / float(sum_preds))), 2), \"%\")\n",
    "\n",
    "\n",
    "\n",
    "calculateError(classes_pred_svm1)\n",
    "calculateError(classes_pred_svm2)\n",
    "calculateError(classes_pred_svm3)\n"
   ]
  },
  {
   "cell_type": "markdown",
   "metadata": {},
   "source": [
    "In order : \n",
    "\n",
    "svm1 = svm.SVC(kernel=\"rbf\", C=5, gamma = 0.05)\n",
    "svm2 = svm.SVC(kernel=\"poly\")\n",
    "svm3 = svm.SVC(kernel=\"sigmoid\")\n",
    "\n",
    "\n",
    "\n",
    "The test error is  55.43 %\n",
    "The test error is  26.04 %\n",
    "The test error is  93.5 %"
   ]
  },
  {
   "cell_type": "code",
   "execution_count": null,
   "metadata": {},
   "outputs": [],
   "source": [
    "## Pour soumettre \n",
    "classes_pred_SVM = svm.predict(test_inputs)\n",
    "\n",
    "indexes = [x for x in range(10000)]\n",
    "classes = classes_pred_SVM\n",
    "\n",
    "df = pd.DataFrame({\n",
    "    'Index': indexes,\n",
    "    'Class': classes})\n",
    "\n",
    "\n",
    "df.to_csv(\"classification_results/predSVM_1.csv\",sep=\",\",index=False)"
   ]
  },
  {
   "cell_type": "markdown",
   "metadata": {},
   "source": [
    "## NAIVES BAYES \n",
    "\n",
    "Sans aucune forme de pré-traitement, le classifieur Naive Bayes obtient un score de 7,39% seulement sur D_test."
   ]
  },
  {
   "cell_type": "code",
   "execution_count": 54,
   "metadata": {},
   "outputs": [
    {
     "name": "stdout",
     "output_type": "stream",
     "text": [
      "7.3999999999999995\n"
     ]
    }
   ],
   "source": [
    "gaussianClassifier = GaussianNB()\n",
    "gaussianClassifier.fit(X_train, y_train)\n",
    "pred_test = gaussianClassifier.predict(X_test)\n",
    "print(accuracy_score(y_test, pred_test)*100)"
   ]
  },
  {
   "cell_type": "markdown",
   "metadata": {},
   "source": [
    "Pour réduire le nombre de features que doit apprendre le Naive Bayes, on va faire une PCA en premier. \n",
    "\n",
    "On va essayer de trouver le parametre optimal d'une PCA, suivi d'un classifieur Bayes naif.\n",
    "Pour PCA, il s'agit de savoir combien de composantes principales garder, pour generer la meilleure prediction par Naive Bayes.\n",
    "\n",
    "On peut regrouper la procédure (PCA ensuite Bayes) dans un pipeline sklearn."
   ]
  },
  {
   "cell_type": "code",
   "execution_count": 58,
   "metadata": {},
   "outputs": [
    {
     "name": "stdout",
     "output_type": "stream",
     "text": [
      "22.433333333333334\n"
     ]
    }
   ],
   "source": [
    "# Fit to training data and predict on test data (PCA + Naive Bayes)\n",
    "PCA_NaiveBayes = make_pipeline(PCA(n_components=25), GaussianNB())\n",
    "PCA_NaiveBayes.fit(X_train, y_train)\n",
    "pred_test = PCA_NaiveBayes.predict(X_test)\n",
    "print(accuracy_score(y_test, pred_test)*100)\n"
   ]
  },
  {
   "cell_type": "code",
   "execution_count": 59,
   "metadata": {},
   "outputs": [],
   "source": [
    "max_components_to_test = 250\n",
    "kComponents = [k+1 for k in range(max_components_to_test)]\n",
    "def findBestNumberComponentsForPCA_NaiveBayes() : \n",
    "    accuracyArr = []\n",
    "\n",
    "    bestParameter = -1\n",
    "    bestAccuracy = -1\n",
    "    for k in kComponents : \n",
    "        # Fit to training data and predict on test data (PCA with k components + Naive Bayes)\n",
    "        PCA_NaiveBayes = make_pipeline(PCA(n_components=k), GaussianNB())\n",
    "        PCA_NaiveBayes.fit(X_train, y_train)\n",
    "        pred_test = PCA_NaiveBayes.predict(X_test)\n",
    "        accuracy = accuracy_score(y_test, pred_test)*100\n",
    "        if k%10 ==0 : print(f'Accuracy for PCA with {k} components is : {accuracy}%')\n",
    "        accuracyArr.append(accuracy)\n",
    "        if accuracy>bestAccuracy :\n",
    "            bestAccuracy = accuracy\n",
    "            bestParameter = k\n",
    "\n",
    "    return bestParameter, bestAccuracy, accuracyArr"
   ]
  },
  {
   "cell_type": "code",
   "execution_count": 60,
   "metadata": {},
   "outputs": [
    {
     "name": "stdout",
     "output_type": "stream",
     "text": [
      "Accuracy for PCA with 10 components is : 19.433333333333334%\n",
      "Accuracy for PCA with 20 components is : 22.366666666666667%\n",
      "Accuracy for PCA with 30 components is : 22.653333333333332%\n",
      "Accuracy for PCA with 40 components is : 23.186666666666667%\n",
      "Accuracy for PCA with 50 components is : 23.253333333333334%\n",
      "Accuracy for PCA with 60 components is : 23.24%\n",
      "Accuracy for PCA with 70 components is : 22.953333333333333%\n",
      "Accuracy for PCA with 80 components is : 22.926666666666666%\n",
      "Accuracy for PCA with 90 components is : 22.54%\n",
      "Accuracy for PCA with 100 components is : 22.486666666666665%\n",
      "Accuracy for PCA with 110 components is : 22.14%\n",
      "Accuracy for PCA with 120 components is : 21.8%\n",
      "Accuracy for PCA with 130 components is : 21.6%\n",
      "Accuracy for PCA with 140 components is : 21.28666666666667%\n",
      "Accuracy for PCA with 150 components is : 20.713333333333335%\n",
      "Accuracy for PCA with 160 components is : 20.8%\n",
      "Accuracy for PCA with 170 components is : 20.62%\n",
      "Accuracy for PCA with 180 components is : 20.386666666666667%\n",
      "Accuracy for PCA with 190 components is : 20.24%\n",
      "Accuracy for PCA with 200 components is : 19.773333333333333%\n",
      "Accuracy for PCA with 210 components is : 19.386666666666667%\n",
      "Accuracy for PCA with 220 components is : 19.12%\n",
      "Accuracy for PCA with 230 components is : 19.03333333333333%\n",
      "Accuracy for PCA with 240 components is : 19.0%\n",
      "Accuracy for PCA with 250 components is : 18.746666666666666%\n"
     ]
    }
   ],
   "source": [
    "bestParameter, bestAccuracy, accuracyArr = findBestNumberComponentsForPCA_NaiveBayes()"
   ]
  },
  {
   "cell_type": "markdown",
   "metadata": {},
   "source": [
    "On constate que la précision du classifieur Naive Bayes va en augmentant jusqu'à un certain seuil, au delà duquel la précision du classifieur diminue graduellement. \n",
    "\n",
    "Le nombre optimal de Composantes Principales à utiliser ici avec Naive Bayes est X, et cela permet un score de X%."
   ]
  },
  {
   "cell_type": "code",
   "execution_count": 67,
   "metadata": {},
   "outputs": [
    {
     "name": "stdout",
     "output_type": "stream",
     "text": [
      "Number of Principal Components that generated the best prediction with Naive Bayes : 64\n",
      "Accuracy : 23.56\n"
     ]
    },
    {
     "data": {
      "image/png": "[encoded data removed]",
      "text/plain": [
       "<Figure size 640x480 with 1 Axes>"
      ]
     },
     "metadata": {},
     "output_type": "display_data"
    }
   ],
   "source": [
    "print(f'Number of Principal Components that generated the best prediction with Naive Bayes : {bestParameter}')\n",
    "print(f'Accuracy : {bestAccuracy}')\n",
    "\n",
    "plt.plot(kComponents, accuracyArr)\n",
    "plt.title('Accuracy % on randomized test data when using Naives Bayes with the K Principal components of training data')\n",
    "plt.xlabel('Number of components used (post-PCA)')\n",
    "plt.ylabel('Score on test data (% accuracy)')\n",
    "plt.show()"
   ]
  },
  {
   "cell_type": "markdown",
   "metadata": {},
   "source": [
    "## Neural-Network\n",
    "https://www.linkedin.com/pulse/choosing-number-hidden-layers-neurons-neural-networks-sachdev/\n",
    "\n",
    "https://victorzhou.com/blog/keras-cnn-tutorial/\n",
    "\n",
    "https://keras.io/examples/vision/mnist_convnet/ # 99% accuracy"
   ]
  },
  {
   "cell_type": "code",
   "execution_count": 94,
   "metadata": {},
   "outputs": [],
   "source": [
    "# import keras\n",
    "from keras.layers import Dense, Dropout, Activation, Flatten\n",
    "from keras.models import Sequential\n",
    "from keras.utils import to_categorical"
   ]
  },
  {
   "cell_type": "code",
   "execution_count": 75,
   "metadata": {},
   "outputs": [
    {
     "name": "stdout",
     "output_type": "stream",
     "text": [
      "First 5 training lables:\n",
      " [ 5  9  8  7 14]\n",
      "First 5 training lables as one-hot encoded vectors:\n",
      " [[0. 0. 0. 0. 0. 1. 0. 0. 0. 0. 0. 0. 0. 0. 0. 0. 0. 0. 0.]\n",
      " [0. 0. 0. 0. 0. 0. 0. 0. 0. 1. 0. 0. 0. 0. 0. 0. 0. 0. 0.]\n",
      " [0. 0. 0. 0. 0. 0. 0. 0. 1. 0. 0. 0. 0. 0. 0. 0. 0. 0. 0.]\n",
      " [0. 0. 0. 0. 0. 0. 0. 1. 0. 0. 0. 0. 0. 0. 0. 0. 0. 0. 0.]\n",
      " [0. 0. 0. 0. 0. 0. 0. 0. 0. 0. 0. 0. 0. 0. 1. 0. 0. 0. 0.]]\n"
     ]
    }
   ],
   "source": [
    "# Convert to \"one-hot\" vectors using the to_categorical function\n",
    "X_train, X_test, y_train, y_test = train_test_split(train_inputs, train_labels, test_size=0.30)\n",
    "print(\"First 5 training labels:\\n\", y_train[:5])\n",
    "\n",
    "num_classes = 19\n",
    "y_train = to_categorical(y_train, num_classes)\n",
    "y_test = to_categorical(y_test, num_classes)\n",
    "print(\"First 5 training lables as one-hot encoded vectors:\\n\", y_train[:5])"
   ]
  },
  {
   "cell_type": "code",
   "execution_count": 95,
   "metadata": {},
   "outputs": [],
   "source": [
    "# Initialize Neural Network and add layers to it. \n",
    "model = Sequential()\n",
    "# model.add(Flatten(input_shape=(28,28)))\n",
    "\n",
    "#Layer 1\n",
    "p = X_train.shape[1] # 1568\n",
    "model.add(Dense(1024, input_shape=(p,))) \n",
    "model.add(Activation('relu')) # Rectified linear unit \n",
    "model.add(Dropout(0.1)) # randomly deactivate some nodes to avoid overfitting \n",
    "\n",
    "#Layer 2\n",
    "#number of neurons \n",
    "numberNeuronsLayer2 = int(math.sqrt(1024 * 512)) # regle de pouce\n",
    "model.add(Dense(numberNeuronsLayer2))\n",
    "model.add(Activation('relu'))\n",
    "model.add(Dropout(0.1))\n",
    "\n",
    "#Layer 3   \n",
    "numberNeuronsLayer3 = int(math.sqrt(512 * 256)) \n",
    "model.add(Dense(numberNeuronsLayer3))\n",
    "model.add(Activation('relu'))\n",
    "model.add(Dropout(0.1))\n",
    "\n",
    "\n",
    "#Layer 4   \n",
    "numberNeuronsLayer4 = 128\n",
    "model.add(Dense(numberNeuronsLayer4))\n",
    "model.add(Activation('relu'))\n",
    "model.add(Dropout(0.1))\n",
    "\n",
    "#Layer 5\n",
    "numberNeuronsLayer5 = 64\n",
    "model.add(Dense(numberNeuronsLayer5))\n",
    "model.add(Activation('relu'))\n",
    "model.add(Dropout(0.1))\n",
    "\n",
    "\n",
    "#Final layer \n",
    "model.add(Dense(num_classes, activation='softmax'))\n"
   ]
  },
  {
   "cell_type": "code",
   "execution_count": 96,
   "metadata": {},
   "outputs": [
    {
     "name": "stdout",
     "output_type": "stream",
     "text": [
      "Model: \"sequential_5\"\n",
      "_________________________________________________________________\n",
      " Layer (type)                Output Shape              Param #   \n",
      "=================================================================\n",
      " dense_10 (Dense)            (None, 1024)              1606656   \n",
      "                                                                 \n",
      " activation (Activation)     (None, 1024)              0         \n",
      "                                                                 \n",
      " dropout (Dropout)           (None, 1024)              0         \n",
      "                                                                 \n",
      " dense_11 (Dense)            (None, 724)               742100    \n",
      "                                                                 \n",
      " activation_1 (Activation)   (None, 724)               0         \n",
      "                                                                 \n",
      " dropout_1 (Dropout)         (None, 724)               0         \n",
      "                                                                 \n",
      " dense_12 (Dense)            (None, 362)               262450    \n",
      "                                                                 \n",
      " activation_2 (Activation)   (None, 362)               0         \n",
      "                                                                 \n",
      " dropout_2 (Dropout)         (None, 362)               0         \n",
      "                                                                 \n",
      " dense_13 (Dense)            (None, 128)               46464     \n",
      "                                                                 \n",
      " activation_3 (Activation)   (None, 128)               0         \n",
      "                                                                 \n",
      " dropout_3 (Dropout)         (None, 128)               0         \n",
      "                                                                 \n",
      " dense_14 (Dense)            (None, 64)                8256      \n",
      "                                                                 \n",
      " activation_4 (Activation)   (None, 64)                0         \n",
      "                                                                 \n",
      " dropout_4 (Dropout)         (None, 64)                0         \n",
      "                                                                 \n",
      " dense_15 (Dense)            (None, 19)                1235      \n",
      "                                                                 \n",
      "=================================================================\n",
      "Total params: 2,667,161\n",
      "Trainable params: 2,667,161\n",
      "Non-trainable params: 0\n",
      "_________________________________________________________________\n"
     ]
    }
   ],
   "source": [
    "model.compile(loss='categorical_crossentropy', \n",
    "              optimizer='adam',\n",
    "              metrics=['acc'])\n",
    "\n",
    "model.summary()"
   ]
  },
  {
   "cell_type": "code",
   "execution_count": 100,
   "metadata": {},
   "outputs": [
    {
     "name": "stdout",
     "output_type": "stream",
     "text": [
      "Epoch 1/200\n",
      "274/274 [==============================] - 6s 21ms/step - loss: 0.0940 - acc: 0.9725 - val_loss: 0.4130 - val_acc: 0.9119\n",
      "Epoch 2/200\n",
      "274/274 [==============================] - 6s 21ms/step - loss: 0.0944 - acc: 0.9740 - val_loss: 0.4079 - val_acc: 0.9171\n",
      "Epoch 3/200\n",
      "274/274 [==============================] - 6s 20ms/step - loss: 0.0942 - acc: 0.9737 - val_loss: 0.3872 - val_acc: 0.9158\n",
      "Epoch 4/200\n",
      "274/274 [==============================] - 6s 21ms/step - loss: 0.0872 - acc: 0.9749 - val_loss: 0.3990 - val_acc: 0.9140\n",
      "Epoch 5/200\n",
      "274/274 [==============================] - 6s 21ms/step - loss: 0.0775 - acc: 0.9768 - val_loss: 0.3981 - val_acc: 0.9171\n",
      "Epoch 6/200\n",
      "274/274 [==============================] - 6s 21ms/step - loss: 0.0800 - acc: 0.9776 - val_loss: 0.4203 - val_acc: 0.9166\n",
      "Epoch 7/200\n",
      "274/274 [==============================] - 6s 21ms/step - loss: 0.0719 - acc: 0.9795 - val_loss: 0.4468 - val_acc: 0.9137\n",
      "Epoch 8/200\n",
      "274/274 [==============================] - 6s 21ms/step - loss: 0.0797 - acc: 0.9786 - val_loss: 0.4180 - val_acc: 0.9131\n",
      "Epoch 9/200\n",
      "274/274 [==============================] - 6s 21ms/step - loss: 0.0675 - acc: 0.9806 - val_loss: 0.4410 - val_acc: 0.9157\n",
      "Epoch 10/200\n",
      "274/274 [==============================] - 6s 22ms/step - loss: 0.0682 - acc: 0.9812 - val_loss: 0.4252 - val_acc: 0.9165\n",
      "Epoch 11/200\n",
      "274/274 [==============================] - 6s 21ms/step - loss: 0.0649 - acc: 0.9813 - val_loss: 0.4497 - val_acc: 0.9167\n",
      "Epoch 12/200\n",
      "274/274 [==============================] - 6s 21ms/step - loss: 0.0625 - acc: 0.9821 - val_loss: 0.4473 - val_acc: 0.9167\n",
      "Epoch 13/200\n",
      "274/274 [==============================] - 6s 20ms/step - loss: 0.0651 - acc: 0.9819 - val_loss: 0.4471 - val_acc: 0.9165\n",
      "Epoch 14/200\n",
      "274/274 [==============================] - 6s 20ms/step - loss: 0.0560 - acc: 0.9837 - val_loss: 0.4424 - val_acc: 0.9196\n",
      "Epoch 15/200\n",
      "274/274 [==============================] - 6s 20ms/step - loss: 0.0576 - acc: 0.9849 - val_loss: 0.4148 - val_acc: 0.9221\n",
      "Epoch 16/200\n",
      "274/274 [==============================] - 6s 20ms/step - loss: 0.0544 - acc: 0.9852 - val_loss: 0.4276 - val_acc: 0.9208\n",
      "Epoch 17/200\n",
      "274/274 [==============================] - 6s 21ms/step - loss: 0.0518 - acc: 0.9865 - val_loss: 0.4335 - val_acc: 0.9197\n",
      "Epoch 18/200\n",
      "274/274 [==============================] - 6s 20ms/step - loss: 0.0487 - acc: 0.9870 - val_loss: 0.4441 - val_acc: 0.9202\n",
      "Epoch 19/200\n",
      "274/274 [==============================] - 6s 20ms/step - loss: 0.0546 - acc: 0.9855 - val_loss: 0.4317 - val_acc: 0.9175\n",
      "Epoch 20/200\n",
      "274/274 [==============================] - 6s 20ms/step - loss: 0.0453 - acc: 0.9878 - val_loss: 0.4591 - val_acc: 0.9221\n",
      "Epoch 21/200\n",
      "274/274 [==============================] - 6s 21ms/step - loss: 0.0490 - acc: 0.9861 - val_loss: 0.4664 - val_acc: 0.9172\n",
      "Epoch 22/200\n",
      "274/274 [==============================] - 6s 20ms/step - loss: 0.0484 - acc: 0.9862 - val_loss: 0.4627 - val_acc: 0.9175\n",
      "Epoch 23/200\n",
      "274/274 [==============================] - 6s 21ms/step - loss: 0.0517 - acc: 0.9854 - val_loss: 0.4582 - val_acc: 0.9182\n",
      "Epoch 24/200\n",
      "274/274 [==============================] - 6s 22ms/step - loss: 0.0452 - acc: 0.9885 - val_loss: 0.4435 - val_acc: 0.9207\n",
      "Epoch 25/200\n",
      "274/274 [==============================] - 6s 22ms/step - loss: 0.0425 - acc: 0.9889 - val_loss: 0.4570 - val_acc: 0.9239\n",
      "Epoch 26/200\n",
      "274/274 [==============================] - 6s 22ms/step - loss: 0.0422 - acc: 0.9883 - val_loss: 0.4540 - val_acc: 0.9221\n",
      "Epoch 27/200\n",
      "274/274 [==============================] - 6s 22ms/step - loss: 0.0426 - acc: 0.9893 - val_loss: 0.4571 - val_acc: 0.9251\n",
      "Epoch 28/200\n",
      "274/274 [==============================] - 6s 21ms/step - loss: 0.0521 - acc: 0.9871 - val_loss: 0.3964 - val_acc: 0.9220\n",
      "Epoch 29/200\n",
      "274/274 [==============================] - 6s 20ms/step - loss: 0.0363 - acc: 0.9907 - val_loss: 0.4533 - val_acc: 0.9264\n",
      "Epoch 30/200\n",
      "274/274 [==============================] - 5s 20ms/step - loss: 0.0424 - acc: 0.9888 - val_loss: 0.4516 - val_acc: 0.9237\n",
      "Epoch 31/200\n",
      "274/274 [==============================] - 5s 20ms/step - loss: 0.0425 - acc: 0.9879 - val_loss: 0.4407 - val_acc: 0.9246\n",
      "Epoch 32/200\n",
      "274/274 [==============================] - 5s 20ms/step - loss: 0.0390 - acc: 0.9895 - val_loss: 0.4315 - val_acc: 0.9274\n",
      "Epoch 33/200\n",
      "274/274 [==============================] - 5s 20ms/step - loss: 0.0406 - acc: 0.9895 - val_loss: 0.4494 - val_acc: 0.9247\n",
      "Epoch 34/200\n",
      "274/274 [==============================] - 6s 20ms/step - loss: 0.0359 - acc: 0.9901 - val_loss: 0.4331 - val_acc: 0.9261\n",
      "Epoch 35/200\n",
      "274/274 [==============================] - 5s 20ms/step - loss: 0.0373 - acc: 0.9912 - val_loss: 0.4564 - val_acc: 0.9256\n",
      "Epoch 36/200\n",
      "274/274 [==============================] - 5s 20ms/step - loss: 0.0375 - acc: 0.9903 - val_loss: 0.4680 - val_acc: 0.9248\n",
      "Epoch 37/200\n",
      "274/274 [==============================] - 5s 20ms/step - loss: 0.0387 - acc: 0.9892 - val_loss: 0.4763 - val_acc: 0.9260\n",
      "Epoch 38/200\n",
      "274/274 [==============================] - 5s 20ms/step - loss: 0.0382 - acc: 0.9907 - val_loss: 0.4365 - val_acc: 0.9273\n",
      "Epoch 39/200\n",
      "274/274 [==============================] - 6s 22ms/step - loss: 0.0368 - acc: 0.9902 - val_loss: 0.4614 - val_acc: 0.9261\n",
      "Epoch 40/200\n",
      "274/274 [==============================] - 6s 22ms/step - loss: 0.0359 - acc: 0.9897 - val_loss: 0.4378 - val_acc: 0.9285\n",
      "Epoch 41/200\n",
      "274/274 [==============================] - 6s 21ms/step - loss: 0.0328 - acc: 0.9910 - val_loss: 0.4419 - val_acc: 0.9292\n",
      "Epoch 42/200\n",
      "274/274 [==============================] - 6s 21ms/step - loss: 0.0392 - acc: 0.9901 - val_loss: 0.4639 - val_acc: 0.9219\n",
      "Epoch 43/200\n",
      "274/274 [==============================] - 6s 21ms/step - loss: 0.0345 - acc: 0.9911 - val_loss: 0.4549 - val_acc: 0.9253\n",
      "Epoch 44/200\n",
      "274/274 [==============================] - 6s 21ms/step - loss: 0.0315 - acc: 0.9924 - val_loss: 0.4580 - val_acc: 0.9259\n",
      "Epoch 45/200\n",
      "274/274 [==============================] - 6s 21ms/step - loss: 0.0358 - acc: 0.9901 - val_loss: 0.4352 - val_acc: 0.9254\n",
      "Epoch 46/200\n",
      "274/274 [==============================] - 6s 21ms/step - loss: 0.0294 - acc: 0.9921 - val_loss: 0.4567 - val_acc: 0.9260\n",
      "Epoch 47/200\n",
      "274/274 [==============================] - 6s 21ms/step - loss: 0.0322 - acc: 0.9914 - val_loss: 0.4388 - val_acc: 0.9256\n",
      "Epoch 48/200\n",
      "274/274 [==============================] - 6s 21ms/step - loss: 0.0295 - acc: 0.9929 - val_loss: 0.4717 - val_acc: 0.9299\n",
      "Epoch 49/200\n",
      "274/274 [==============================] - 6s 21ms/step - loss: 0.0347 - acc: 0.9911 - val_loss: 0.4692 - val_acc: 0.9270\n",
      "Epoch 50/200\n",
      "274/274 [==============================] - 6s 21ms/step - loss: 0.0275 - acc: 0.9924 - val_loss: 0.5048 - val_acc: 0.9295\n",
      "Epoch 51/200\n",
      "274/274 [==============================] - 6s 21ms/step - loss: 0.0324 - acc: 0.9920 - val_loss: 0.4779 - val_acc: 0.9272\n",
      "Epoch 52/200\n",
      "274/274 [==============================] - 6s 21ms/step - loss: 0.0312 - acc: 0.9919 - val_loss: 0.4968 - val_acc: 0.9260\n",
      "Epoch 53/200\n",
      "274/274 [==============================] - 6s 22ms/step - loss: 0.0285 - acc: 0.9922 - val_loss: 0.4974 - val_acc: 0.9275\n",
      "Epoch 54/200\n",
      "274/274 [==============================] - 6s 22ms/step - loss: 0.0307 - acc: 0.9919 - val_loss: 0.5176 - val_acc: 0.9233\n",
      "Epoch 55/200\n",
      "274/274 [==============================] - 6s 22ms/step - loss: 0.0329 - acc: 0.9913 - val_loss: 0.5056 - val_acc: 0.9288\n",
      "Epoch 56/200\n",
      "274/274 [==============================] - 6s 22ms/step - loss: 0.0358 - acc: 0.9905 - val_loss: 0.4858 - val_acc: 0.9247\n",
      "Epoch 57/200\n",
      "274/274 [==============================] - 6s 22ms/step - loss: 0.0290 - acc: 0.9926 - val_loss: 0.4914 - val_acc: 0.9245\n",
      "Epoch 58/200\n",
      "274/274 [==============================] - 6s 22ms/step - loss: 0.0328 - acc: 0.9915 - val_loss: 0.4627 - val_acc: 0.9283\n",
      "Epoch 59/200\n",
      "274/274 [==============================] - 6s 21ms/step - loss: 0.0283 - acc: 0.9928 - val_loss: 0.4739 - val_acc: 0.9303\n",
      "Epoch 60/200\n",
      "274/274 [==============================] - 6s 22ms/step - loss: 0.0283 - acc: 0.9928 - val_loss: 0.4602 - val_acc: 0.9301\n",
      "Epoch 61/200\n",
      "274/274 [==============================] - 6s 22ms/step - loss: 0.0308 - acc: 0.9925 - val_loss: 0.4503 - val_acc: 0.9299\n",
      "Epoch 62/200\n",
      "274/274 [==============================] - 6s 21ms/step - loss: 0.0233 - acc: 0.9939 - val_loss: 0.5080 - val_acc: 0.9269\n",
      "Epoch 63/200\n",
      "274/274 [==============================] - 6s 22ms/step - loss: 0.0298 - acc: 0.9924 - val_loss: 0.4511 - val_acc: 0.9296\n",
      "Epoch 64/200\n",
      "274/274 [==============================] - 6s 22ms/step - loss: 0.0194 - acc: 0.9947 - val_loss: 0.5014 - val_acc: 0.9321\n",
      "Epoch 65/200\n",
      "274/274 [==============================] - 6s 22ms/step - loss: 0.0345 - acc: 0.9914 - val_loss: 0.4802 - val_acc: 0.9253\n",
      "Epoch 66/200\n",
      "274/274 [==============================] - 6s 22ms/step - loss: 0.0322 - acc: 0.9916 - val_loss: 0.4546 - val_acc: 0.9261\n",
      "Epoch 67/200\n",
      "274/274 [==============================] - 6s 22ms/step - loss: 0.0217 - acc: 0.9940 - val_loss: 0.5174 - val_acc: 0.9291\n",
      "Epoch 68/200\n",
      "274/274 [==============================] - 6s 21ms/step - loss: 0.0256 - acc: 0.9934 - val_loss: 0.4625 - val_acc: 0.9326\n",
      "Epoch 69/200\n",
      "274/274 [==============================] - 6s 22ms/step - loss: 0.0264 - acc: 0.9931 - val_loss: 0.4797 - val_acc: 0.9277\n",
      "Epoch 70/200\n",
      "274/274 [==============================] - 6s 22ms/step - loss: 0.0243 - acc: 0.9938 - val_loss: 0.4914 - val_acc: 0.9294\n",
      "Epoch 71/200\n",
      "274/274 [==============================] - 6s 22ms/step - loss: 0.0221 - acc: 0.9940 - val_loss: 0.4933 - val_acc: 0.9329\n",
      "Epoch 72/200\n",
      "274/274 [==============================] - 6s 22ms/step - loss: 0.0349 - acc: 0.9908 - val_loss: 0.4902 - val_acc: 0.9267\n",
      "Epoch 73/200\n",
      "274/274 [==============================] - 6s 22ms/step - loss: 0.0274 - acc: 0.9931 - val_loss: 0.4758 - val_acc: 0.9306\n",
      "Epoch 74/200\n",
      "274/274 [==============================] - 6s 22ms/step - loss: 0.0271 - acc: 0.9942 - val_loss: 0.4742 - val_acc: 0.9313\n",
      "Epoch 75/200\n",
      "274/274 [==============================] - 6s 22ms/step - loss: 0.0270 - acc: 0.9933 - val_loss: 0.4778 - val_acc: 0.9289\n",
      "Epoch 76/200\n",
      "274/274 [==============================] - 6s 23ms/step - loss: 0.0191 - acc: 0.9951 - val_loss: 0.5156 - val_acc: 0.9338\n",
      "Epoch 77/200\n",
      "274/274 [==============================] - 6s 22ms/step - loss: 0.0229 - acc: 0.9943 - val_loss: 0.5114 - val_acc: 0.9326\n",
      "Epoch 78/200\n",
      "274/274 [==============================] - 6s 22ms/step - loss: 0.0251 - acc: 0.9937 - val_loss: 0.4874 - val_acc: 0.9310\n",
      "Epoch 79/200\n",
      "274/274 [==============================] - 6s 21ms/step - loss: 0.0298 - acc: 0.9929 - val_loss: 0.4976 - val_acc: 0.9319\n",
      "Epoch 80/200\n",
      "274/274 [==============================] - 6s 21ms/step - loss: 0.0262 - acc: 0.9939 - val_loss: 0.4895 - val_acc: 0.9313\n",
      "Epoch 81/200\n",
      "274/274 [==============================] - 6s 22ms/step - loss: 0.0275 - acc: 0.9932 - val_loss: 0.4575 - val_acc: 0.9341\n",
      "Epoch 82/200\n",
      "274/274 [==============================] - 6s 21ms/step - loss: 0.0227 - acc: 0.9945 - val_loss: 0.4747 - val_acc: 0.9342\n",
      "Epoch 83/200\n",
      "274/274 [==============================] - 6s 21ms/step - loss: 0.0213 - acc: 0.9951 - val_loss: 0.4672 - val_acc: 0.9313\n",
      "Epoch 84/200\n",
      "274/274 [==============================] - 6s 22ms/step - loss: 0.0251 - acc: 0.9937 - val_loss: 0.4961 - val_acc: 0.9264\n",
      "Epoch 85/200\n",
      "274/274 [==============================] - 6s 21ms/step - loss: 0.0282 - acc: 0.9932 - val_loss: 0.5142 - val_acc: 0.9296\n",
      "Epoch 86/200\n",
      "274/274 [==============================] - 6s 22ms/step - loss: 0.0205 - acc: 0.9951 - val_loss: 0.5459 - val_acc: 0.9297\n",
      "Epoch 87/200\n",
      "274/274 [==============================] - 6s 21ms/step - loss: 0.0277 - acc: 0.9933 - val_loss: 0.5071 - val_acc: 0.9271\n",
      "Epoch 88/200\n",
      "274/274 [==============================] - 6s 22ms/step - loss: 0.0251 - acc: 0.9936 - val_loss: 0.5174 - val_acc: 0.9304\n",
      "Epoch 89/200\n",
      "274/274 [==============================] - 6s 21ms/step - loss: 0.0263 - acc: 0.9935 - val_loss: 0.5384 - val_acc: 0.9283\n",
      "Epoch 90/200\n",
      "274/274 [==============================] - 6s 22ms/step - loss: 0.0248 - acc: 0.9935 - val_loss: 0.5216 - val_acc: 0.9276\n",
      "Epoch 91/200\n",
      "274/274 [==============================] - 6s 21ms/step - loss: 0.0255 - acc: 0.9936 - val_loss: 0.5299 - val_acc: 0.9295\n",
      "Epoch 92/200\n",
      "274/274 [==============================] - 6s 21ms/step - loss: 0.0226 - acc: 0.9943 - val_loss: 0.5128 - val_acc: 0.9314\n",
      "Epoch 93/200\n",
      "274/274 [==============================] - 6s 21ms/step - loss: 0.0233 - acc: 0.9943 - val_loss: 0.5681 - val_acc: 0.9255\n",
      "Epoch 94/200\n",
      "274/274 [==============================] - 6s 21ms/step - loss: 0.0266 - acc: 0.9938 - val_loss: 0.4938 - val_acc: 0.9324\n",
      "Epoch 95/200\n",
      "274/274 [==============================] - 6s 21ms/step - loss: 0.0239 - acc: 0.9946 - val_loss: 0.5117 - val_acc: 0.9306\n",
      "Epoch 96/200\n",
      "274/274 [==============================] - 6s 21ms/step - loss: 0.0237 - acc: 0.9937 - val_loss: 0.5396 - val_acc: 0.9309\n",
      "Epoch 97/200\n",
      "274/274 [==============================] - 6s 21ms/step - loss: 0.0222 - acc: 0.9951 - val_loss: 0.4952 - val_acc: 0.9275\n",
      "Epoch 98/200\n",
      "274/274 [==============================] - 6s 21ms/step - loss: 0.0261 - acc: 0.9939 - val_loss: 0.5259 - val_acc: 0.9293\n",
      "Epoch 99/200\n",
      "274/274 [==============================] - 6s 21ms/step - loss: 0.0249 - acc: 0.9941 - val_loss: 0.5168 - val_acc: 0.9307\n",
      "Epoch 100/200\n",
      "274/274 [==============================] - 6s 22ms/step - loss: 0.0195 - acc: 0.9952 - val_loss: 0.5584 - val_acc: 0.9329\n",
      "Epoch 101/200\n",
      "274/274 [==============================] - 6s 21ms/step - loss: 0.0181 - acc: 0.9952 - val_loss: 0.5685 - val_acc: 0.9319\n",
      "Epoch 102/200\n",
      "274/274 [==============================] - 6s 21ms/step - loss: 0.0238 - acc: 0.9940 - val_loss: 0.5402 - val_acc: 0.9298\n",
      "Epoch 103/200\n",
      "274/274 [==============================] - 6s 21ms/step - loss: 0.0214 - acc: 0.9955 - val_loss: 0.5063 - val_acc: 0.9307\n",
      "Epoch 104/200\n",
      "274/274 [==============================] - 6s 21ms/step - loss: 0.0192 - acc: 0.9949 - val_loss: 0.5688 - val_acc: 0.9322\n",
      "Epoch 105/200\n",
      "274/274 [==============================] - 6s 21ms/step - loss: 0.0251 - acc: 0.9946 - val_loss: 0.5535 - val_acc: 0.9305\n",
      "Epoch 106/200\n",
      "274/274 [==============================] - 6s 21ms/step - loss: 0.0194 - acc: 0.9951 - val_loss: 0.5476 - val_acc: 0.9327\n",
      "Epoch 107/200\n",
      "274/274 [==============================] - 6s 21ms/step - loss: 0.0212 - acc: 0.9953 - val_loss: 0.5323 - val_acc: 0.9331\n",
      "Epoch 108/200\n",
      "274/274 [==============================] - 6s 20ms/step - loss: 0.0249 - acc: 0.9940 - val_loss: 0.5744 - val_acc: 0.9291\n",
      "Epoch 109/200\n",
      "274/274 [==============================] - 6s 21ms/step - loss: 0.0274 - acc: 0.9936 - val_loss: 0.5607 - val_acc: 0.9297\n",
      "Epoch 110/200\n",
      "274/274 [==============================] - 6s 21ms/step - loss: 0.0242 - acc: 0.9947 - val_loss: 0.5482 - val_acc: 0.9323\n",
      "Epoch 111/200\n",
      "274/274 [==============================] - 6s 21ms/step - loss: 0.0236 - acc: 0.9945 - val_loss: 0.5913 - val_acc: 0.9340\n",
      "Epoch 112/200\n",
      "274/274 [==============================] - 6s 21ms/step - loss: 0.0183 - acc: 0.9953 - val_loss: 0.6030 - val_acc: 0.9339\n",
      "Epoch 113/200\n",
      "274/274 [==============================] - 6s 22ms/step - loss: 0.0193 - acc: 0.9950 - val_loss: 0.6052 - val_acc: 0.9340\n",
      "Epoch 114/200\n",
      "274/274 [==============================] - 6s 21ms/step - loss: 0.0237 - acc: 0.9944 - val_loss: 0.6072 - val_acc: 0.9329\n",
      "Epoch 115/200\n",
      "274/274 [==============================] - 6s 20ms/step - loss: 0.0219 - acc: 0.9950 - val_loss: 0.5678 - val_acc: 0.9356\n",
      "Epoch 116/200\n",
      "274/274 [==============================] - 6s 20ms/step - loss: 0.0223 - acc: 0.9947 - val_loss: 0.5589 - val_acc: 0.9321\n",
      "Epoch 117/200\n",
      "274/274 [==============================] - 6s 21ms/step - loss: 0.0243 - acc: 0.9951 - val_loss: 0.5574 - val_acc: 0.9345\n",
      "Epoch 118/200\n",
      "274/274 [==============================] - 6s 21ms/step - loss: 0.0267 - acc: 0.9946 - val_loss: 0.5556 - val_acc: 0.9277\n",
      "Epoch 119/200\n",
      "274/274 [==============================] - 6s 21ms/step - loss: 0.0213 - acc: 0.9950 - val_loss: 0.5303 - val_acc: 0.9346\n",
      "Epoch 120/200\n",
      "274/274 [==============================] - 6s 22ms/step - loss: 0.0159 - acc: 0.9961 - val_loss: 0.5705 - val_acc: 0.9323\n",
      "Epoch 121/200\n",
      "274/274 [==============================] - 6s 21ms/step - loss: 0.0215 - acc: 0.9947 - val_loss: 0.6005 - val_acc: 0.9264\n",
      "Epoch 122/200\n",
      "274/274 [==============================] - 6s 21ms/step - loss: 0.0243 - acc: 0.9941 - val_loss: 0.5450 - val_acc: 0.9349\n",
      "Epoch 123/200\n",
      "274/274 [==============================] - 6s 20ms/step - loss: 0.0268 - acc: 0.9939 - val_loss: 0.5884 - val_acc: 0.9278\n",
      "Epoch 124/200\n",
      "274/274 [==============================] - 6s 20ms/step - loss: 0.0144 - acc: 0.9961 - val_loss: 0.6093 - val_acc: 0.9341\n",
      "Epoch 125/200\n",
      "274/274 [==============================] - 6s 21ms/step - loss: 0.0246 - acc: 0.9951 - val_loss: 0.5500 - val_acc: 0.9309\n",
      "Epoch 126/200\n",
      "274/274 [==============================] - 6s 21ms/step - loss: 0.0176 - acc: 0.9963 - val_loss: 0.6118 - val_acc: 0.9318\n",
      "Epoch 127/200\n",
      "274/274 [==============================] - 6s 21ms/step - loss: 0.0204 - acc: 0.9956 - val_loss: 0.5912 - val_acc: 0.9320\n",
      "Epoch 128/200\n",
      "274/274 [==============================] - 6s 22ms/step - loss: 0.0187 - acc: 0.9960 - val_loss: 0.5590 - val_acc: 0.9347\n",
      "Epoch 129/200\n",
      "274/274 [==============================] - 6s 22ms/step - loss: 0.0169 - acc: 0.9961 - val_loss: 0.5744 - val_acc: 0.9293\n",
      "Epoch 130/200\n",
      "274/274 [==============================] - 6s 21ms/step - loss: 0.0270 - acc: 0.9948 - val_loss: 0.5307 - val_acc: 0.9292\n",
      "Epoch 131/200\n",
      "274/274 [==============================] - 6s 21ms/step - loss: 0.0160 - acc: 0.9961 - val_loss: 0.5555 - val_acc: 0.9317\n",
      "Epoch 132/200\n",
      "274/274 [==============================] - 6s 21ms/step - loss: 0.0181 - acc: 0.9961 - val_loss: 0.6153 - val_acc: 0.9346\n",
      "Epoch 133/200\n",
      "274/274 [==============================] - 6s 21ms/step - loss: 0.0228 - acc: 0.9948 - val_loss: 0.5536 - val_acc: 0.9357\n",
      "Epoch 134/200\n",
      "274/274 [==============================] - 6s 21ms/step - loss: 0.0171 - acc: 0.9960 - val_loss: 0.5847 - val_acc: 0.9345\n",
      "Epoch 135/200\n",
      "274/274 [==============================] - 6s 21ms/step - loss: 0.0247 - acc: 0.9952 - val_loss: 0.5671 - val_acc: 0.9301\n",
      "Epoch 136/200\n",
      "274/274 [==============================] - 6s 22ms/step - loss: 0.0192 - acc: 0.9957 - val_loss: 0.5894 - val_acc: 0.9350\n",
      "Epoch 137/200\n",
      "274/274 [==============================] - 6s 22ms/step - loss: 0.0211 - acc: 0.9963 - val_loss: 0.5951 - val_acc: 0.9337\n",
      "Epoch 138/200\n",
      "274/274 [==============================] - 6s 21ms/step - loss: 0.0220 - acc: 0.9949 - val_loss: 0.5537 - val_acc: 0.9339\n",
      "Epoch 139/200\n",
      "274/274 [==============================] - 6s 22ms/step - loss: 0.0209 - acc: 0.9958 - val_loss: 0.5739 - val_acc: 0.9311\n",
      "Epoch 140/200\n",
      "274/274 [==============================] - 6s 20ms/step - loss: 0.0140 - acc: 0.9967 - val_loss: 0.5927 - val_acc: 0.9309\n",
      "Epoch 141/200\n",
      "274/274 [==============================] - 6s 20ms/step - loss: 0.0198 - acc: 0.9965 - val_loss: 0.5556 - val_acc: 0.9326\n",
      "Epoch 142/200\n",
      "274/274 [==============================] - 6s 20ms/step - loss: 0.0152 - acc: 0.9964 - val_loss: 0.6000 - val_acc: 0.9348\n",
      "Epoch 143/200\n",
      "274/274 [==============================] - 6s 20ms/step - loss: 0.0157 - acc: 0.9964 - val_loss: 0.6843 - val_acc: 0.9282\n",
      "Epoch 144/200\n",
      "274/274 [==============================] - 6s 21ms/step - loss: 0.0235 - acc: 0.9946 - val_loss: 0.5730 - val_acc: 0.9363\n",
      "Epoch 145/200\n",
      "274/274 [==============================] - 6s 21ms/step - loss: 0.0188 - acc: 0.9956 - val_loss: 0.6825 - val_acc: 0.9263\n",
      "Epoch 146/200\n",
      "274/274 [==============================] - 5s 20ms/step - loss: 0.0221 - acc: 0.9949 - val_loss: 0.6100 - val_acc: 0.9343\n",
      "Epoch 147/200\n",
      "274/274 [==============================] - 6s 20ms/step - loss: 0.0176 - acc: 0.9953 - val_loss: 0.6351 - val_acc: 0.9341\n",
      "Epoch 148/200\n",
      "274/274 [==============================] - 6s 21ms/step - loss: 0.0207 - acc: 0.9956 - val_loss: 0.5844 - val_acc: 0.9327\n",
      "Epoch 149/200\n",
      "274/274 [==============================] - 6s 20ms/step - loss: 0.0269 - acc: 0.9949 - val_loss: 0.6084 - val_acc: 0.9316\n",
      "Epoch 150/200\n",
      "274/274 [==============================] - 5s 20ms/step - loss: 0.0171 - acc: 0.9961 - val_loss: 0.5797 - val_acc: 0.9389\n",
      "Epoch 151/200\n",
      "274/274 [==============================] - 6s 20ms/step - loss: 0.0183 - acc: 0.9960 - val_loss: 0.5789 - val_acc: 0.9349\n",
      "Epoch 152/200\n",
      "274/274 [==============================] - 5s 20ms/step - loss: 0.0142 - acc: 0.9966 - val_loss: 0.6966 - val_acc: 0.9347\n",
      "Epoch 153/200\n",
      "274/274 [==============================] - 5s 20ms/step - loss: 0.0225 - acc: 0.9950 - val_loss: 0.6256 - val_acc: 0.9291\n",
      "Epoch 154/200\n",
      "274/274 [==============================] - 6s 20ms/step - loss: 0.0216 - acc: 0.9957 - val_loss: 0.6004 - val_acc: 0.9333\n",
      "Epoch 155/200\n",
      "274/274 [==============================] - 5s 20ms/step - loss: 0.0241 - acc: 0.9954 - val_loss: 0.5958 - val_acc: 0.9355\n",
      "Epoch 156/200\n",
      "274/274 [==============================] - 6s 21ms/step - loss: 0.0139 - acc: 0.9969 - val_loss: 0.6572 - val_acc: 0.9337\n",
      "Epoch 157/200\n",
      "274/274 [==============================] - 6s 22ms/step - loss: 0.0186 - acc: 0.9964 - val_loss: 0.5725 - val_acc: 0.9342\n",
      "Epoch 158/200\n",
      "274/274 [==============================] - 6s 20ms/step - loss: 0.0178 - acc: 0.9963 - val_loss: 0.6586 - val_acc: 0.9291\n",
      "Epoch 159/200\n",
      "274/274 [==============================] - 6s 21ms/step - loss: 0.0200 - acc: 0.9961 - val_loss: 0.6391 - val_acc: 0.9317\n",
      "Epoch 160/200\n",
      "274/274 [==============================] - 6s 20ms/step - loss: 0.0202 - acc: 0.9963 - val_loss: 0.6033 - val_acc: 0.9351\n",
      "Epoch 161/200\n",
      "274/274 [==============================] - 6s 20ms/step - loss: 0.0162 - acc: 0.9961 - val_loss: 0.5830 - val_acc: 0.9368\n",
      "Epoch 162/200\n",
      "274/274 [==============================] - 6s 20ms/step - loss: 0.0159 - acc: 0.9964 - val_loss: 0.6207 - val_acc: 0.9349\n",
      "Epoch 163/200\n",
      "274/274 [==============================] - 6s 21ms/step - loss: 0.0163 - acc: 0.9966 - val_loss: 0.6276 - val_acc: 0.9353\n",
      "Epoch 164/200\n",
      "274/274 [==============================] - 6s 20ms/step - loss: 0.0204 - acc: 0.9954 - val_loss: 0.6026 - val_acc: 0.9329\n",
      "Epoch 165/200\n",
      "274/274 [==============================] - 6s 21ms/step - loss: 0.0200 - acc: 0.9959 - val_loss: 0.6107 - val_acc: 0.9337\n",
      "Epoch 166/200\n",
      "274/274 [==============================] - 6s 22ms/step - loss: 0.0134 - acc: 0.9967 - val_loss: 0.6595 - val_acc: 0.9351\n",
      "Epoch 167/200\n",
      "274/274 [==============================] - 6s 22ms/step - loss: 0.0177 - acc: 0.9959 - val_loss: 0.6568 - val_acc: 0.9290\n",
      "Epoch 168/200\n",
      "274/274 [==============================] - 6s 21ms/step - loss: 0.0145 - acc: 0.9965 - val_loss: 0.6973 - val_acc: 0.9335\n",
      "Epoch 169/200\n",
      "274/274 [==============================] - 6s 21ms/step - loss: 0.0216 - acc: 0.9955 - val_loss: 0.6553 - val_acc: 0.9335\n",
      "Epoch 170/200\n",
      "274/274 [==============================] - 6s 21ms/step - loss: 0.0192 - acc: 0.9960 - val_loss: 0.6321 - val_acc: 0.9331\n",
      "Epoch 171/200\n",
      "274/274 [==============================] - 6s 21ms/step - loss: 0.0198 - acc: 0.9954 - val_loss: 0.6497 - val_acc: 0.9297\n",
      "Epoch 172/200\n",
      "274/274 [==============================] - 6s 21ms/step - loss: 0.0262 - acc: 0.9946 - val_loss: 0.5886 - val_acc: 0.9309\n",
      "Epoch 173/200\n",
      "274/274 [==============================] - 6s 21ms/step - loss: 0.0186 - acc: 0.9955 - val_loss: 0.5686 - val_acc: 0.9348\n",
      "Epoch 174/200\n",
      "274/274 [==============================] - 6s 23ms/step - loss: 0.0154 - acc: 0.9968 - val_loss: 0.6030 - val_acc: 0.9355\n",
      "Epoch 175/200\n",
      "274/274 [==============================] - 6s 22ms/step - loss: 0.0187 - acc: 0.9952 - val_loss: 0.6091 - val_acc: 0.9313\n",
      "Epoch 176/200\n",
      "274/274 [==============================] - 7s 25ms/step - loss: 0.0169 - acc: 0.9961 - val_loss: 0.6269 - val_acc: 0.9314\n",
      "Epoch 177/200\n",
      "274/274 [==============================] - 7s 24ms/step - loss: 0.0196 - acc: 0.9956 - val_loss: 0.6108 - val_acc: 0.9335\n",
      "Epoch 178/200\n",
      "274/274 [==============================] - 7s 24ms/step - loss: 0.0143 - acc: 0.9971 - val_loss: 0.6239 - val_acc: 0.9337\n",
      "Epoch 179/200\n",
      "274/274 [==============================] - 7s 24ms/step - loss: 0.0179 - acc: 0.9963 - val_loss: 0.5911 - val_acc: 0.9340\n",
      "Epoch 180/200\n",
      "274/274 [==============================] - 7s 25ms/step - loss: 0.0159 - acc: 0.9960 - val_loss: 0.6473 - val_acc: 0.9321\n",
      "Epoch 181/200\n",
      "274/274 [==============================] - 7s 25ms/step - loss: 0.0179 - acc: 0.9958 - val_loss: 0.6518 - val_acc: 0.9327\n",
      "Epoch 182/200\n",
      "274/274 [==============================] - 6s 20ms/step - loss: 0.0148 - acc: 0.9966 - val_loss: 0.6315 - val_acc: 0.9345\n",
      "Epoch 183/200\n",
      "274/274 [==============================] - 5s 20ms/step - loss: 0.0199 - acc: 0.9954 - val_loss: 0.6517 - val_acc: 0.9363\n",
      "Epoch 184/200\n",
      "274/274 [==============================] - 6s 20ms/step - loss: 0.0172 - acc: 0.9960 - val_loss: 0.6977 - val_acc: 0.9354\n",
      "Epoch 185/200\n",
      "274/274 [==============================] - 6s 20ms/step - loss: 0.0153 - acc: 0.9965 - val_loss: 0.6623 - val_acc: 0.9349\n",
      "Epoch 186/200\n",
      "274/274 [==============================] - 6s 20ms/step - loss: 0.0194 - acc: 0.9958 - val_loss: 0.7153 - val_acc: 0.9293\n",
      "Epoch 187/200\n",
      "274/274 [==============================] - 6s 20ms/step - loss: 0.0196 - acc: 0.9961 - val_loss: 0.6418 - val_acc: 0.9338\n",
      "Epoch 188/200\n",
      "274/274 [==============================] - 6s 21ms/step - loss: 0.0137 - acc: 0.9967 - val_loss: 0.6585 - val_acc: 0.9357\n",
      "Epoch 189/200\n",
      "274/274 [==============================] - 6s 20ms/step - loss: 0.0171 - acc: 0.9965 - val_loss: 0.6750 - val_acc: 0.9337\n",
      "Epoch 190/200\n",
      "274/274 [==============================] - 6s 20ms/step - loss: 0.0182 - acc: 0.9966 - val_loss: 0.6014 - val_acc: 0.9371\n",
      "Epoch 191/200\n",
      "274/274 [==============================] - 6s 20ms/step - loss: 0.0074 - acc: 0.9984 - val_loss: 0.7159 - val_acc: 0.9365\n",
      "Epoch 192/200\n",
      "274/274 [==============================] - 6s 20ms/step - loss: 0.0136 - acc: 0.9972 - val_loss: 0.7336 - val_acc: 0.9334\n",
      "Epoch 193/200\n",
      "274/274 [==============================] - 6s 20ms/step - loss: 0.0214 - acc: 0.9956 - val_loss: 0.7801 - val_acc: 0.9244\n",
      "Epoch 194/200\n",
      "274/274 [==============================] - 6s 20ms/step - loss: 0.0215 - acc: 0.9957 - val_loss: 0.6503 - val_acc: 0.9315\n",
      "Epoch 195/200\n",
      "274/274 [==============================] - 6s 20ms/step - loss: 0.0187 - acc: 0.9958 - val_loss: 0.6080 - val_acc: 0.9360\n",
      "Epoch 196/200\n",
      "274/274 [==============================] - 6s 20ms/step - loss: 0.0156 - acc: 0.9966 - val_loss: 0.6515 - val_acc: 0.9353\n",
      "Epoch 197/200\n",
      "274/274 [==============================] - 6s 20ms/step - loss: 0.0205 - acc: 0.9954 - val_loss: 0.6422 - val_acc: 0.9327\n",
      "Epoch 198/200\n",
      "274/274 [==============================] - 6s 20ms/step - loss: 0.0159 - acc: 0.9962 - val_loss: 0.7160 - val_acc: 0.9346\n",
      "Epoch 199/200\n",
      "274/274 [==============================] - 6s 20ms/step - loss: 0.0142 - acc: 0.9973 - val_loss: 0.6609 - val_acc: 0.9381\n",
      "Epoch 200/200\n",
      "274/274 [==============================] - 5s 20ms/step - loss: 0.0197 - acc: 0.9959 - val_loss: 0.6066 - val_acc: 0.9364\n"
     ]
    }
   ],
   "source": [
    "# model.fit(X_train, y_train, epochs=5, \n",
    "#           validation_data=(X_test,y_test))\n",
    "\n",
    "\n",
    "# training = model.fit(X_train, y_train,\n",
    "#           batch_size=128, epochs=1000,\n",
    "#           verbose=1)\n",
    "\n",
    "training = model.fit(X_train, y_train,\n",
    "          batch_size=128, epochs=200,\n",
    "          verbose=1, validation_data=(X_test,y_test))"
   ]
  },
  {
   "cell_type": "code",
   "execution_count": 98,
   "metadata": {},
   "outputs": [
    {
     "name": "stdout",
     "output_type": "stream",
     "text": [
      "469/469 [==============================] - 2s 5ms/step\n",
      "[14  2 11 ...  4  6 13]\n"
     ]
    }
   ],
   "source": [
    "predictions = model.predict(X_test)\n",
    "predictions = np.argmax(predictions, axis=1)\n",
    "print(predictions)"
   ]
  },
  {
   "cell_type": "code",
   "execution_count": 88,
   "metadata": {},
   "outputs": [
    {
     "data": {
      "text/plain": [
       "2.0"
      ]
     },
     "execution_count": 88,
     "metadata": {},
     "output_type": "execute_result"
    }
   ],
   "source": []
  },
  {
   "cell_type": "code",
   "execution_count": 92,
   "metadata": {},
   "outputs": [
    {
     "data": {
      "text/plain": [
       "181"
      ]
     },
     "execution_count": 92,
     "metadata": {},
     "output_type": "execute_result"
    }
   ],
   "source": [
    "\n"
   ]
  },
  {
   "cell_type": "code",
   "execution_count": null,
   "metadata": {},
   "outputs": [],
   "source": [
    "classes_pred_NN = model.predict(test_inputs)\n",
    "print(classes_pred_NN)\n",
    "classes_pred_NN = np.argmax(classes_pred_NN, axis=1)\n",
    "print(classes_pred_NN)"
   ]
  },
  {
   "cell_type": "code",
   "execution_count": null,
   "metadata": {},
   "outputs": [],
   "source": [
    "## Pour soumettre \n",
    "# classes_pred_NN = model.predict(test_inputs)\n",
    "\n",
    "indexes = [x for x in range(10000)]\n",
    "classes = classes_pred_NN\n",
    "\n",
    "df = pd.DataFrame({\n",
    "    'Index': indexes,\n",
    "    'Class': classes})\n",
    "\n",
    "\n",
    "df.to_csv(\"classification_results/pred_NN_1.csv\",sep=\",\",index=False)"
   ]
  },
  {
   "cell_type": "markdown",
   "metadata": {},
   "source": [
    "## C-NN"
   ]
  },
  {
   "cell_type": "markdown",
   "metadata": {},
   "source": []
  },
  {
   "cell_type": "code",
   "execution_count": null,
   "metadata": {},
   "outputs": [],
   "source": []
  }
 ],
 "metadata": {
  "kernelspec": {
   "display_name": "Python 3.10.5 64-bit",
   "language": "python",
   "name": "python3"
  },
  "language_info": {
   "codemirror_mode": {
    "name": "ipython",
    "version": 3
   },
   "file_extension": ".py",
   "mimetype": "text/x-python",
   "name": "python",
   "nbconvert_exporter": "python",
   "pygments_lexer": "ipython3",
   "version": "3.10.5"
  },
  "orig_nbformat": 4,
  "vscode": {
   "interpreter": {
    "hash": "26de051ba29f2982a8de78e945f0abaf191376122a1563185a90213a26c5da77"
   }
  }
 },
 "nbformat": 4,
 "nbformat_minor": 2
}
