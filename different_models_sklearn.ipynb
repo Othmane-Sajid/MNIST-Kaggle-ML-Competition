{
 "cells": [
  {
   "cell_type": "markdown",
   "metadata": {},
   "source": [
    "USE SKLEARN DIFFERENT MODLELS AND FIND ONE/ONES WITH BEST PERFORMANCE"
   ]
  },
  {
   "cell_type": "code",
   "execution_count": 1,
   "metadata": {},
   "outputs": [],
   "source": [
    "import numpy as np\n",
    "import pandas as pd\n",
    "import math \n",
    "import sys\n",
    "import matplotlib.pyplot as plt\n",
    "import seaborn as sns \n",
    "%matplotlib inline\n"
   ]
  },
  {
   "cell_type": "code",
   "execution_count": 2,
   "metadata": {},
   "outputs": [],
   "source": [
    "\"\"\"X_train = np.genfromtxt('data/train.csv',  delimiter=',')\n",
    "X_train = X_train[1:,:-1]\n",
    "\n",
    "Y_train = np.genfromtxt('data/train_result.csv',  delimiter=',')\n",
    "Y_train = Y_train[1:,-1]\n",
    "\n",
    "X_test = np.genfromtxt('data/test.csv',  delimiter=',')\n",
    "X_test = X_test[1:,:-1]\n",
    "\"\"\"\n",
    "train_inputs = pd.read_csv(\"data/train.csv\")\n",
    "train_inputs = np.array(train_inputs)[:,:-1] \n",
    "\n",
    "train_labels = pd.read_csv(\"data/train_result.csv\")\n",
    "train_labels = np.array(train_labels)[:,1] \n",
    "\n",
    "test_inputs = pd.read_csv(\"data/test.csv\")\n",
    "test_inputs = np.array(test_inputs)[:,:-1] \n",
    "\n"
   ]
  },
  {
   "cell_type": "markdown",
   "metadata": {},
   "source": [
    "-Each Image is 1568 feature-long. \n",
    "-Each image contains 2 digits.\n",
    "    - Representing a 56x28 pixel image \n",
    "\n",
    "-Each digit is a total of 784 pixel (i.e. 1568/2)\n",
    "    - Representing a 28x28 pixel image \n",
    "\n",
    "    "
   ]
  },
  {
   "cell_type": "code",
   "execution_count": null,
   "metadata": {},
   "outputs": [],
   "source": [
    "# Try displaying one image \n",
    "sampleImage = X_train[1,:]\n",
    "print(sampleImage.shape)\n",
    "fig = plt.figure\n",
    "image = np.reshape(sampleImage, (28,56))\n",
    "plt.imshow(image, cmap='gray_r')\n",
    "plt.show()"
   ]
  },
  {
   "cell_type": "markdown",
   "metadata": {},
   "source": [
    "Overview of label data. \n",
    "Labels go from 0 to 18 and we observe a bell-shaped (gaussian-like) distribution."
   ]
  },
  {
   "cell_type": "code",
   "execution_count": null,
   "metadata": {},
   "outputs": [],
   "source": [
    "# Class labels summary\n",
    "\n",
    "# sns.countplot(Y_train)\n",
    "from collections import Counter\n",
    "print(Y_train.shape)\n",
    "print(np.unique(Y_train))\n",
    "c = Counter(Y_train)\n",
    "plt.bar(c.keys(), c.values())\n",
    "plt.show()"
   ]
  },
  {
   "cell_type": "code",
   "execution_count": null,
   "metadata": {},
   "outputs": [],
   "source": [
    "# Stackoverflow suggested solution for one-hot encoding - Source : https://stackoverflow.com/questions/38592324/one-hot-encoding-using-numpy\n",
    "@staticmethod\n",
    "def get_one_hot(targets, nb_classes):\n",
    "    res = np.eye(nb_classes)[np.array(targets).reshape(-1)]\n",
    "    return res.reshape(list(targets.shape)+[nb_classes])\n",
    "\n",
    "Y_onehot_train = get_one_hot(np.int_(Y_train), np.unique(Y_train).size)"
   ]
  },
  {
   "cell_type": "markdown",
   "metadata": {},
   "source": []
  },
  {
   "cell_type": "code",
   "execution_count": null,
   "metadata": {},
   "outputs": [],
   "source": [
    "from sklearn import X ..."
   ]
  },
  {
   "cell_type": "code",
   "execution_count": null,
   "metadata": {},
   "outputs": [],
   "source": [
    "# Distribution of predictions \n",
    "from collections import Counter\n",
    "print(Y_pred_on_X_train.shape)\n",
    "print(np.unique(Y_pred_on_X_train))\n",
    "c = Counter(Y_pred_on_X_train)\n",
    "plt.bar(c.keys(), c.values())\n",
    "plt.show()"
   ]
  },
  {
   "cell_type": "code",
   "execution_count": null,
   "metadata": {},
   "outputs": [],
   "source": [
    "# Show confusion matrix beautified\n",
    "# Good result with 5000 iterations \n",
    "score = 1-errorRate\n",
    "plt.figure(figsize=(15,15))\n",
    "sns.heatmap(confmat, annot=True, \n",
    "            linewidths=.5, square = True, cmap = 'Blues_r', fmt='0.4g');\n",
    "\n",
    "plt.ylabel('Actual label')\n",
    "plt.xlabel('Predicted label')\n",
    "all_sample_title = 'Accuracy Score: {0}'.format(score)\n",
    "plt.title(all_sample_title);\n"
   ]
  },
  {
   "cell_type": "code",
   "execution_count": 3,
   "metadata": {},
   "outputs": [],
   "source": [
    "\n",
    "def conf_matrix(testlabels, predlabels):\n",
    "\n",
    "    n_classes = 19 \n",
    "    matrix = np.zeros((n_classes,n_classes))\n",
    "    \n",
    "\n",
    "    for (test, pred) in zip(testlabels, predlabels):\n",
    "        # ---> Write code here\n",
    "        matrix[int(test)-1,int(pred)-1]+=1\n",
    "    return matrix\n",
    "\n"
   ]
  },
  {
   "cell_type": "code",
   "execution_count": 4,
   "metadata": {},
   "outputs": [],
   "source": [
    "from sklearn.model_selection import train_test_split \n",
    "X_train, X_test, y_train, y_test = train_test_split(train_inputs, train_labels, test_size=0.30)"
   ]
  },
  {
   "cell_type": "markdown",
   "metadata": {},
   "source": [
    "## SVM"
   ]
  },
  {
   "cell_type": "code",
   "execution_count": 20,
   "metadata": {},
   "outputs": [],
   "source": [
    "import sklearn.svm as svm\n",
    "from sklearn.model_selection import GridSearchCV\n",
    "from sklearn.preprocessing import StandardScaler\n",
    "from sklearn.decomposition import PCA\n",
    "from sklearn.naive_bayes import GaussianNB\n",
    "from sklearn.metrics import accuracy_score\n",
    "from sklearn.pipeline import make_pipeline"
   ]
  },
  {
   "cell_type": "code",
   "execution_count": null,
   "metadata": {},
   "outputs": [],
   "source": [
    "# STANDARDISATION \n"
   ]
  },
  {
   "cell_type": "code",
   "execution_count": 12,
   "metadata": {},
   "outputs": [
    {
     "data": {
      "text/html": [
       "<style>#sk-container-id-2 {color: black;background-color: white;}#sk-container-id-2 pre{padding: 0;}#sk-container-id-2 div.sk-toggleable {background-color: white;}#sk-container-id-2 label.sk-toggleable__label {cursor: pointer;display: block;width: 100%;margin-bottom: 0;padding: 0.3em;box-sizing: border-box;text-align: center;}#sk-container-id-2 label.sk-toggleable__label-arrow:before {content: \"▸\";float: left;margin-right: 0.25em;color: #696969;}#sk-container-id-2 label.sk-toggleable__label-arrow:hover:before {color: black;}#sk-container-id-2 div.sk-estimator:hover label.sk-toggleable__label-arrow:before {color: black;}#sk-container-id-2 div.sk-toggleable__content {max-height: 0;max-width: 0;overflow: hidden;text-align: left;background-color: #f0f8ff;}#sk-container-id-2 div.sk-toggleable__content pre {margin: 0.2em;color: black;border-radius: 0.25em;background-color: #f0f8ff;}#sk-container-id-2 input.sk-toggleable__control:checked~div.sk-toggleable__content {max-height: 200px;max-width: 100%;overflow: auto;}#sk-container-id-2 input.sk-toggleable__control:checked~label.sk-toggleable__label-arrow:before {content: \"▾\";}#sk-container-id-2 div.sk-estimator input.sk-toggleable__control:checked~label.sk-toggleable__label {background-color: #d4ebff;}#sk-container-id-2 div.sk-label input.sk-toggleable__control:checked~label.sk-toggleable__label {background-color: #d4ebff;}#sk-container-id-2 input.sk-hidden--visually {border: 0;clip: rect(1px 1px 1px 1px);clip: rect(1px, 1px, 1px, 1px);height: 1px;margin: -1px;overflow: hidden;padding: 0;position: absolute;width: 1px;}#sk-container-id-2 div.sk-estimator {font-family: monospace;background-color: #f0f8ff;border: 1px dotted black;border-radius: 0.25em;box-sizing: border-box;margin-bottom: 0.5em;}#sk-container-id-2 div.sk-estimator:hover {background-color: #d4ebff;}#sk-container-id-2 div.sk-parallel-item::after {content: \"\";width: 100%;border-bottom: 1px solid gray;flex-grow: 1;}#sk-container-id-2 div.sk-label:hover label.sk-toggleable__label {background-color: #d4ebff;}#sk-container-id-2 div.sk-serial::before {content: \"\";position: absolute;border-left: 1px solid gray;box-sizing: border-box;top: 0;bottom: 0;left: 50%;z-index: 0;}#sk-container-id-2 div.sk-serial {display: flex;flex-direction: column;align-items: center;background-color: white;padding-right: 0.2em;padding-left: 0.2em;position: relative;}#sk-container-id-2 div.sk-item {position: relative;z-index: 1;}#sk-container-id-2 div.sk-parallel {display: flex;align-items: stretch;justify-content: center;background-color: white;position: relative;}#sk-container-id-2 div.sk-item::before, #sk-container-id-2 div.sk-parallel-item::before {content: \"\";position: absolute;border-left: 1px solid gray;box-sizing: border-box;top: 0;bottom: 0;left: 50%;z-index: -1;}#sk-container-id-2 div.sk-parallel-item {display: flex;flex-direction: column;z-index: 1;position: relative;background-color: white;}#sk-container-id-2 div.sk-parallel-item:first-child::after {align-self: flex-end;width: 50%;}#sk-container-id-2 div.sk-parallel-item:last-child::after {align-self: flex-start;width: 50%;}#sk-container-id-2 div.sk-parallel-item:only-child::after {width: 0;}#sk-container-id-2 div.sk-dashed-wrapped {border: 1px dashed gray;margin: 0 0.4em 0.5em 0.4em;box-sizing: border-box;padding-bottom: 0.4em;background-color: white;}#sk-container-id-2 div.sk-label label {font-family: monospace;font-weight: bold;display: inline-block;line-height: 1.2em;}#sk-container-id-2 div.sk-label-container {text-align: center;}#sk-container-id-2 div.sk-container {/* jupyter's `normalize.less` sets `[hidden] { display: none; }` but bootstrap.min.css set `[hidden] { display: none !important; }` so we also need the `!important` here to be able to override the default hidden behavior on the sphinx rendered scikit-learn.org. See: https://github.com/scikit-learn/scikit-learn/issues/21755 */display: inline-block !important;position: relative;}#sk-container-id-2 div.sk-text-repr-fallback {display: none;}</style><div id=\"sk-container-id-2\" class=\"sk-top-container\"><div class=\"sk-text-repr-fallback\"><pre>SVC(C=5, gamma=0.05)</pre><b>In a Jupyter environment, please rerun this cell to show the HTML representation or trust the notebook. <br />On GitHub, the HTML representation is unable to render, please try loading this page with nbviewer.org.</b></div><div class=\"sk-container\" hidden><div class=\"sk-item\"><div class=\"sk-estimator sk-toggleable\"><input class=\"sk-toggleable__control sk-hidden--visually\" id=\"sk-estimator-id-2\" type=\"checkbox\" checked><label for=\"sk-estimator-id-2\" class=\"sk-toggleable__label sk-toggleable__label-arrow\">SVC</label><div class=\"sk-toggleable__content\"><pre>SVC(C=5, gamma=0.05)</pre></div></div></div></div></div>"
      ],
      "text/plain": [
       "SVC(C=5, gamma=0.05)"
      ]
     },
     "execution_count": 12,
     "metadata": {},
     "output_type": "execute_result"
    }
   ],
   "source": [
    "# svm = svm.SVC()\n",
    "# svm.fit(X_train,y_train)\n",
    "\n",
    "svm1 = svm.SVC(kernel=\"rbf\", C=5, gamma = 0.1)\n",
    "svm1.fit(X_train,y_train)\n",
    "\n",
    "# svm2 = svm.SVC(kernel=\"rbf\", C=5, gamma = 0.05)\n",
    "# svm2.fit(train_inputs, train_labels)\n"
   ]
  },
  {
   "cell_type": "code",
   "execution_count": 13,
   "metadata": {},
   "outputs": [
    {
     "data": {
      "text/html": [
       "<style>#sk-container-id-3 {color: black;background-color: white;}#sk-container-id-3 pre{padding: 0;}#sk-container-id-3 div.sk-toggleable {background-color: white;}#sk-container-id-3 label.sk-toggleable__label {cursor: pointer;display: block;width: 100%;margin-bottom: 0;padding: 0.3em;box-sizing: border-box;text-align: center;}#sk-container-id-3 label.sk-toggleable__label-arrow:before {content: \"▸\";float: left;margin-right: 0.25em;color: #696969;}#sk-container-id-3 label.sk-toggleable__label-arrow:hover:before {color: black;}#sk-container-id-3 div.sk-estimator:hover label.sk-toggleable__label-arrow:before {color: black;}#sk-container-id-3 div.sk-toggleable__content {max-height: 0;max-width: 0;overflow: hidden;text-align: left;background-color: #f0f8ff;}#sk-container-id-3 div.sk-toggleable__content pre {margin: 0.2em;color: black;border-radius: 0.25em;background-color: #f0f8ff;}#sk-container-id-3 input.sk-toggleable__control:checked~div.sk-toggleable__content {max-height: 200px;max-width: 100%;overflow: auto;}#sk-container-id-3 input.sk-toggleable__control:checked~label.sk-toggleable__label-arrow:before {content: \"▾\";}#sk-container-id-3 div.sk-estimator input.sk-toggleable__control:checked~label.sk-toggleable__label {background-color: #d4ebff;}#sk-container-id-3 div.sk-label input.sk-toggleable__control:checked~label.sk-toggleable__label {background-color: #d4ebff;}#sk-container-id-3 input.sk-hidden--visually {border: 0;clip: rect(1px 1px 1px 1px);clip: rect(1px, 1px, 1px, 1px);height: 1px;margin: -1px;overflow: hidden;padding: 0;position: absolute;width: 1px;}#sk-container-id-3 div.sk-estimator {font-family: monospace;background-color: #f0f8ff;border: 1px dotted black;border-radius: 0.25em;box-sizing: border-box;margin-bottom: 0.5em;}#sk-container-id-3 div.sk-estimator:hover {background-color: #d4ebff;}#sk-container-id-3 div.sk-parallel-item::after {content: \"\";width: 100%;border-bottom: 1px solid gray;flex-grow: 1;}#sk-container-id-3 div.sk-label:hover label.sk-toggleable__label {background-color: #d4ebff;}#sk-container-id-3 div.sk-serial::before {content: \"\";position: absolute;border-left: 1px solid gray;box-sizing: border-box;top: 0;bottom: 0;left: 50%;z-index: 0;}#sk-container-id-3 div.sk-serial {display: flex;flex-direction: column;align-items: center;background-color: white;padding-right: 0.2em;padding-left: 0.2em;position: relative;}#sk-container-id-3 div.sk-item {position: relative;z-index: 1;}#sk-container-id-3 div.sk-parallel {display: flex;align-items: stretch;justify-content: center;background-color: white;position: relative;}#sk-container-id-3 div.sk-item::before, #sk-container-id-3 div.sk-parallel-item::before {content: \"\";position: absolute;border-left: 1px solid gray;box-sizing: border-box;top: 0;bottom: 0;left: 50%;z-index: -1;}#sk-container-id-3 div.sk-parallel-item {display: flex;flex-direction: column;z-index: 1;position: relative;background-color: white;}#sk-container-id-3 div.sk-parallel-item:first-child::after {align-self: flex-end;width: 50%;}#sk-container-id-3 div.sk-parallel-item:last-child::after {align-self: flex-start;width: 50%;}#sk-container-id-3 div.sk-parallel-item:only-child::after {width: 0;}#sk-container-id-3 div.sk-dashed-wrapped {border: 1px dashed gray;margin: 0 0.4em 0.5em 0.4em;box-sizing: border-box;padding-bottom: 0.4em;background-color: white;}#sk-container-id-3 div.sk-label label {font-family: monospace;font-weight: bold;display: inline-block;line-height: 1.2em;}#sk-container-id-3 div.sk-label-container {text-align: center;}#sk-container-id-3 div.sk-container {/* jupyter's `normalize.less` sets `[hidden] { display: none; }` but bootstrap.min.css set `[hidden] { display: none !important; }` so we also need the `!important` here to be able to override the default hidden behavior on the sphinx rendered scikit-learn.org. See: https://github.com/scikit-learn/scikit-learn/issues/21755 */display: inline-block !important;position: relative;}#sk-container-id-3 div.sk-text-repr-fallback {display: none;}</style><div id=\"sk-container-id-3\" class=\"sk-top-container\"><div class=\"sk-text-repr-fallback\"><pre>SVC(kernel=&#x27;poly&#x27;)</pre><b>In a Jupyter environment, please rerun this cell to show the HTML representation or trust the notebook. <br />On GitHub, the HTML representation is unable to render, please try loading this page with nbviewer.org.</b></div><div class=\"sk-container\" hidden><div class=\"sk-item\"><div class=\"sk-estimator sk-toggleable\"><input class=\"sk-toggleable__control sk-hidden--visually\" id=\"sk-estimator-id-3\" type=\"checkbox\" checked><label for=\"sk-estimator-id-3\" class=\"sk-toggleable__label sk-toggleable__label-arrow\">SVC</label><div class=\"sk-toggleable__content\"><pre>SVC(kernel=&#x27;poly&#x27;)</pre></div></div></div></div></div>"
      ],
      "text/plain": [
       "SVC(kernel='poly')"
      ]
     },
     "execution_count": 13,
     "metadata": {},
     "output_type": "execute_result"
    }
   ],
   "source": [
    "svm2 = svm.SVC(kernel = 'poly')\n",
    "svm2.fit(X_train,y_train)"
   ]
  },
  {
   "cell_type": "code",
   "execution_count": 14,
   "metadata": {},
   "outputs": [
    {
     "data": {
      "text/html": [
       "<style>#sk-container-id-4 {color: black;background-color: white;}#sk-container-id-4 pre{padding: 0;}#sk-container-id-4 div.sk-toggleable {background-color: white;}#sk-container-id-4 label.sk-toggleable__label {cursor: pointer;display: block;width: 100%;margin-bottom: 0;padding: 0.3em;box-sizing: border-box;text-align: center;}#sk-container-id-4 label.sk-toggleable__label-arrow:before {content: \"▸\";float: left;margin-right: 0.25em;color: #696969;}#sk-container-id-4 label.sk-toggleable__label-arrow:hover:before {color: black;}#sk-container-id-4 div.sk-estimator:hover label.sk-toggleable__label-arrow:before {color: black;}#sk-container-id-4 div.sk-toggleable__content {max-height: 0;max-width: 0;overflow: hidden;text-align: left;background-color: #f0f8ff;}#sk-container-id-4 div.sk-toggleable__content pre {margin: 0.2em;color: black;border-radius: 0.25em;background-color: #f0f8ff;}#sk-container-id-4 input.sk-toggleable__control:checked~div.sk-toggleable__content {max-height: 200px;max-width: 100%;overflow: auto;}#sk-container-id-4 input.sk-toggleable__control:checked~label.sk-toggleable__label-arrow:before {content: \"▾\";}#sk-container-id-4 div.sk-estimator input.sk-toggleable__control:checked~label.sk-toggleable__label {background-color: #d4ebff;}#sk-container-id-4 div.sk-label input.sk-toggleable__control:checked~label.sk-toggleable__label {background-color: #d4ebff;}#sk-container-id-4 input.sk-hidden--visually {border: 0;clip: rect(1px 1px 1px 1px);clip: rect(1px, 1px, 1px, 1px);height: 1px;margin: -1px;overflow: hidden;padding: 0;position: absolute;width: 1px;}#sk-container-id-4 div.sk-estimator {font-family: monospace;background-color: #f0f8ff;border: 1px dotted black;border-radius: 0.25em;box-sizing: border-box;margin-bottom: 0.5em;}#sk-container-id-4 div.sk-estimator:hover {background-color: #d4ebff;}#sk-container-id-4 div.sk-parallel-item::after {content: \"\";width: 100%;border-bottom: 1px solid gray;flex-grow: 1;}#sk-container-id-4 div.sk-label:hover label.sk-toggleable__label {background-color: #d4ebff;}#sk-container-id-4 div.sk-serial::before {content: \"\";position: absolute;border-left: 1px solid gray;box-sizing: border-box;top: 0;bottom: 0;left: 50%;z-index: 0;}#sk-container-id-4 div.sk-serial {display: flex;flex-direction: column;align-items: center;background-color: white;padding-right: 0.2em;padding-left: 0.2em;position: relative;}#sk-container-id-4 div.sk-item {position: relative;z-index: 1;}#sk-container-id-4 div.sk-parallel {display: flex;align-items: stretch;justify-content: center;background-color: white;position: relative;}#sk-container-id-4 div.sk-item::before, #sk-container-id-4 div.sk-parallel-item::before {content: \"\";position: absolute;border-left: 1px solid gray;box-sizing: border-box;top: 0;bottom: 0;left: 50%;z-index: -1;}#sk-container-id-4 div.sk-parallel-item {display: flex;flex-direction: column;z-index: 1;position: relative;background-color: white;}#sk-container-id-4 div.sk-parallel-item:first-child::after {align-self: flex-end;width: 50%;}#sk-container-id-4 div.sk-parallel-item:last-child::after {align-self: flex-start;width: 50%;}#sk-container-id-4 div.sk-parallel-item:only-child::after {width: 0;}#sk-container-id-4 div.sk-dashed-wrapped {border: 1px dashed gray;margin: 0 0.4em 0.5em 0.4em;box-sizing: border-box;padding-bottom: 0.4em;background-color: white;}#sk-container-id-4 div.sk-label label {font-family: monospace;font-weight: bold;display: inline-block;line-height: 1.2em;}#sk-container-id-4 div.sk-label-container {text-align: center;}#sk-container-id-4 div.sk-container {/* jupyter's `normalize.less` sets `[hidden] { display: none; }` but bootstrap.min.css set `[hidden] { display: none !important; }` so we also need the `!important` here to be able to override the default hidden behavior on the sphinx rendered scikit-learn.org. See: https://github.com/scikit-learn/scikit-learn/issues/21755 */display: inline-block !important;position: relative;}#sk-container-id-4 div.sk-text-repr-fallback {display: none;}</style><div id=\"sk-container-id-4\" class=\"sk-top-container\"><div class=\"sk-text-repr-fallback\"><pre>SVC(kernel=&#x27;sigmoid&#x27;)</pre><b>In a Jupyter environment, please rerun this cell to show the HTML representation or trust the notebook. <br />On GitHub, the HTML representation is unable to render, please try loading this page with nbviewer.org.</b></div><div class=\"sk-container\" hidden><div class=\"sk-item\"><div class=\"sk-estimator sk-toggleable\"><input class=\"sk-toggleable__control sk-hidden--visually\" id=\"sk-estimator-id-4\" type=\"checkbox\" checked><label for=\"sk-estimator-id-4\" class=\"sk-toggleable__label sk-toggleable__label-arrow\">SVC</label><div class=\"sk-toggleable__content\"><pre>SVC(kernel=&#x27;sigmoid&#x27;)</pre></div></div></div></div></div>"
      ],
      "text/plain": [
       "SVC(kernel='sigmoid')"
      ]
     },
     "execution_count": 14,
     "metadata": {},
     "output_type": "execute_result"
    }
   ],
   "source": [
    "svm3 = svm.SVC(kernel=\"sigmoid\")\n",
    "svm3.fit(X_train,y_train)"
   ]
  },
  {
   "cell_type": "code",
   "execution_count": 16,
   "metadata": {},
   "outputs": [],
   "source": [
    "classes_pred_svm1 = svm1.predict(X_test)\n",
    "classes_pred_svm2 = svm2.predict(X_test)\n",
    "classes_pred_svm3 = svm3.predict(X_test)\n",
    "\n"
   ]
  },
  {
   "cell_type": "code",
   "execution_count": 18,
   "metadata": {},
   "outputs": [
    {
     "name": "stdout",
     "output_type": "stream",
     "text": [
      "The test error is  55.43 %\n",
      "The test error is  26.04 %\n",
      "The test error is  93.5 %\n"
     ]
    }
   ],
   "source": [
    "def calculateError(classes_pred):\n",
    "    # Confusion Matrix\n",
    "    confmat = conf_matrix(y_test, classes_pred)\n",
    "    # print('The confusion matrix is:')\n",
    "    # plt.figure(figsize=(15,15))\n",
    "    # sns.heatmap(confmat, annot=True, \n",
    "    #         linewidths=.5, square = True, cmap = 'Blues_r', fmt='0.4g');\n",
    "\n",
    "    # plt.ylabel('Actual label')\n",
    "    # plt.xlabel('Predicted label')\n",
    "            \n",
    "    # Test error\n",
    "    sum_preds = np.sum(confmat)\n",
    "    sum_correct = np.sum(np.diag(confmat))\n",
    "    print(\"The test error is \", round(100 * (1.0 - (float(sum_correct) / float(sum_preds))), 2), \"%\")\n",
    "\n",
    "\n",
    "\n",
    "calculateError(classes_pred_svm1)\n",
    "calculateError(classes_pred_svm2)\n",
    "calculateError(classes_pred_svm3)\n"
   ]
  },
  {
   "cell_type": "markdown",
   "metadata": {},
   "source": [
    "In order : \n",
    "\n",
    "svm1 = svm.SVC(kernel=\"rbf\", C=5, gamma = 0.05)\n",
    "svm2 = svm.SVC(kernel=\"poly\")\n",
    "svm3 = svm.SVC(kernel=\"sigmoid\")\n",
    "\n",
    "\n",
    "\n",
    "The test error is  55.43 %\n",
    "The test error is  26.04 %\n",
    "The test error is  93.5 %"
   ]
  },
  {
   "cell_type": "code",
   "execution_count": null,
   "metadata": {},
   "outputs": [],
   "source": [
    "## Pour soumettre \n",
    "classes_pred_SVM = svm.predict(test_inputs)\n",
    "\n",
    "indexes = [x for x in range(10000)]\n",
    "classes = classes_pred_SVM\n",
    "\n",
    "df = pd.DataFrame({\n",
    "    'Index': indexes,\n",
    "    'Class': classes})\n",
    "\n",
    "\n",
    "df.to_csv(\"classification_results/predSVM_1.csv\",sep=\",\",index=False)"
   ]
  },
  {
   "cell_type": "markdown",
   "metadata": {},
   "source": [
    "## NAIVES BAYES \n",
    "\n",
    "Sans aucune forme de pré-traitement, le classifieur Naive Bayes obtient un score de 7,39% seulement sur D_test."
   ]
  },
  {
   "cell_type": "code",
   "execution_count": 54,
   "metadata": {},
   "outputs": [
    {
     "name": "stdout",
     "output_type": "stream",
     "text": [
      "7.3999999999999995\n"
     ]
    }
   ],
   "source": [
    "gaussianClassifier = GaussianNB()\n",
    "gaussianClassifier.fit(X_train, y_train)\n",
    "pred_test = gaussianClassifier.predict(X_test)\n",
    "print(accuracy_score(y_test, pred_test)*100)"
   ]
  },
  {
   "cell_type": "markdown",
   "metadata": {},
   "source": [
    "Pour réduire le nombre de features que doit apprendre le Naive Bayes, on va faire une PCA en premier. \n",
    "\n",
    "On va essayer de trouver le parametre optimal d'une PCA, suivi d'un classifieur Bayes naif.\n",
    "Pour PCA, il s'agit de savoir combien de composantes principales garder, pour generer la meilleure prediction par Naive Bayes.\n",
    "\n",
    "On peut regrouper la procédure (PCA ensuite Bayes) dans un pipeline sklearn."
   ]
  },
  {
   "cell_type": "code",
   "execution_count": 58,
   "metadata": {},
   "outputs": [
    {
     "name": "stdout",
     "output_type": "stream",
     "text": [
      "22.433333333333334\n"
     ]
    }
   ],
   "source": [
    "# Fit to training data and predict on test data (PCA + Naive Bayes)\n",
    "PCA_NaiveBayes = make_pipeline(PCA(n_components=25), GaussianNB())\n",
    "PCA_NaiveBayes.fit(X_train, y_train)\n",
    "pred_test = PCA_NaiveBayes.predict(X_test)\n",
    "print(accuracy_score(y_test, pred_test)*100)\n"
   ]
  },
  {
   "cell_type": "code",
   "execution_count": 59,
   "metadata": {},
   "outputs": [],
   "source": [
    "max_components_to_test = 250\n",
    "kComponents = [k+1 for k in range(max_components_to_test)]\n",
    "def findBestNumberComponentsForPCA_NaiveBayes() : \n",
    "    accuracyArr = []\n",
    "\n",
    "    bestParameter = -1\n",
    "    bestAccuracy = -1\n",
    "    for k in kComponents : \n",
    "        # Fit to training data and predict on test data (PCA with k components + Naive Bayes)\n",
    "        PCA_NaiveBayes = make_pipeline(PCA(n_components=k), GaussianNB())\n",
    "        PCA_NaiveBayes.fit(X_train, y_train)\n",
    "        pred_test = PCA_NaiveBayes.predict(X_test)\n",
    "        accuracy = accuracy_score(y_test, pred_test)*100\n",
    "        if k%10 ==0 : print(f'Accuracy for PCA with {k} components is : {accuracy}%')\n",
    "        accuracyArr.append(accuracy)\n",
    "        if accuracy>bestAccuracy :\n",
    "            bestAccuracy = accuracy\n",
    "            bestParameter = k\n",
    "\n",
    "    return bestParameter, bestAccuracy, accuracyArr"
   ]
  },
  {
   "cell_type": "code",
   "execution_count": 60,
   "metadata": {},
   "outputs": [
    {
     "name": "stdout",
     "output_type": "stream",
     "text": [
      "Accuracy for PCA with 10 components is : 19.433333333333334%\n",
      "Accuracy for PCA with 20 components is : 22.366666666666667%\n",
      "Accuracy for PCA with 30 components is : 22.653333333333332%\n",
      "Accuracy for PCA with 40 components is : 23.186666666666667%\n",
      "Accuracy for PCA with 50 components is : 23.253333333333334%\n",
      "Accuracy for PCA with 60 components is : 23.24%\n",
      "Accuracy for PCA with 70 components is : 22.953333333333333%\n",
      "Accuracy for PCA with 80 components is : 22.926666666666666%\n",
      "Accuracy for PCA with 90 components is : 22.54%\n",
      "Accuracy for PCA with 100 components is : 22.486666666666665%\n",
      "Accuracy for PCA with 110 components is : 22.14%\n",
      "Accuracy for PCA with 120 components is : 21.8%\n",
      "Accuracy for PCA with 130 components is : 21.6%\n",
      "Accuracy for PCA with 140 components is : 21.28666666666667%\n",
      "Accuracy for PCA with 150 components is : 20.713333333333335%\n",
      "Accuracy for PCA with 160 components is : 20.8%\n",
      "Accuracy for PCA with 170 components is : 20.62%\n",
      "Accuracy for PCA with 180 components is : 20.386666666666667%\n",
      "Accuracy for PCA with 190 components is : 20.24%\n",
      "Accuracy for PCA with 200 components is : 19.773333333333333%\n",
      "Accuracy for PCA with 210 components is : 19.386666666666667%\n",
      "Accuracy for PCA with 220 components is : 19.12%\n",
      "Accuracy for PCA with 230 components is : 19.03333333333333%\n",
      "Accuracy for PCA with 240 components is : 19.0%\n",
      "Accuracy for PCA with 250 components is : 18.746666666666666%\n"
     ]
    }
   ],
   "source": [
    "bestParameter, bestAccuracy, accuracyArr = findBestNumberComponentsForPCA_NaiveBayes()"
   ]
  },
  {
   "cell_type": "markdown",
   "metadata": {},
   "source": [
    "On constate que la précision du classifieur Naive Bayes va en augmentant jusqu'à un certain seuil, au delà duquel la précision du classifieur diminue graduellement. \n",
    "\n",
    "Le nombre optimal de Composantes Principales à utiliser ici avec Naive Bayes est X, et cela permet un score de X%."
   ]
  },
  {
   "cell_type": "code",
   "execution_count": 67,
   "metadata": {},
   "outputs": [
    {
     "name": "stdout",
     "output_type": "stream",
     "text": [
      "Number of Principal Components that generated the best prediction with Naive Bayes : 64\n",
      "Accuracy : 23.56\n"
     ]
    },
    {
     "data": {
      "image/png": "[encoded data removed]",
      "text/plain": [
       "<Figure size 640x480 with 1 Axes>"
      ]
     },
     "metadata": {},
     "output_type": "display_data"
    }
   ],
   "source": [
    "print(f'Number of Principal Components that generated the best prediction with Naive Bayes : {bestParameter}')\n",
    "print(f'Accuracy : {bestAccuracy}')\n",
    "\n",
    "plt.plot(kComponents, accuracyArr)\n",
    "plt.title('Accuracy % on randomized test data when using Naives Bayes with the K Principal components of training data')\n",
    "plt.xlabel('Number of components used (post-PCA)')\n",
    "plt.ylabel('Score on test data (% accuracy)')\n",
    "plt.show()"
   ]
  },
  {
   "cell_type": "markdown",
   "metadata": {},
   "source": [
    "## Neural-Network\n",
    "https://www.linkedin.com/pulse/choosing-number-hidden-layers-neurons-neural-networks-sachdev/\n",
    "\n",
    "https://victorzhou.com/blog/keras-cnn-tutorial/\n",
    "\n",
    "https://keras.io/examples/vision/mnist_convnet/ # 99% accuracy"
   ]
  },
  {
   "cell_type": "code",
   "execution_count": 124,
   "metadata": {},
   "outputs": [],
   "source": [
    "# import keras\n",
    "from keras.layers import Dense, Dropout, Activation, Flatten, Conv2D, MaxPooling2D\n",
    "from keras.models import Sequential\n",
    "from keras.utils import to_categorical\n",
    "\n"
   ]
  },
  {
   "cell_type": "code",
   "execution_count": 142,
   "metadata": {},
   "outputs": [
    {
     "name": "stdout",
     "output_type": "stream",
     "text": [
      "First 5 training labels:\n",
      " [13  2  5 16 13]\n",
      "First 5 training lables as one-hot encoded vectors:\n",
      " [[0. 0. 0. 0. 0. 0. 0. 0. 0. 0. 0. 0. 0. 1. 0. 0. 0. 0. 0.]\n",
      " [0. 0. 1. 0. 0. 0. 0. 0. 0. 0. 0. 0. 0. 0. 0. 0. 0. 0. 0.]\n",
      " [0. 0. 0. 0. 0. 1. 0. 0. 0. 0. 0. 0. 0. 0. 0. 0. 0. 0. 0.]\n",
      " [0. 0. 0. 0. 0. 0. 0. 0. 0. 0. 0. 0. 0. 0. 0. 0. 1. 0. 0.]\n",
      " [0. 0. 0. 0. 0. 0. 0. 0. 0. 0. 0. 0. 0. 1. 0. 0. 0. 0. 0.]]\n"
     ]
    }
   ],
   "source": [
    "# Convert to \"one-hot\" vectors using the to_categorical function\n",
    "# X_train, X_test, y_train, y_test = train_test_split(train_inputs, train_labels, test_size=0.30)\n",
    "X_train, X_test, y_train, y_test = train_test_split(train_inputs, train_labels, test_size=0.05)\n",
    "\n",
    "print(\"First 5 training labels:\\n\", y_train[:5])\n",
    "\n",
    "num_classes = 19\n",
    "y_train = to_categorical(y_train, num_classes)\n",
    "y_test = to_categorical(y_test, num_classes)\n",
    "print(\"First 5 training lables as one-hot encoded vectors:\\n\", y_train[:5])"
   ]
  },
  {
   "cell_type": "code",
   "execution_count": 143,
   "metadata": {},
   "outputs": [],
   "source": [
    "# ORIGINAL WORKED WELL\n",
    "# Initialize Neural Network and add layers to it. \n",
    "model = Sequential()\n",
    "# model.add(Flatten(input_shape=(28,28)))\n",
    "\n",
    "#Layer 1\n",
    "p = X_train.shape[1] # 1568\n",
    "model.add(Dense(1024, input_shape=(p,))) \n",
    "model.add(Activation('relu')) # Rectified linear unit \n",
    "model.add(Dropout(0.1)) # randomly deactivate some nodes to avoid overfitting \n",
    "\n",
    "#Layer 2\n",
    "#number of neurons \n",
    "numberNeuronsLayer2 = int(math.sqrt(1024 * 512)) # regle de pouce\n",
    "model.add(Dense(numberNeuronsLayer2))\n",
    "model.add(Activation('relu'))\n",
    "model.add(Dropout(0.1))\n",
    "\n",
    "#Layer 3   \n",
    "numberNeuronsLayer3 = int(math.sqrt(512 * 256)) \n",
    "model.add(Dense(numberNeuronsLayer3))\n",
    "model.add(Activation('relu'))\n",
    "model.add(Dropout(0.1))\n",
    "\n",
    "\n",
    "#Layer 4   \n",
    "numberNeuronsLayer4 = 128\n",
    "model.add(Dense(numberNeuronsLayer4))\n",
    "model.add(Activation('relu'))\n",
    "model.add(Dropout(0.1))\n",
    "\n",
    "#Layer 5\n",
    "numberNeuronsLayer5 = 64\n",
    "model.add(Dense(numberNeuronsLayer5))\n",
    "model.add(Activation('relu'))\n",
    "model.add(Dropout(0.1))\n",
    "\n",
    "\n",
    "#Final layer \n",
    "model.add(Dense(num_classes, activation='softmax'))\n"
   ]
  },
  {
   "cell_type": "code",
   "execution_count": 144,
   "metadata": {},
   "outputs": [],
   "source": [
    "model.compile(loss='categorical_crossentropy', \n",
    "              optimizer='adam',\n",
    "              metrics=['acc'])\n",
    "\n",
    "# model.summary()"
   ]
  },
  {
   "cell_type": "code",
   "execution_count": 145,
   "metadata": {},
   "outputs": [
    {
     "name": "stdout",
     "output_type": "stream",
     "text": [
      "Epoch 1/250\n",
      "743/743 [==============================] - 12s 15ms/step - loss: 1.5956 - acc: 0.4790 - val_loss: 0.6856 - val_acc: 0.7984\n",
      "Epoch 2/250\n",
      "743/743 [==============================] - 11s 15ms/step - loss: 0.6342 - acc: 0.8198 - val_loss: 0.5129 - val_acc: 0.8616\n",
      "Epoch 3/250\n",
      "743/743 [==============================] - 11s 15ms/step - loss: 0.4375 - acc: 0.8798 - val_loss: 0.4524 - val_acc: 0.8776\n",
      "Epoch 4/250\n",
      "743/743 [==============================] - 11s 15ms/step - loss: 0.3388 - acc: 0.9057 - val_loss: 0.4245 - val_acc: 0.8892\n",
      "Epoch 5/250\n",
      "743/743 [==============================] - 11s 15ms/step - loss: 0.2712 - acc: 0.9262 - val_loss: 0.4230 - val_acc: 0.8924\n",
      "Epoch 6/250\n",
      "743/743 [==============================] - 11s 15ms/step - loss: 0.2351 - acc: 0.9344 - val_loss: 0.3468 - val_acc: 0.9112\n",
      "Epoch 7/250\n",
      "743/743 [==============================] - 11s 15ms/step - loss: 0.1939 - acc: 0.9453 - val_loss: 0.3425 - val_acc: 0.9116\n",
      "Epoch 8/250\n",
      "743/743 [==============================] - 11s 15ms/step - loss: 0.1712 - acc: 0.9517 - val_loss: 0.3582 - val_acc: 0.9108\n",
      "Epoch 9/250\n",
      "743/743 [==============================] - 11s 15ms/step - loss: 0.1603 - acc: 0.9553 - val_loss: 0.3417 - val_acc: 0.9188\n",
      "Epoch 10/250\n",
      "743/743 [==============================] - 11s 15ms/step - loss: 0.1403 - acc: 0.9602 - val_loss: 0.3592 - val_acc: 0.9144\n",
      "Epoch 11/250\n",
      "743/743 [==============================] - 11s 15ms/step - loss: 0.1337 - acc: 0.9625 - val_loss: 0.3374 - val_acc: 0.9228\n",
      "Epoch 12/250\n",
      "743/743 [==============================] - 11s 15ms/step - loss: 0.1207 - acc: 0.9663 - val_loss: 0.3143 - val_acc: 0.9320\n",
      "Epoch 13/250\n",
      "743/743 [==============================] - 11s 15ms/step - loss: 0.1087 - acc: 0.9690 - val_loss: 0.3346 - val_acc: 0.9276\n",
      "Epoch 14/250\n",
      "743/743 [==============================] - 11s 15ms/step - loss: 0.1037 - acc: 0.9705 - val_loss: 0.3543 - val_acc: 0.9272\n",
      "Epoch 15/250\n",
      "743/743 [==============================] - 11s 15ms/step - loss: 0.0989 - acc: 0.9719 - val_loss: 0.3316 - val_acc: 0.9284\n",
      "Epoch 16/250\n",
      "743/743 [==============================] - 11s 14ms/step - loss: 0.0900 - acc: 0.9750 - val_loss: 0.3494 - val_acc: 0.9388\n",
      "Epoch 17/250\n",
      "743/743 [==============================] - 11s 14ms/step - loss: 0.0956 - acc: 0.9741 - val_loss: 0.3558 - val_acc: 0.9304\n",
      "Epoch 18/250\n",
      "743/743 [==============================] - 11s 15ms/step - loss: 0.0792 - acc: 0.9775 - val_loss: 0.3909 - val_acc: 0.9276\n",
      "Epoch 19/250\n",
      "743/743 [==============================] - 11s 15ms/step - loss: 0.0775 - acc: 0.9786 - val_loss: 0.3938 - val_acc: 0.9320\n",
      "Epoch 20/250\n",
      "743/743 [==============================] - 11s 15ms/step - loss: 0.0786 - acc: 0.9789 - val_loss: 0.3951 - val_acc: 0.9324\n",
      "Epoch 21/250\n",
      "743/743 [==============================] - 11s 14ms/step - loss: 0.0724 - acc: 0.9801 - val_loss: 0.3655 - val_acc: 0.9336\n",
      "Epoch 22/250\n",
      "743/743 [==============================] - 11s 14ms/step - loss: 0.0762 - acc: 0.9799 - val_loss: 0.3817 - val_acc: 0.9268\n",
      "Epoch 23/250\n",
      "743/743 [==============================] - 11s 15ms/step - loss: 0.0700 - acc: 0.9815 - val_loss: 0.3602 - val_acc: 0.9348\n",
      "Epoch 24/250\n",
      "743/743 [==============================] - 11s 15ms/step - loss: 0.0674 - acc: 0.9823 - val_loss: 0.3490 - val_acc: 0.9344\n",
      "Epoch 25/250\n",
      "743/743 [==============================] - 11s 14ms/step - loss: 0.0666 - acc: 0.9821 - val_loss: 0.3326 - val_acc: 0.9400\n",
      "Epoch 26/250\n",
      "743/743 [==============================] - 11s 15ms/step - loss: 0.0603 - acc: 0.9839 - val_loss: 0.3856 - val_acc: 0.9320\n",
      "Epoch 27/250\n",
      "743/743 [==============================] - 11s 14ms/step - loss: 0.0656 - acc: 0.9835 - val_loss: 0.3710 - val_acc: 0.9376\n",
      "Epoch 28/250\n",
      "743/743 [==============================] - 11s 14ms/step - loss: 0.0542 - acc: 0.9857 - val_loss: 0.3973 - val_acc: 0.9376\n",
      "Epoch 29/250\n",
      "743/743 [==============================] - 11s 14ms/step - loss: 0.0651 - acc: 0.9833 - val_loss: 0.4098 - val_acc: 0.9392\n",
      "Epoch 30/250\n",
      "743/743 [==============================] - 11s 14ms/step - loss: 0.0553 - acc: 0.9861 - val_loss: 0.3544 - val_acc: 0.9416\n",
      "Epoch 31/250\n",
      "743/743 [==============================] - 11s 14ms/step - loss: 0.0568 - acc: 0.9852 - val_loss: 0.4242 - val_acc: 0.9340\n",
      "Epoch 32/250\n",
      "743/743 [==============================] - 11s 14ms/step - loss: 0.0510 - acc: 0.9868 - val_loss: 0.3705 - val_acc: 0.9408\n",
      "Epoch 33/250\n",
      "743/743 [==============================] - 11s 14ms/step - loss: 0.0557 - acc: 0.9858 - val_loss: 0.4136 - val_acc: 0.9304\n",
      "Epoch 34/250\n",
      "743/743 [==============================] - 11s 15ms/step - loss: 0.0529 - acc: 0.9864 - val_loss: 0.3668 - val_acc: 0.9388\n",
      "Epoch 35/250\n",
      "743/743 [==============================] - 11s 14ms/step - loss: 0.0540 - acc: 0.9868 - val_loss: 0.4253 - val_acc: 0.9392\n",
      "Epoch 36/250\n",
      "743/743 [==============================] - 11s 15ms/step - loss: 0.0558 - acc: 0.9868 - val_loss: 0.3567 - val_acc: 0.9440\n",
      "Epoch 37/250\n",
      "743/743 [==============================] - 11s 14ms/step - loss: 0.0565 - acc: 0.9857 - val_loss: 0.3827 - val_acc: 0.9384\n",
      "Epoch 38/250\n",
      "743/743 [==============================] - 11s 15ms/step - loss: 0.0454 - acc: 0.9889 - val_loss: 0.3775 - val_acc: 0.9420\n",
      "Epoch 39/250\n",
      "743/743 [==============================] - 11s 14ms/step - loss: 0.0488 - acc: 0.9877 - val_loss: 0.4508 - val_acc: 0.9424\n",
      "Epoch 40/250\n",
      "743/743 [==============================] - 11s 14ms/step - loss: 0.0463 - acc: 0.9891 - val_loss: 0.3717 - val_acc: 0.9384\n",
      "Epoch 41/250\n",
      "743/743 [==============================] - 11s 14ms/step - loss: 0.0536 - acc: 0.9868 - val_loss: 0.3924 - val_acc: 0.9444\n",
      "Epoch 42/250\n",
      "743/743 [==============================] - 11s 15ms/step - loss: 0.0480 - acc: 0.9888 - val_loss: 0.3486 - val_acc: 0.9396\n",
      "Epoch 43/250\n",
      "743/743 [==============================] - 11s 14ms/step - loss: 0.0537 - acc: 0.9876 - val_loss: 0.3553 - val_acc: 0.9400\n",
      "Epoch 44/250\n",
      "743/743 [==============================] - 11s 14ms/step - loss: 0.0376 - acc: 0.9906 - val_loss: 0.4434 - val_acc: 0.9396\n",
      "Epoch 45/250\n",
      "743/743 [==============================] - 11s 14ms/step - loss: 0.0539 - acc: 0.9867 - val_loss: 0.3588 - val_acc: 0.9428\n",
      "Epoch 46/250\n",
      "743/743 [==============================] - 11s 15ms/step - loss: 0.0385 - acc: 0.9908 - val_loss: 0.4437 - val_acc: 0.9424\n",
      "Epoch 47/250\n",
      "743/743 [==============================] - 11s 14ms/step - loss: 0.0498 - acc: 0.9881 - val_loss: 0.4555 - val_acc: 0.9312\n",
      "Epoch 48/250\n",
      "743/743 [==============================] - 11s 15ms/step - loss: 0.0461 - acc: 0.9885 - val_loss: 0.4231 - val_acc: 0.9340\n",
      "Epoch 49/250\n",
      "743/743 [==============================] - 11s 14ms/step - loss: 0.0386 - acc: 0.9907 - val_loss: 0.4506 - val_acc: 0.9380\n",
      "Epoch 50/250\n",
      "743/743 [==============================] - 11s 15ms/step - loss: 0.0444 - acc: 0.9888 - val_loss: 0.4384 - val_acc: 0.9392\n",
      "Epoch 51/250\n",
      "743/743 [==============================] - 11s 15ms/step - loss: 0.0540 - acc: 0.9892 - val_loss: 0.4247 - val_acc: 0.9388\n",
      "Epoch 52/250\n",
      "743/743 [==============================] - 11s 15ms/step - loss: 0.0427 - acc: 0.9907 - val_loss: 0.4285 - val_acc: 0.9412\n",
      "Epoch 53/250\n",
      "743/743 [==============================] - 11s 15ms/step - loss: 0.0428 - acc: 0.9897 - val_loss: 0.4760 - val_acc: 0.9416\n",
      "Epoch 54/250\n",
      "743/743 [==============================] - 11s 15ms/step - loss: 0.0416 - acc: 0.9892 - val_loss: 0.4260 - val_acc: 0.9436\n",
      "Epoch 55/250\n",
      "743/743 [==============================] - 11s 15ms/step - loss: 0.0389 - acc: 0.9913 - val_loss: 0.3774 - val_acc: 0.9464\n",
      "Epoch 56/250\n",
      "743/743 [==============================] - 11s 15ms/step - loss: 0.0428 - acc: 0.9901 - val_loss: 0.4275 - val_acc: 0.9368\n",
      "Epoch 57/250\n",
      "743/743 [==============================] - 11s 15ms/step - loss: 0.0482 - acc: 0.9888 - val_loss: 0.4703 - val_acc: 0.9404\n",
      "Epoch 58/250\n",
      "743/743 [==============================] - 11s 15ms/step - loss: 0.0391 - acc: 0.9909 - val_loss: 0.4625 - val_acc: 0.9376\n",
      "Epoch 59/250\n",
      "743/743 [==============================] - 11s 15ms/step - loss: 0.0375 - acc: 0.9917 - val_loss: 0.3662 - val_acc: 0.9476\n",
      "Epoch 60/250\n",
      "743/743 [==============================] - 11s 14ms/step - loss: 0.0322 - acc: 0.9929 - val_loss: 0.4054 - val_acc: 0.9420\n",
      "Epoch 61/250\n",
      "743/743 [==============================] - 11s 15ms/step - loss: 0.0458 - acc: 0.9899 - val_loss: 0.4837 - val_acc: 0.9396\n",
      "Epoch 62/250\n",
      "743/743 [==============================] - 11s 15ms/step - loss: 0.0331 - acc: 0.9927 - val_loss: 0.3784 - val_acc: 0.9456\n",
      "Epoch 63/250\n",
      "743/743 [==============================] - 10s 13ms/step - loss: 0.0413 - acc: 0.9912 - val_loss: 0.4295 - val_acc: 0.9476\n",
      "Epoch 64/250\n",
      "743/743 [==============================] - 9s 12ms/step - loss: 0.0403 - acc: 0.9910 - val_loss: 0.4049 - val_acc: 0.9476\n",
      "Epoch 65/250\n",
      "743/743 [==============================] - 9s 12ms/step - loss: 0.0406 - acc: 0.9909 - val_loss: 0.4144 - val_acc: 0.9464\n",
      "Epoch 66/250\n",
      "743/743 [==============================] - 9s 12ms/step - loss: 0.0341 - acc: 0.9917 - val_loss: 0.5191 - val_acc: 0.9364\n",
      "Epoch 67/250\n",
      "743/743 [==============================] - 9s 12ms/step - loss: 0.0424 - acc: 0.9906 - val_loss: 0.5133 - val_acc: 0.9328\n",
      "Epoch 68/250\n",
      "743/743 [==============================] - 9s 12ms/step - loss: 0.0379 - acc: 0.9919 - val_loss: 0.4221 - val_acc: 0.9404\n",
      "Epoch 69/250\n",
      "743/743 [==============================] - 9s 12ms/step - loss: 0.0336 - acc: 0.9931 - val_loss: 0.4932 - val_acc: 0.9392\n",
      "Epoch 70/250\n",
      "743/743 [==============================] - 9s 12ms/step - loss: 0.0398 - acc: 0.9910 - val_loss: 0.5201 - val_acc: 0.9412\n",
      "Epoch 71/250\n",
      "743/743 [==============================] - 9s 12ms/step - loss: 0.0407 - acc: 0.9911 - val_loss: 0.4333 - val_acc: 0.9420\n",
      "Epoch 72/250\n",
      "743/743 [==============================] - 9s 12ms/step - loss: 0.0301 - acc: 0.9932 - val_loss: 0.4687 - val_acc: 0.9404\n",
      "Epoch 73/250\n",
      "743/743 [==============================] - 9s 12ms/step - loss: 0.0355 - acc: 0.9923 - val_loss: 0.4496 - val_acc: 0.9380\n",
      "Epoch 74/250\n",
      "743/743 [==============================] - 9s 12ms/step - loss: 0.0375 - acc: 0.9920 - val_loss: 0.4682 - val_acc: 0.9424\n",
      "Epoch 75/250\n",
      "743/743 [==============================] - 9s 12ms/step - loss: 0.0354 - acc: 0.9921 - val_loss: 0.5070 - val_acc: 0.9368\n",
      "Epoch 76/250\n",
      "743/743 [==============================] - 9s 12ms/step - loss: 0.0403 - acc: 0.9912 - val_loss: 0.4906 - val_acc: 0.9404\n",
      "Epoch 77/250\n",
      "743/743 [==============================] - 9s 12ms/step - loss: 0.0377 - acc: 0.9919 - val_loss: 0.4287 - val_acc: 0.9396\n",
      "Epoch 78/250\n",
      "743/743 [==============================] - 9s 12ms/step - loss: 0.0307 - acc: 0.9936 - val_loss: 0.4915 - val_acc: 0.9452\n",
      "Epoch 79/250\n",
      "743/743 [==============================] - 9s 12ms/step - loss: 0.0419 - acc: 0.9923 - val_loss: 0.4732 - val_acc: 0.9408\n",
      "Epoch 80/250\n",
      "743/743 [==============================] - 8s 11ms/step - loss: 0.0340 - acc: 0.9928 - val_loss: 0.4767 - val_acc: 0.9448\n",
      "Epoch 81/250\n",
      "743/743 [==============================] - 9s 12ms/step - loss: 0.0354 - acc: 0.9923 - val_loss: 0.4917 - val_acc: 0.9452\n",
      "Epoch 82/250\n",
      "743/743 [==============================] - 8s 11ms/step - loss: 0.0328 - acc: 0.9936 - val_loss: 0.4691 - val_acc: 0.9472\n",
      "Epoch 83/250\n",
      "743/743 [==============================] - 8s 11ms/step - loss: 0.0282 - acc: 0.9939 - val_loss: 0.5458 - val_acc: 0.9408\n",
      "Epoch 84/250\n",
      "743/743 [==============================] - 9s 12ms/step - loss: 0.0410 - acc: 0.9910 - val_loss: 0.4374 - val_acc: 0.9444\n",
      "Epoch 85/250\n",
      "743/743 [==============================] - 9s 12ms/step - loss: 0.0309 - acc: 0.9933 - val_loss: 0.5085 - val_acc: 0.9412\n",
      "Epoch 86/250\n",
      "743/743 [==============================] - 9s 12ms/step - loss: 0.0327 - acc: 0.9936 - val_loss: 0.5401 - val_acc: 0.9428\n",
      "Epoch 87/250\n",
      "743/743 [==============================] - 9s 11ms/step - loss: 0.0374 - acc: 0.9921 - val_loss: 0.4442 - val_acc: 0.9432\n",
      "Epoch 88/250\n",
      "743/743 [==============================] - 9s 12ms/step - loss: 0.0362 - acc: 0.9924 - val_loss: 0.4656 - val_acc: 0.9492\n",
      "Epoch 89/250\n",
      "743/743 [==============================] - 9s 12ms/step - loss: 0.0318 - acc: 0.9931 - val_loss: 0.4842 - val_acc: 0.9492\n",
      "Epoch 90/250\n",
      "743/743 [==============================] - 9s 11ms/step - loss: 0.0331 - acc: 0.9936 - val_loss: 0.5393 - val_acc: 0.9444\n",
      "Epoch 91/250\n",
      "743/743 [==============================] - 9s 12ms/step - loss: 0.0330 - acc: 0.9932 - val_loss: 0.5034 - val_acc: 0.9432\n",
      "Epoch 92/250\n",
      "743/743 [==============================] - 9s 12ms/step - loss: 0.0361 - acc: 0.9921 - val_loss: 0.5764 - val_acc: 0.9384\n",
      "Epoch 93/250\n",
      "743/743 [==============================] - 9s 12ms/step - loss: 0.0339 - acc: 0.9932 - val_loss: 0.4446 - val_acc: 0.9408\n",
      "Epoch 94/250\n",
      "743/743 [==============================] - 9s 11ms/step - loss: 0.0281 - acc: 0.9936 - val_loss: 0.5121 - val_acc: 0.9428\n",
      "Epoch 95/250\n",
      "743/743 [==============================] - 9s 12ms/step - loss: 0.0331 - acc: 0.9932 - val_loss: 0.5492 - val_acc: 0.9444\n",
      "Epoch 96/250\n",
      "743/743 [==============================] - 9s 12ms/step - loss: 0.0339 - acc: 0.9933 - val_loss: 0.4847 - val_acc: 0.9420\n",
      "Epoch 97/250\n",
      "743/743 [==============================] - 9s 12ms/step - loss: 0.0373 - acc: 0.9929 - val_loss: 0.6274 - val_acc: 0.9432\n",
      "Epoch 98/250\n",
      "743/743 [==============================] - 9s 12ms/step - loss: 0.0364 - acc: 0.9931 - val_loss: 0.4778 - val_acc: 0.9428\n",
      "Epoch 99/250\n",
      "743/743 [==============================] - 9s 12ms/step - loss: 0.0360 - acc: 0.9929 - val_loss: 0.5625 - val_acc: 0.9412\n",
      "Epoch 100/250\n",
      "743/743 [==============================] - 9s 12ms/step - loss: 0.0268 - acc: 0.9946 - val_loss: 0.5619 - val_acc: 0.9484\n",
      "Epoch 101/250\n",
      "743/743 [==============================] - 9s 12ms/step - loss: 0.0406 - acc: 0.9931 - val_loss: 0.4701 - val_acc: 0.9460\n",
      "Epoch 102/250\n",
      "743/743 [==============================] - 9s 12ms/step - loss: 0.0357 - acc: 0.9928 - val_loss: 0.5442 - val_acc: 0.9424\n",
      "Epoch 103/250\n",
      "743/743 [==============================] - 9s 12ms/step - loss: 0.0360 - acc: 0.9933 - val_loss: 0.5518 - val_acc: 0.9400\n",
      "Epoch 104/250\n",
      "743/743 [==============================] - 9s 12ms/step - loss: 0.0239 - acc: 0.9947 - val_loss: 0.5936 - val_acc: 0.9472\n",
      "Epoch 105/250\n",
      "743/743 [==============================] - 9s 11ms/step - loss: 0.0312 - acc: 0.9936 - val_loss: 0.5876 - val_acc: 0.9380\n",
      "Epoch 106/250\n",
      "743/743 [==============================] - 9s 12ms/step - loss: 0.0305 - acc: 0.9943 - val_loss: 0.6640 - val_acc: 0.9456\n",
      "Epoch 107/250\n",
      "743/743 [==============================] - 9s 12ms/step - loss: 0.0388 - acc: 0.9930 - val_loss: 0.5192 - val_acc: 0.9460\n",
      "Epoch 108/250\n",
      "743/743 [==============================] - 9s 12ms/step - loss: 0.0371 - acc: 0.9932 - val_loss: 0.5413 - val_acc: 0.9444\n",
      "Epoch 109/250\n",
      "743/743 [==============================] - 9s 12ms/step - loss: 0.0310 - acc: 0.9938 - val_loss: 0.5193 - val_acc: 0.9452\n",
      "Epoch 110/250\n",
      "743/743 [==============================] - 9s 12ms/step - loss: 0.0309 - acc: 0.9940 - val_loss: 0.5438 - val_acc: 0.9416\n",
      "Epoch 111/250\n",
      "743/743 [==============================] - 9s 11ms/step - loss: 0.0299 - acc: 0.9939 - val_loss: 0.5577 - val_acc: 0.9452\n",
      "Epoch 112/250\n",
      "743/743 [==============================] - 9s 12ms/step - loss: 0.0360 - acc: 0.9935 - val_loss: 0.5793 - val_acc: 0.9448\n",
      "Epoch 113/250\n",
      "743/743 [==============================] - 8s 11ms/step - loss: 0.0371 - acc: 0.9930 - val_loss: 0.6225 - val_acc: 0.9400\n",
      "Epoch 114/250\n",
      "743/743 [==============================] - 9s 12ms/step - loss: 0.0333 - acc: 0.9936 - val_loss: 0.5633 - val_acc: 0.9488\n",
      "Epoch 115/250\n",
      "743/743 [==============================] - 8s 11ms/step - loss: 0.0321 - acc: 0.9945 - val_loss: 0.5973 - val_acc: 0.9380\n",
      "Epoch 116/250\n",
      "743/743 [==============================] - 8s 11ms/step - loss: 0.0294 - acc: 0.9945 - val_loss: 0.6345 - val_acc: 0.9516\n",
      "Epoch 117/250\n",
      "743/743 [==============================] - 8s 11ms/step - loss: 0.0282 - acc: 0.9952 - val_loss: 0.6099 - val_acc: 0.9444\n",
      "Epoch 118/250\n",
      "743/743 [==============================] - 9s 12ms/step - loss: 0.0284 - acc: 0.9941 - val_loss: 0.5879 - val_acc: 0.9492\n",
      "Epoch 119/250\n",
      "743/743 [==============================] - 9s 11ms/step - loss: 0.0312 - acc: 0.9941 - val_loss: 0.5655 - val_acc: 0.9428\n",
      "Epoch 120/250\n",
      "743/743 [==============================] - 9s 11ms/step - loss: 0.0364 - acc: 0.9936 - val_loss: 0.5725 - val_acc: 0.9472\n",
      "Epoch 121/250\n",
      "743/743 [==============================] - 8s 11ms/step - loss: 0.0251 - acc: 0.9952 - val_loss: 0.5079 - val_acc: 0.9464\n",
      "Epoch 122/250\n",
      "743/743 [==============================] - 8s 11ms/step - loss: 0.0324 - acc: 0.9944 - val_loss: 0.5672 - val_acc: 0.9504\n",
      "Epoch 123/250\n",
      "743/743 [==============================] - 8s 11ms/step - loss: 0.0302 - acc: 0.9944 - val_loss: 0.4983 - val_acc: 0.9484\n",
      "Epoch 124/250\n",
      "743/743 [==============================] - 8s 11ms/step - loss: 0.0284 - acc: 0.9948 - val_loss: 0.5158 - val_acc: 0.9528\n",
      "Epoch 125/250\n",
      "743/743 [==============================] - 8s 11ms/step - loss: 0.0321 - acc: 0.9938 - val_loss: 0.6397 - val_acc: 0.9460\n",
      "Epoch 126/250\n",
      "743/743 [==============================] - 8s 11ms/step - loss: 0.0417 - acc: 0.9921 - val_loss: 0.5717 - val_acc: 0.9468\n",
      "Epoch 127/250\n",
      "743/743 [==============================] - 8s 11ms/step - loss: 0.0302 - acc: 0.9943 - val_loss: 0.7236 - val_acc: 0.9392\n",
      "Epoch 128/250\n",
      "743/743 [==============================] - 8s 11ms/step - loss: 0.0276 - acc: 0.9946 - val_loss: 0.6336 - val_acc: 0.9468\n",
      "Epoch 129/250\n",
      "743/743 [==============================] - 9s 12ms/step - loss: 0.0371 - acc: 0.9935 - val_loss: 0.6115 - val_acc: 0.9492\n",
      "Epoch 130/250\n",
      "743/743 [==============================] - 9s 12ms/step - loss: 0.0250 - acc: 0.9956 - val_loss: 0.7958 - val_acc: 0.9480\n",
      "Epoch 131/250\n",
      "743/743 [==============================] - 8s 11ms/step - loss: 0.0336 - acc: 0.9940 - val_loss: 0.7434 - val_acc: 0.9452\n",
      "Epoch 132/250\n",
      "743/743 [==============================] - 8s 11ms/step - loss: 0.0330 - acc: 0.9942 - val_loss: 0.5682 - val_acc: 0.9468\n",
      "Epoch 133/250\n",
      "743/743 [==============================] - 8s 11ms/step - loss: 0.0266 - acc: 0.9952 - val_loss: 0.6136 - val_acc: 0.9456\n",
      "Epoch 134/250\n",
      "743/743 [==============================] - 8s 11ms/step - loss: 0.0298 - acc: 0.9937 - val_loss: 0.6239 - val_acc: 0.9492\n",
      "Epoch 135/250\n",
      "743/743 [==============================] - 9s 12ms/step - loss: 0.0411 - acc: 0.9934 - val_loss: 0.5907 - val_acc: 0.9432\n",
      "Epoch 136/250\n",
      "743/743 [==============================] - 9s 12ms/step - loss: 0.0262 - acc: 0.9951 - val_loss: 0.6365 - val_acc: 0.9452\n",
      "Epoch 137/250\n",
      "743/743 [==============================] - 8s 11ms/step - loss: 0.0307 - acc: 0.9946 - val_loss: 0.6412 - val_acc: 0.9432\n",
      "Epoch 138/250\n",
      "743/743 [==============================] - 8s 11ms/step - loss: 0.0302 - acc: 0.9942 - val_loss: 0.5181 - val_acc: 0.9492\n",
      "Epoch 139/250\n",
      "743/743 [==============================] - 8s 11ms/step - loss: 0.0310 - acc: 0.9943 - val_loss: 0.5296 - val_acc: 0.9524\n",
      "Epoch 140/250\n",
      "743/743 [==============================] - 8s 11ms/step - loss: 0.0233 - acc: 0.9956 - val_loss: 0.5554 - val_acc: 0.9520\n",
      "Epoch 141/250\n",
      "743/743 [==============================] - 8s 11ms/step - loss: 0.0471 - acc: 0.9928 - val_loss: 0.5967 - val_acc: 0.9488\n",
      "Epoch 142/250\n",
      "743/743 [==============================] - 9s 12ms/step - loss: 0.0259 - acc: 0.9952 - val_loss: 0.4850 - val_acc: 0.9584\n",
      "Epoch 143/250\n",
      "743/743 [==============================] - 9s 11ms/step - loss: 0.0302 - acc: 0.9946 - val_loss: 0.5663 - val_acc: 0.9464\n",
      "Epoch 144/250\n",
      "743/743 [==============================] - 8s 11ms/step - loss: 0.0329 - acc: 0.9943 - val_loss: 0.5805 - val_acc: 0.9524\n",
      "Epoch 145/250\n",
      "743/743 [==============================] - 8s 11ms/step - loss: 0.0290 - acc: 0.9949 - val_loss: 0.7415 - val_acc: 0.9488\n",
      "Epoch 146/250\n",
      "743/743 [==============================] - 8s 11ms/step - loss: 0.0324 - acc: 0.9945 - val_loss: 0.4831 - val_acc: 0.9520\n",
      "Epoch 147/250\n",
      "743/743 [==============================] - 9s 12ms/step - loss: 0.0309 - acc: 0.9949 - val_loss: 0.5075 - val_acc: 0.9512\n",
      "Epoch 148/250\n",
      "743/743 [==============================] - 8s 11ms/step - loss: 0.0307 - acc: 0.9943 - val_loss: 0.5698 - val_acc: 0.9436\n",
      "Epoch 149/250\n",
      "743/743 [==============================] - 8s 11ms/step - loss: 0.0287 - acc: 0.9950 - val_loss: 0.5454 - val_acc: 0.9544\n",
      "Epoch 150/250\n",
      "743/743 [==============================] - 8s 11ms/step - loss: 0.0338 - acc: 0.9948 - val_loss: 0.5837 - val_acc: 0.9468\n",
      "Epoch 151/250\n",
      "743/743 [==============================] - 8s 11ms/step - loss: 0.0204 - acc: 0.9960 - val_loss: 0.5934 - val_acc: 0.9528\n",
      "Epoch 152/250\n",
      "743/743 [==============================] - 8s 11ms/step - loss: 0.0319 - acc: 0.9951 - val_loss: 0.6545 - val_acc: 0.9516\n",
      "Epoch 153/250\n",
      "743/743 [==============================] - 8s 11ms/step - loss: 0.0360 - acc: 0.9940 - val_loss: 0.6137 - val_acc: 0.9472\n",
      "Epoch 154/250\n",
      "743/743 [==============================] - 8s 11ms/step - loss: 0.0341 - acc: 0.9945 - val_loss: 0.5990 - val_acc: 0.9548\n",
      "Epoch 155/250\n",
      "743/743 [==============================] - 8s 11ms/step - loss: 0.0324 - acc: 0.9947 - val_loss: 0.7905 - val_acc: 0.9476\n",
      "Epoch 156/250\n",
      "743/743 [==============================] - 8s 11ms/step - loss: 0.0274 - acc: 0.9955 - val_loss: 0.6953 - val_acc: 0.9492\n",
      "Epoch 157/250\n",
      "743/743 [==============================] - 8s 11ms/step - loss: 0.0305 - acc: 0.9948 - val_loss: 0.6616 - val_acc: 0.9496\n",
      "Epoch 158/250\n",
      "743/743 [==============================] - 9s 12ms/step - loss: 0.0336 - acc: 0.9949 - val_loss: 0.6627 - val_acc: 0.9468\n",
      "Epoch 159/250\n",
      "743/743 [==============================] - 9s 12ms/step - loss: 0.0259 - acc: 0.9955 - val_loss: 0.6140 - val_acc: 0.9472\n",
      "Epoch 160/250\n",
      "743/743 [==============================] - 8s 11ms/step - loss: 0.0304 - acc: 0.9947 - val_loss: 0.6814 - val_acc: 0.9460\n",
      "Epoch 161/250\n",
      "743/743 [==============================] - 8s 11ms/step - loss: 0.0297 - acc: 0.9951 - val_loss: 0.7708 - val_acc: 0.9516\n",
      "Epoch 162/250\n",
      "743/743 [==============================] - 8s 11ms/step - loss: 0.0277 - acc: 0.9952 - val_loss: 0.7921 - val_acc: 0.9476\n",
      "Epoch 163/250\n",
      "743/743 [==============================] - 8s 11ms/step - loss: 0.0265 - acc: 0.9953 - val_loss: 0.7621 - val_acc: 0.9488\n",
      "Epoch 164/250\n",
      "743/743 [==============================] - 8s 11ms/step - loss: 0.0309 - acc: 0.9949 - val_loss: 0.8027 - val_acc: 0.9464\n",
      "Epoch 165/250\n",
      "743/743 [==============================] - 8s 11ms/step - loss: 0.0267 - acc: 0.9954 - val_loss: 0.8285 - val_acc: 0.9468\n",
      "Epoch 166/250\n",
      "743/743 [==============================] - 8s 11ms/step - loss: 0.0352 - acc: 0.9946 - val_loss: 0.7893 - val_acc: 0.9444\n",
      "Epoch 167/250\n",
      "743/743 [==============================] - 8s 11ms/step - loss: 0.0300 - acc: 0.9943 - val_loss: 0.8264 - val_acc: 0.9516\n",
      "Epoch 168/250\n",
      "743/743 [==============================] - 8s 11ms/step - loss: 0.0265 - acc: 0.9959 - val_loss: 0.6417 - val_acc: 0.9516\n",
      "Epoch 169/250\n",
      "743/743 [==============================] - 8s 11ms/step - loss: 0.0251 - acc: 0.9956 - val_loss: 0.7692 - val_acc: 0.9516\n",
      "Epoch 170/250\n",
      "743/743 [==============================] - 8s 11ms/step - loss: 0.0353 - acc: 0.9945 - val_loss: 0.7321 - val_acc: 0.9472\n",
      "Epoch 171/250\n",
      "743/743 [==============================] - 9s 11ms/step - loss: 0.0330 - acc: 0.9949 - val_loss: 0.8591 - val_acc: 0.9528\n",
      "Epoch 172/250\n",
      "743/743 [==============================] - 8s 11ms/step - loss: 0.0301 - acc: 0.9960 - val_loss: 0.7848 - val_acc: 0.9468\n",
      "Epoch 173/250\n",
      "743/743 [==============================] - 8s 11ms/step - loss: 0.0223 - acc: 0.9963 - val_loss: 0.7797 - val_acc: 0.9520\n",
      "Epoch 174/250\n",
      "743/743 [==============================] - 8s 11ms/step - loss: 0.0360 - acc: 0.9951 - val_loss: 0.7606 - val_acc: 0.9536\n",
      "Epoch 175/250\n",
      "743/743 [==============================] - 8s 11ms/step - loss: 0.0246 - acc: 0.9961 - val_loss: 0.7514 - val_acc: 0.9496\n",
      "Epoch 176/250\n",
      "743/743 [==============================] - 8s 11ms/step - loss: 0.0319 - acc: 0.9954 - val_loss: 0.7289 - val_acc: 0.9468\n",
      "Epoch 177/250\n",
      "743/743 [==============================] - 8s 11ms/step - loss: 0.0340 - acc: 0.9947 - val_loss: 0.6646 - val_acc: 0.9432\n",
      "Epoch 178/250\n",
      "743/743 [==============================] - 9s 12ms/step - loss: 0.0279 - acc: 0.9949 - val_loss: 0.7789 - val_acc: 0.9516\n",
      "Epoch 179/250\n",
      "743/743 [==============================] - 8s 11ms/step - loss: 0.0257 - acc: 0.9961 - val_loss: 0.7150 - val_acc: 0.9508\n",
      "Epoch 180/250\n",
      "743/743 [==============================] - 8s 11ms/step - loss: 0.0351 - acc: 0.9943 - val_loss: 0.7266 - val_acc: 0.9496\n",
      "Epoch 181/250\n",
      "743/743 [==============================] - 9s 12ms/step - loss: 0.0243 - acc: 0.9954 - val_loss: 0.8517 - val_acc: 0.9532\n",
      "Epoch 182/250\n",
      "743/743 [==============================] - 8s 11ms/step - loss: 0.0277 - acc: 0.9952 - val_loss: 0.7442 - val_acc: 0.9476\n",
      "Epoch 183/250\n",
      "743/743 [==============================] - 9s 12ms/step - loss: 0.0307 - acc: 0.9948 - val_loss: 0.8358 - val_acc: 0.9508\n",
      "Epoch 184/250\n",
      "743/743 [==============================] - 8s 11ms/step - loss: 0.0343 - acc: 0.9945 - val_loss: 0.7381 - val_acc: 0.9544\n",
      "Epoch 185/250\n",
      "743/743 [==============================] - 8s 11ms/step - loss: 0.0295 - acc: 0.9953 - val_loss: 0.7058 - val_acc: 0.9492\n",
      "Epoch 186/250\n",
      "743/743 [==============================] - 8s 11ms/step - loss: 0.0343 - acc: 0.9944 - val_loss: 0.6860 - val_acc: 0.9548\n",
      "Epoch 187/250\n",
      "743/743 [==============================] - 8s 11ms/step - loss: 0.0290 - acc: 0.9960 - val_loss: 0.6567 - val_acc: 0.9508\n",
      "Epoch 188/250\n",
      "743/743 [==============================] - 8s 11ms/step - loss: 0.0329 - acc: 0.9946 - val_loss: 0.7924 - val_acc: 0.9488\n",
      "Epoch 189/250\n",
      "743/743 [==============================] - 8s 11ms/step - loss: 0.0323 - acc: 0.9950 - val_loss: 0.8059 - val_acc: 0.9540\n",
      "Epoch 190/250\n",
      "743/743 [==============================] - 8s 11ms/step - loss: 0.0313 - acc: 0.9946 - val_loss: 0.6471 - val_acc: 0.9540\n",
      "Epoch 191/250\n",
      "743/743 [==============================] - 8s 11ms/step - loss: 0.0225 - acc: 0.9964 - val_loss: 0.6195 - val_acc: 0.9560\n",
      "Epoch 192/250\n",
      "743/743 [==============================] - 8s 11ms/step - loss: 0.0177 - acc: 0.9968 - val_loss: 0.7649 - val_acc: 0.9484\n",
      "Epoch 193/250\n",
      "743/743 [==============================] - 8s 11ms/step - loss: 0.0282 - acc: 0.9956 - val_loss: 0.7250 - val_acc: 0.9492\n",
      "Epoch 194/250\n",
      "743/743 [==============================] - 9s 11ms/step - loss: 0.0276 - acc: 0.9956 - val_loss: 0.6767 - val_acc: 0.9472\n",
      "Epoch 195/250\n",
      "743/743 [==============================] - 8s 11ms/step - loss: 0.0177 - acc: 0.9969 - val_loss: 0.7764 - val_acc: 0.9528\n",
      "Epoch 196/250\n",
      "743/743 [==============================] - 8s 11ms/step - loss: 0.0364 - acc: 0.9945 - val_loss: 0.7383 - val_acc: 0.9464\n",
      "Epoch 197/250\n",
      "743/743 [==============================] - 8s 11ms/step - loss: 0.0434 - acc: 0.9936 - val_loss: 0.8211 - val_acc: 0.9440\n",
      "Epoch 198/250\n",
      "743/743 [==============================] - 8s 11ms/step - loss: 0.0381 - acc: 0.9944 - val_loss: 0.7176 - val_acc: 0.9524\n",
      "Epoch 199/250\n",
      "743/743 [==============================] - 8s 11ms/step - loss: 0.0390 - acc: 0.9945 - val_loss: 0.7033 - val_acc: 0.9504\n",
      "Epoch 200/250\n",
      "743/743 [==============================] - 8s 11ms/step - loss: 0.0251 - acc: 0.9959 - val_loss: 0.7014 - val_acc: 0.9484\n",
      "Epoch 201/250\n",
      "743/743 [==============================] - 8s 11ms/step - loss: 0.0216 - acc: 0.9961 - val_loss: 0.8054 - val_acc: 0.9460\n",
      "Epoch 202/250\n",
      "743/743 [==============================] - 8s 11ms/step - loss: 0.0396 - acc: 0.9943 - val_loss: 0.6884 - val_acc: 0.9528\n",
      "Epoch 203/250\n",
      "743/743 [==============================] - 8s 11ms/step - loss: 0.0321 - acc: 0.9950 - val_loss: 0.5856 - val_acc: 0.9540\n",
      "Epoch 204/250\n",
      "743/743 [==============================] - 8s 11ms/step - loss: 0.0294 - acc: 0.9957 - val_loss: 0.7799 - val_acc: 0.9484\n",
      "Epoch 205/250\n",
      "743/743 [==============================] - 9s 12ms/step - loss: 0.0299 - acc: 0.9947 - val_loss: 0.5677 - val_acc: 0.9520\n",
      "Epoch 206/250\n",
      "743/743 [==============================] - 9s 11ms/step - loss: 0.0245 - acc: 0.9966 - val_loss: 0.6319 - val_acc: 0.9508\n",
      "Epoch 207/250\n",
      "743/743 [==============================] - 8s 11ms/step - loss: 0.0306 - acc: 0.9951 - val_loss: 0.6869 - val_acc: 0.9488\n",
      "Epoch 208/250\n",
      "743/743 [==============================] - 8s 11ms/step - loss: 0.0311 - acc: 0.9951 - val_loss: 0.6763 - val_acc: 0.9464\n",
      "Epoch 209/250\n",
      "743/743 [==============================] - 8s 11ms/step - loss: 0.0263 - acc: 0.9960 - val_loss: 0.7676 - val_acc: 0.9492\n",
      "Epoch 210/250\n",
      "743/743 [==============================] - 8s 11ms/step - loss: 0.0260 - acc: 0.9957 - val_loss: 0.8097 - val_acc: 0.9460\n",
      "Epoch 211/250\n",
      "743/743 [==============================] - 8s 11ms/step - loss: 0.0360 - acc: 0.9950 - val_loss: 0.7576 - val_acc: 0.9500\n",
      "Epoch 212/250\n",
      "743/743 [==============================] - 8s 11ms/step - loss: 0.0347 - acc: 0.9955 - val_loss: 0.6565 - val_acc: 0.9476\n",
      "Epoch 213/250\n",
      "743/743 [==============================] - 9s 11ms/step - loss: 0.0254 - acc: 0.9958 - val_loss: 0.9072 - val_acc: 0.9476\n",
      "Epoch 214/250\n",
      "743/743 [==============================] - 8s 11ms/step - loss: 0.0250 - acc: 0.9959 - val_loss: 0.8541 - val_acc: 0.9468\n",
      "Epoch 215/250\n",
      "743/743 [==============================] - 8s 11ms/step - loss: 0.0375 - acc: 0.9948 - val_loss: 0.8169 - val_acc: 0.9492\n",
      "Epoch 216/250\n",
      "743/743 [==============================] - 8s 11ms/step - loss: 0.0289 - acc: 0.9953 - val_loss: 0.8276 - val_acc: 0.9500\n",
      "Epoch 217/250\n",
      "743/743 [==============================] - 8s 11ms/step - loss: 0.0251 - acc: 0.9960 - val_loss: 1.0355 - val_acc: 0.9488\n",
      "Epoch 218/250\n",
      "743/743 [==============================] - 8s 11ms/step - loss: 0.0342 - acc: 0.9960 - val_loss: 0.7391 - val_acc: 0.9460\n",
      "Epoch 219/250\n",
      "743/743 [==============================] - 8s 11ms/step - loss: 0.0317 - acc: 0.9952 - val_loss: 0.8178 - val_acc: 0.9512\n",
      "Epoch 220/250\n",
      "743/743 [==============================] - 8s 11ms/step - loss: 0.0372 - acc: 0.9949 - val_loss: 0.8045 - val_acc: 0.9488\n",
      "Epoch 221/250\n",
      "743/743 [==============================] - 9s 11ms/step - loss: 0.0417 - acc: 0.9945 - val_loss: 0.8890 - val_acc: 0.9484\n",
      "Epoch 222/250\n",
      "743/743 [==============================] - 8s 11ms/step - loss: 0.0232 - acc: 0.9961 - val_loss: 1.0646 - val_acc: 0.9480\n",
      "Epoch 223/250\n",
      "743/743 [==============================] - 9s 11ms/step - loss: 0.0341 - acc: 0.9952 - val_loss: 0.7917 - val_acc: 0.9500\n",
      "Epoch 224/250\n",
      "743/743 [==============================] - 8s 11ms/step - loss: 0.0249 - acc: 0.9956 - val_loss: 0.8566 - val_acc: 0.9544\n",
      "Epoch 225/250\n",
      "743/743 [==============================] - 8s 11ms/step - loss: 0.0255 - acc: 0.9959 - val_loss: 0.8433 - val_acc: 0.9468\n",
      "Epoch 226/250\n",
      "743/743 [==============================] - 8s 11ms/step - loss: 0.0287 - acc: 0.9954 - val_loss: 0.7371 - val_acc: 0.9496\n",
      "Epoch 227/250\n",
      "743/743 [==============================] - 8s 11ms/step - loss: 0.0328 - acc: 0.9950 - val_loss: 0.7759 - val_acc: 0.9440\n",
      "Epoch 228/250\n",
      "743/743 [==============================] - 8s 11ms/step - loss: 0.0324 - acc: 0.9952 - val_loss: 0.7824 - val_acc: 0.9496\n",
      "Epoch 229/250\n",
      "743/743 [==============================] - 9s 12ms/step - loss: 0.0327 - acc: 0.9950 - val_loss: 0.7272 - val_acc: 0.9524\n",
      "Epoch 230/250\n",
      "743/743 [==============================] - 9s 12ms/step - loss: 0.0258 - acc: 0.9961 - val_loss: 0.7024 - val_acc: 0.9520\n",
      "Epoch 231/250\n",
      "743/743 [==============================] - 9s 12ms/step - loss: 0.0343 - acc: 0.9957 - val_loss: 0.7542 - val_acc: 0.9524\n",
      "Epoch 232/250\n",
      "743/743 [==============================] - 8s 11ms/step - loss: 0.0270 - acc: 0.9956 - val_loss: 0.8346 - val_acc: 0.9516\n",
      "Epoch 233/250\n",
      "743/743 [==============================] - 9s 12ms/step - loss: 0.0265 - acc: 0.9950 - val_loss: 0.8453 - val_acc: 0.9520\n",
      "Epoch 234/250\n",
      "743/743 [==============================] - 9s 12ms/step - loss: 0.0395 - acc: 0.9941 - val_loss: 0.7855 - val_acc: 0.9524\n",
      "Epoch 235/250\n",
      "743/743 [==============================] - 9s 12ms/step - loss: 0.0308 - acc: 0.9952 - val_loss: 0.7021 - val_acc: 0.9508\n",
      "Epoch 236/250\n",
      "743/743 [==============================] - 9s 12ms/step - loss: 0.0394 - acc: 0.9942 - val_loss: 0.8414 - val_acc: 0.9440\n",
      "Epoch 237/250\n",
      "743/743 [==============================] - 9s 12ms/step - loss: 0.0421 - acc: 0.9941 - val_loss: 0.7624 - val_acc: 0.9448\n",
      "Epoch 238/250\n",
      "743/743 [==============================] - 9s 12ms/step - loss: 0.0299 - acc: 0.9951 - val_loss: 0.6650 - val_acc: 0.9516\n",
      "Epoch 239/250\n",
      "743/743 [==============================] - 9s 12ms/step - loss: 0.0373 - acc: 0.9963 - val_loss: 0.8094 - val_acc: 0.9508\n",
      "Epoch 240/250\n",
      "743/743 [==============================] - 9s 12ms/step - loss: 0.0296 - acc: 0.9964 - val_loss: 0.8001 - val_acc: 0.9492\n",
      "Epoch 241/250\n",
      "743/743 [==============================] - 9s 12ms/step - loss: 0.0254 - acc: 0.9961 - val_loss: 0.9792 - val_acc: 0.9452\n",
      "Epoch 242/250\n",
      "743/743 [==============================] - 9s 12ms/step - loss: 0.0184 - acc: 0.9969 - val_loss: 0.9367 - val_acc: 0.9524\n",
      "Epoch 243/250\n",
      "743/743 [==============================] - 9s 12ms/step - loss: 0.0393 - acc: 0.9949 - val_loss: 0.8637 - val_acc: 0.9420\n",
      "Epoch 244/250\n",
      "743/743 [==============================] - 9s 12ms/step - loss: 0.0383 - acc: 0.9946 - val_loss: 1.0413 - val_acc: 0.9468\n",
      "Epoch 245/250\n",
      "743/743 [==============================] - 9s 12ms/step - loss: 0.0348 - acc: 0.9947 - val_loss: 0.8773 - val_acc: 0.9484\n",
      "Epoch 246/250\n",
      "743/743 [==============================] - 9s 12ms/step - loss: 0.0393 - acc: 0.9949 - val_loss: 0.7024 - val_acc: 0.9512\n",
      "Epoch 247/250\n",
      "743/743 [==============================] - 9s 12ms/step - loss: 0.0298 - acc: 0.9959 - val_loss: 0.6560 - val_acc: 0.9532\n",
      "Epoch 248/250\n",
      "743/743 [==============================] - 9s 12ms/step - loss: 0.0338 - acc: 0.9949 - val_loss: 0.6736 - val_acc: 0.9540\n",
      "Epoch 249/250\n",
      "743/743 [==============================] - 9s 12ms/step - loss: 0.0301 - acc: 0.9954 - val_loss: 0.8020 - val_acc: 0.9500\n",
      "Epoch 250/250\n",
      "743/743 [==============================] - 9s 12ms/step - loss: 0.0305 - acc: 0.9961 - val_loss: 0.8241 - val_acc: 0.9440\n"
     ]
    }
   ],
   "source": [
    "# training = model.fit(X_train, y_train,\n",
    "#           batch_size=64, epochs=30,\n",
    "#           verbose=1, validation_data=(X_test,y_test)) ## bonne config \n",
    "\n",
    "\n",
    "training = model.fit(X_train, y_train,\n",
    "          batch_size=128, epochs=200,\n",
    "          verbose=1, validation_data=(X_test,y_test))\n",
    "          \n",
    "training = model.fit(X_train, y_train,\n",
    "          batch_size=64, epochs=250,\n",
    "          verbose=1, validation_data=(X_test,y_test)) ## bonne config "
   ]
  },
  {
   "cell_type": "code",
   "execution_count": 146,
   "metadata": {},
   "outputs": [
    {
     "name": "stdout",
     "output_type": "stream",
     "text": [
      "79/79 [==============================] - 0s 3ms/step\n",
      "[14  6  9 ...  5  7  9]\n"
     ]
    }
   ],
   "source": [
    "predictions = model.predict(X_test)\n",
    "predictions = np.argmax(predictions, axis=1)\n",
    "print(predictions)"
   ]
  },
  {
   "cell_type": "code",
   "execution_count": 147,
   "metadata": {},
   "outputs": [
    {
     "name": "stdout",
     "output_type": "stream",
     "text": [
      "Test loss: 0.824059009552002\n",
      "Test accuracy: 0.9440000057220459\n"
     ]
    }
   ],
   "source": [
    "## evaluer \n",
    "score = model.evaluate(X_test, y_test, verbose=0)\n",
    "print(\"Test loss:\", score[0])\n",
    "print(\"Test accuracy:\", score[1])"
   ]
  },
  {
   "cell_type": "code",
   "execution_count": 148,
   "metadata": {},
   "outputs": [
    {
     "name": "stdout",
     "output_type": "stream",
     "text": [
      "313/313 [==============================] - 1s 3ms/step\n",
      "[[0.0000000e+00 0.0000000e+00 0.0000000e+00 ... 1.3946840e-31\n",
      "  0.0000000e+00 7.6831093e-30]\n",
      " [0.0000000e+00 8.8326073e-25 1.3743131e-32 ... 0.0000000e+00\n",
      "  0.0000000e+00 0.0000000e+00]\n",
      " [0.0000000e+00 4.4500886e-26 7.6288567e-09 ... 9.5543906e-10\n",
      "  5.5162125e-11 0.0000000e+00]\n",
      " ...\n",
      " [0.0000000e+00 0.0000000e+00 1.1077608e-15 ... 1.9629284e-17\n",
      "  7.4358417e-18 0.0000000e+00]\n",
      " [0.0000000e+00 0.0000000e+00 5.1983172e-29 ... 0.0000000e+00\n",
      "  0.0000000e+00 0.0000000e+00]\n",
      " [0.0000000e+00 0.0000000e+00 4.2117450e-31 ... 0.0000000e+00\n",
      "  0.0000000e+00 0.0000000e+00]]\n",
      "[14  7 10 ... 10  4  6]\n"
     ]
    }
   ],
   "source": [
    "classes_pred_NN = model.predict(test_inputs)\n",
    "print(classes_pred_NN)\n",
    "classes_pred_NN = np.argmax(classes_pred_NN, axis=1)\n",
    "print(classes_pred_NN)"
   ]
  },
  {
   "cell_type": "code",
   "execution_count": 150,
   "metadata": {},
   "outputs": [],
   "source": [
    "## Pour soumettre \n",
    "# classes_pred_NN = model.predict(test_inputs)\n",
    "\n",
    "indexes = [x for x in range(10000)]\n",
    "classes = classes_pred_NN\n",
    "\n",
    "df = pd.DataFrame({\n",
    "    'Index': indexes,\n",
    "    'Class': classes})\n",
    "\n",
    "df.to_csv(\"classification_results/pred_NN_1.csv\",sep=\",\",index=False)"
   ]
  },
  {
   "cell_type": "markdown",
   "metadata": {},
   "source": [
    "## C-NN"
   ]
  },
  {
   "cell_type": "markdown",
   "metadata": {},
   "source": []
  },
  {
   "cell_type": "code",
   "execution_count": 118,
   "metadata": {},
   "outputs": [],
   "source": [
    "import numpy as np\n",
    "from tensorflow import keras\n",
    "from tensorflow.keras import layers\n"
   ]
  },
  {
   "cell_type": "code",
   "execution_count": 117,
   "metadata": {},
   "outputs": [
    {
     "name": "stdout",
     "output_type": "stream",
     "text": [
      "First 5 training labels:\n",
      " [10  9 10 10 12]\n",
      "First 5 training lables as one-hot encoded vectors:\n",
      " [[0. 0. 0. 0. 0. 0. 0. 0. 0. 0. 1. 0. 0. 0. 0. 0. 0. 0. 0.]\n",
      " [0. 0. 0. 0. 0. 0. 0. 0. 0. 1. 0. 0. 0. 0. 0. 0. 0. 0. 0.]\n",
      " [0. 0. 0. 0. 0. 0. 0. 0. 0. 0. 1. 0. 0. 0. 0. 0. 0. 0. 0.]\n",
      " [0. 0. 0. 0. 0. 0. 0. 0. 0. 0. 1. 0. 0. 0. 0. 0. 0. 0. 0.]\n",
      " [0. 0. 0. 0. 0. 0. 0. 0. 0. 0. 0. 0. 1. 0. 0. 0. 0. 0. 0.]]\n",
      "(15000, 56, 28, 1)\n"
     ]
    }
   ],
   "source": [
    "X_train, X_test, y_train, y_test = train_test_split(train_inputs, train_labels, test_size=0.30)\n",
    "print(\"First 5 training labels:\\n\", y_train[:5])\n",
    "\n",
    "num_classes = 19\n",
    "y_train = to_categorical(y_train, num_classes)\n",
    "y_test = to_categorical(y_test, num_classes)\n",
    "print(\"First 5 training lables as one-hot encoded vectors:\\n\", y_train[:5])\n",
    "\n",
    "# Model / data parameters\n",
    "num_classes = 19\n",
    "# input_shape = (28, 28, 1)\n",
    "\n",
    "\n",
    "\n",
    "# Load the data and split it between train and test sets\n",
    "# (x_train, y_train), (x_test, y_test) = keras.datasets.mnist.load_data()\n",
    "\n",
    "# Scale images to the [0, 1] range\n",
    "x_train = X_train / 255\n",
    "x_test = X_test / 255\n",
    "\n",
    "# Make sure images have shape (56, 28, 1)\n",
    "image_shape = [56,28]\n",
    "x_train = x_train.reshape(x_train.shape[0], image_shape[0], image_shape[1], 1) # 1 for depth channel\n",
    "x_test = x_test.reshape(x_test.shape[0], image_shape[0], image_shape[1], 1)\n",
    "\n",
    "\n",
    "# x_train = np.expand_dims(x_train, -1)\n",
    "# x_test = np.expand_dims(x_test, -1)\n",
    "# print(\"x_train shape:\", x_train.shape)\n",
    "# print(x_train.shape[0], \"train samples\")\n",
    "# print(x_test.shape[0], \"test samples\")\n",
    "\n",
    "# Make sure images have shape (28, 28, 1)\n",
    "# x_train = np.expand_dims(x_train, -1)\n",
    "# x_test = np.expand_dims(x_test, -1)\n",
    "# print(\"x_train shape:\", x_train.shape)\n",
    "# print(x_train.shape[0], \"train samples\")\n",
    "# print(x_test.shape[0], \"test samples\")\n",
    "\n",
    "\n",
    "\n",
    "\n",
    "\n",
    "\n"
   ]
  },
  {
   "cell_type": "code",
   "execution_count": 119,
   "metadata": {},
   "outputs": [
    {
     "name": "stdout",
     "output_type": "stream",
     "text": [
      "Model: \"sequential_6\"\n",
      "_________________________________________________________________\n",
      " Layer (type)                Output Shape              Param #   \n",
      "=================================================================\n",
      " conv2d (Conv2D)             (None, 54, 26, 32)        320       \n",
      "                                                                 \n",
      " max_pooling2d (MaxPooling2D  (None, 27, 13, 32)       0         \n",
      " )                                                               \n",
      "                                                                 \n",
      " conv2d_1 (Conv2D)           (None, 25, 11, 64)        18496     \n",
      "                                                                 \n",
      " max_pooling2d_1 (MaxPooling  (None, 12, 5, 64)        0         \n",
      " 2D)                                                             \n",
      "                                                                 \n",
      " flatten (Flatten)           (None, 3840)              0         \n",
      "                                                                 \n",
      " dropout_5 (Dropout)         (None, 3840)              0         \n",
      "                                                                 \n",
      " dense_16 (Dense)            (None, 19)                72979     \n",
      "                                                                 \n",
      "=================================================================\n",
      "Total params: 91,795\n",
      "Trainable params: 91,795\n",
      "Non-trainable params: 0\n",
      "_________________________________________________________________\n"
     ]
    }
   ],
   "source": [
    "input_shape = (image_shape[0], image_shape[1], 1) # 1 for depth channel\n",
    "model = keras.Sequential(\n",
    "    [\n",
    "        keras.Input(shape=input_shape),\n",
    "        layers.Conv2D(32, kernel_size=(3, 3), activation=\"relu\"),\n",
    "        layers.MaxPooling2D(pool_size=(2, 2)),\n",
    "        layers.Conv2D(64, kernel_size=(3, 3), activation=\"relu\"),\n",
    "        layers.MaxPooling2D(pool_size=(2, 2)),\n",
    "        layers.Flatten(),\n",
    "        layers.Dropout(0.5),\n",
    "        layers.Dense(num_classes, activation=\"softmax\"),\n",
    "    ]\n",
    ")\n",
    "\n",
    "model.summary()\n"
   ]
  },
  {
   "cell_type": "code",
   "execution_count": 120,
   "metadata": {},
   "outputs": [
    {
     "name": "stdout",
     "output_type": "stream",
     "text": [
      "Epoch 1/15\n",
      "247/247 [==============================] - 16s 61ms/step - loss: 2.8045 - accuracy: 0.0937 - val_loss: 2.8022 - val_accuracy: 0.0903\n",
      "Epoch 2/15\n",
      "247/247 [==============================] - 15s 60ms/step - loss: 2.7978 - accuracy: 0.0956 - val_loss: 2.8022 - val_accuracy: 0.0931\n",
      "Epoch 3/15\n",
      "247/247 [==============================] - 15s 61ms/step - loss: 2.7941 - accuracy: 0.0932 - val_loss: 2.7838 - val_accuracy: 0.1163\n",
      "Epoch 4/15\n",
      "247/247 [==============================] - 15s 61ms/step - loss: 2.6361 - accuracy: 0.1345 - val_loss: 2.4680 - val_accuracy: 0.1814\n",
      "Epoch 5/15\n",
      "247/247 [==============================] - 15s 61ms/step - loss: 2.3852 - accuracy: 0.2061 - val_loss: 2.2951 - val_accuracy: 0.2323\n",
      "Epoch 6/15\n",
      "247/247 [==============================] - 14s 58ms/step - loss: 2.2615 - accuracy: 0.2474 - val_loss: 2.1702 - val_accuracy: 0.2737\n",
      "Epoch 7/15\n",
      "247/247 [==============================] - 14s 58ms/step - loss: 2.1440 - accuracy: 0.2903 - val_loss: 2.0460 - val_accuracy: 0.3289\n",
      "Epoch 8/15\n",
      "247/247 [==============================] - 15s 62ms/step - loss: 2.0286 - accuracy: 0.3326 - val_loss: 1.9303 - val_accuracy: 0.3743\n",
      "Epoch 9/15\n",
      "247/247 [==============================] - 15s 60ms/step - loss: 1.9151 - accuracy: 0.3737 - val_loss: 1.8074 - val_accuracy: 0.4220\n",
      "Epoch 10/15\n",
      "247/247 [==============================] - 15s 60ms/step - loss: 1.8290 - accuracy: 0.4024 - val_loss: 1.7384 - val_accuracy: 0.4383\n",
      "Epoch 11/15\n",
      "247/247 [==============================] - 15s 60ms/step - loss: 1.7651 - accuracy: 0.4257 - val_loss: 1.6669 - val_accuracy: 0.4594\n",
      "Epoch 12/15\n",
      "247/247 [==============================] - 15s 60ms/step - loss: 1.7130 - accuracy: 0.4403 - val_loss: 1.6233 - val_accuracy: 0.4851\n",
      "Epoch 13/15\n",
      "247/247 [==============================] - 15s 60ms/step - loss: 1.6745 - accuracy: 0.4506 - val_loss: 1.5947 - val_accuracy: 0.4863\n",
      "Epoch 14/15\n",
      "247/247 [==============================] - 15s 61ms/step - loss: 1.6501 - accuracy: 0.4613 - val_loss: 1.5680 - val_accuracy: 0.4974\n",
      "Epoch 15/15\n",
      "247/247 [==============================] - 15s 61ms/step - loss: 1.6231 - accuracy: 0.4728 - val_loss: 1.5458 - val_accuracy: 0.5094\n"
     ]
    },
    {
     "data": {
      "text/plain": [
       "<keras.callbacks.History at 0x1f187fc8a60>"
      ]
     },
     "execution_count": 120,
     "metadata": {},
     "output_type": "execute_result"
    }
   ],
   "source": [
    "batch_size = 128\n",
    "epochs = 15\n",
    "\n",
    "model.compile(loss=\"categorical_crossentropy\", \n",
    "    optimizer=\"adam\", \n",
    "    metrics=[\"accuracy\"])\n",
    "\n",
    "model.fit(x_train, y_train, batch_size=batch_size, epochs=epochs, validation_split=0.1)\n",
    "\n",
    "\n"
   ]
  },
  {
   "cell_type": "code",
   "execution_count": 121,
   "metadata": {},
   "outputs": [
    {
     "name": "stdout",
     "output_type": "stream",
     "text": [
      "Test loss: 1.5245132446289062\n",
      "Test accuracy: 0.5173333287239075\n"
     ]
    }
   ],
   "source": [
    "score = model.evaluate(x_test, y_test, verbose=0)\n",
    "print(\"Test loss:\", score[0])\n",
    "print(\"Test accuracy:\", score[1])\n"
   ]
  },
  {
   "cell_type": "code",
   "execution_count": null,
   "metadata": {},
   "outputs": [],
   "source": []
  }
 ],
 "metadata": {
  "kernelspec": {
   "display_name": "Python 3.10.5 64-bit",
   "language": "python",
   "name": "python3"
  },
  "language_info": {
   "codemirror_mode": {
    "name": "ipython",
    "version": 3
   },
   "file_extension": ".py",
   "mimetype": "text/x-python",
   "name": "python",
   "nbconvert_exporter": "python",
   "pygments_lexer": "ipython3",
   "version": "3.10.5"
  },
  "orig_nbformat": 4,
  "vscode": {
   "interpreter": {
    "hash": "26de051ba29f2982a8de78e945f0abaf191376122a1563185a90213a26c5da77"
   }
  }
 },
 "nbformat": 4,
 "nbformat_minor": 2
}
