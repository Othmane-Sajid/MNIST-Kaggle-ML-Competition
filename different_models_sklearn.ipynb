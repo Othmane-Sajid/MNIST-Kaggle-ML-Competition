{
 "cells": [
  {
   "cell_type": "markdown",
   "metadata": {},
   "source": [
    "USE SKLEARN DIFFERENT MODLELS AND FIND ONE/ONES WITH BEST PERFORMANCE"
   ]
  },
  {
   "cell_type": "code",
   "execution_count": null,
   "metadata": {},
   "outputs": [],
   "source": [
    "import numpy as np\n",
    "import pandas as pd\n",
    "import math \n",
    "import sys\n",
    "import matplotlib.pyplot as plt\n",
    "import seaborn as sns \n",
    "%matplotlib inline\n"
   ]
  },
  {
   "cell_type": "code",
   "execution_count": null,
   "metadata": {},
   "outputs": [],
   "source": [
    "\"\"\"X_train = np.genfromtxt('data/train.csv',  delimiter=',')\n",
    "X_train = X_train[1:,:-1]\n",
    "\n",
    "Y_train = np.genfromtxt('data/train_result.csv',  delimiter=',')\n",
    "Y_train = Y_train[1:,-1]\n",
    "\n",
    "X_test = np.genfromtxt('data/test.csv',  delimiter=',')\n",
    "X_test = X_test[1:,:-1]\n",
    "\"\"\"\n",
    "train_inputs = pd.read_csv(\"data/train.csv\")\n",
    "train_inputs = np.array(train_inputs)[:,:-1] \n",
    "\n",
    "train_labels = pd.read_csv(\"data/train_result.csv\")\n",
    "train_labels = np.array(train_labels)[:,1] \n",
    "\n",
    "test_inputs = pd.read_csv(\"data/test.csv\")\n",
    "test_inputs = np.array(test_inputs)[:,:-1] \n",
    "\n"
   ]
  },
  {
   "cell_type": "markdown",
   "metadata": {},
   "source": [
    "-Each Image is 1568 feature-long. \n",
    "-Each image contains 2 digits.\n",
    "    - Representing a 56x28 pixel image \n",
    "\n",
    "-Each digit is a total of 784 pixel (i.e. 1568/2)\n",
    "    - Representing a 28x28 pixel image \n",
    "\n",
    "    "
   ]
  },
  {
   "cell_type": "code",
   "execution_count": null,
   "metadata": {},
   "outputs": [],
   "source": [
    "# Try displaying one image \n",
    "sampleImage = X_train[1,:]\n",
    "print(sampleImage.shape)\n",
    "fig = plt.figure\n",
    "image = np.reshape(sampleImage, (28,56))\n",
    "plt.imshow(image, cmap='gray_r')\n",
    "plt.show()"
   ]
  },
  {
   "cell_type": "markdown",
   "metadata": {},
   "source": [
    "Overview of label data. \n",
    "Labels go from 0 to 18 and we observe a bell-shaped (gaussian-like) distribution."
   ]
  },
  {
   "cell_type": "code",
   "execution_count": null,
   "metadata": {},
   "outputs": [],
   "source": [
    "# Class labels summary\n",
    "\n",
    "# sns.countplot(Y_train)\n",
    "from collections import Counter\n",
    "print(Y_train.shape)\n",
    "print(np.unique(Y_train))\n",
    "c = Counter(Y_train)\n",
    "plt.bar(c.keys(), c.values())\n",
    "plt.show()"
   ]
  },
  {
   "cell_type": "code",
   "execution_count": null,
   "metadata": {},
   "outputs": [],
   "source": [
    "# Stackoverflow suggested solution for one-hot encoding - Source : https://stackoverflow.com/questions/38592324/one-hot-encoding-using-numpy\n",
    "@staticmethod\n",
    "def get_one_hot(targets, nb_classes):\n",
    "    res = np.eye(nb_classes)[np.array(targets).reshape(-1)]\n",
    "    return res.reshape(list(targets.shape)+[nb_classes])\n",
    "\n",
    "Y_onehot_train = get_one_hot(np.int_(Y_train), np.unique(Y_train).size)"
   ]
  },
  {
   "cell_type": "markdown",
   "metadata": {},
   "source": []
  },
  {
   "cell_type": "code",
   "execution_count": null,
   "metadata": {},
   "outputs": [],
   "source": [
    "from sklearn import X ..."
   ]
  },
  {
   "cell_type": "code",
   "execution_count": null,
   "metadata": {},
   "outputs": [],
   "source": [
    "# Distribution of predictions \n",
    "from collections import Counter\n",
    "print(Y_pred_on_X_train.shape)\n",
    "print(np.unique(Y_pred_on_X_train))\n",
    "c = Counter(Y_pred_on_X_train)\n",
    "plt.bar(c.keys(), c.values())\n",
    "plt.show()"
   ]
  },
  {
   "cell_type": "code",
   "execution_count": null,
   "metadata": {},
   "outputs": [],
   "source": [
    "# Show confusion matrix beautified\n",
    "# Good result with 5000 iterations \n",
    "score = 1-errorRate\n",
    "plt.figure(figsize=(15,15))\n",
    "sns.heatmap(confmat, annot=True, \n",
    "            linewidths=.5, square = True, cmap = 'Blues_r', fmt='0.4g');\n",
    "\n",
    "plt.ylabel('Actual label')\n",
    "plt.xlabel('Predicted label')\n",
    "all_sample_title = 'Accuracy Score: {0}'.format(score)\n",
    "plt.title(all_sample_title);\n"
   ]
  },
  {
   "cell_type": "code",
   "execution_count": null,
   "metadata": {},
   "outputs": [],
   "source": [
    "\n",
    "def conf_matrix(testlabels, predlabels):\n",
    "\n",
    "    n_classes = 19 \n",
    "    matrix = np.zeros((n_classes,n_classes))\n",
    "    \n",
    "\n",
    "    for (test, pred) in zip(testlabels, predlabels):\n",
    "        # ---> Write code here\n",
    "        matrix[int(test)-1,int(pred)-1]+=1\n",
    "    return matrix\n",
    "\n"
   ]
  },
  {
   "cell_type": "code",
   "execution_count": null,
   "metadata": {},
   "outputs": [],
   "source": [
    "from sklearn.model_selection import train_test_split \n",
    "X_train, X_test, y_train, y_test = train_test_split(train_inputs, train_labels, test_size=0.30)"
   ]
  },
  {
   "cell_type": "markdown",
   "metadata": {},
   "source": [
    "## SVM"
   ]
  },
  {
   "cell_type": "code",
   "execution_count": null,
   "metadata": {},
   "outputs": [],
   "source": [
    "import sklearn.svm as svm\n",
    "from sklearn.model_selection import GridSearchCV"
   ]
  },
  {
   "cell_type": "code",
   "execution_count": null,
   "metadata": {},
   "outputs": [],
   "source": [
    "svm = svm.SVC()\n",
    "svm.fit(X_train,y_train)\n",
    "\n",
    "\n"
   ]
  },
  {
   "cell_type": "code",
   "execution_count": null,
   "metadata": {},
   "outputs": [],
   "source": [
    "classes_pred_svm = svm.predict(X_test)\n"
   ]
  },
  {
   "cell_type": "code",
   "execution_count": null,
   "metadata": {},
   "outputs": [],
   "source": [
    "def calculateError(classes_pred):\n",
    "    # Confusion Matrix\n",
    "    confmat = conf_matrix(y_test, classes_pred)\n",
    "    print('The confusion matrix is:')\n",
    "\n",
    "    plt.figure(figsize=(15,15))\n",
    "    sns.heatmap(confmat, annot=True, \n",
    "            linewidths=.5, square = True, cmap = 'Blues_r', fmt='0.4g');\n",
    "\n",
    "    plt.ylabel('Actual label')\n",
    "    plt.xlabel('Predicted label')\n",
    "            \n",
    "    # Test error\n",
    "    sum_preds = np.sum(confmat)\n",
    "    sum_correct = np.sum(np.diag(confmat))\n",
    "    print(\"The test error is \", round(100 * (1.0 - (float(sum_correct) / float(sum_preds))), 2), \"%\")\n",
    "\n",
    "\n",
    "\n",
    "calculateError(classes_pred_svm)\n"
   ]
  },
  {
   "cell_type": "code",
   "execution_count": null,
   "metadata": {},
   "outputs": [],
   "source": []
  }
 ],
 "metadata": {
  "kernelspec": {
   "display_name": "Python 3.9.12 ('base')",
   "language": "python",
   "name": "python3"
  },
  "language_info": {
   "codemirror_mode": {
    "name": "ipython",
    "version": 3
   },
   "file_extension": ".py",
   "mimetype": "text/x-python",
   "name": "python",
   "nbconvert_exporter": "python",
   "pygments_lexer": "ipython3",
   "version": "3.9.12"
  },
  "orig_nbformat": 4,
  "vscode": {
   "interpreter": {
    "hash": "7e94a632cfc3e17fd3a8b4fc2b2ce9a2973bc781361c48b475e8fce05e57a30d"
   }
  }
 },
 "nbformat": 4,
 "nbformat_minor": 2
}
